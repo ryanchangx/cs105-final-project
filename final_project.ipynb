{
 "cells": [
  {
   "cell_type": "markdown",
   "id": "50d2ff0e",
   "metadata": {},
   "source": [
    "# Project: Cuisine Classified\n",
    "Authors: \n",
    "* Ryan Chang - rchan123\n",
    "* Ryan Chandler - rchan129\n",
    "* Kunal Mittal - kmitt006\n",
    "* Fiorello Estuar - festu001\n",
    "* Kiet Lam - klam073"
   ]
  },
  {
   "cell_type": "markdown",
   "id": "6d9624b3",
   "metadata": {},
   "source": [
    "# Description\n",
    "\n",
    "This project aims to analyze the relationships between various flavors found in different foods and the cuisines that they are prominent in. "
   ]
  },
  {
   "cell_type": "markdown",
   "id": "935d68cb",
   "metadata": {},
   "source": [
    "# Reading/Cleaning Data\n",
    "This section handles any cleaning/pre-processing of data such that analysis can take place."
   ]
  },
  {
   "cell_type": "markdown",
   "id": "b17e337a",
   "metadata": {},
   "source": [
    "## Reading"
   ]
  },
  {
   "cell_type": "code",
   "execution_count": 1,
   "id": "9589e80f",
   "metadata": {},
   "outputs": [
    {
     "data": {
      "text/plain": [
       "['American',\n",
       " 'Chinese',\n",
       " 'Cuban',\n",
       " 'English',\n",
       " 'French',\n",
       " 'German',\n",
       " 'Greek',\n",
       " 'Hawaiian',\n",
       " 'Hungarian',\n",
       " 'Indian',\n",
       " 'Italian',\n",
       " 'Japanese',\n",
       " 'Mexican',\n",
       " 'Moroccan',\n",
       " 'Portuguese',\n",
       " 'Spanish',\n",
       " 'Swedish',\n",
       " 'Thai']"
      ]
     },
     "execution_count": 1,
     "metadata": {},
     "output_type": "execute_result"
    }
   ],
   "source": [
    "# importing libraries\n",
    "import numpy as np\n",
    "import pandas as pd\n",
    "from sklearn.neighbors import KNeighborsClassifier\n",
    "import plotly.express as px\n",
    "import plotly.graph_objects as go\n",
    "from plotly.subplots import make_subplots\n",
    "import json, os\n",
    "\n",
    "flavor_dict = {'piquant': [], 'meaty': [], 'bitter': [], 'sweet': [], 'sour': [], 'salty': []}\n",
    "FLAVORS = list(flavor_dict.keys())\n",
    "CUISINES = ['American','Chinese','Cuban','English','French','German','Greek','Hawaiian','Hungarian','Indian','Italian','Japanese','Mexican','Moroccan','Portuguese','Spanish','Swedish','Thai']\n",
    "CUISINES"
   ]
  },
  {
   "cell_type": "code",
   "execution_count": 2,
   "id": "b4df4616-b6cb-4321-906a-a811f4061db2",
   "metadata": {},
   "outputs": [],
   "source": [
    "# Reading in the data\n",
    "food_list_folder = 'data/lists/'\n",
    "food_list_jsons = [food_json for food_json in os.listdir(food_list_folder) if food_json.endswith('.json')]\n",
    "\n",
    "food_df = pd.DataFrame(columns=['recipeName','ingredients','cuisine','flavors'])\n",
    "\n",
    "for index, js in enumerate(food_list_jsons):\n",
    "    with open(os.path.join(food_list_folder, js)) as food_list_file:\n",
    "        food_json = json.load(food_list_file)\n",
    "        num_items = len(food_json['matches'])\n",
    "        for idx in range(0,num_items):\n",
    "            f_obj = food_json['matches'][idx]\n",
    "            f_id = f_obj['id']\n",
    "            f_recipeName = f_obj['recipeName']\n",
    "            f_ingredients = f_obj['ingredients']\n",
    "            f_cuisine = f_obj['attributes']['cuisine']\n",
    "            f_flavors = f_obj['flavors']\n",
    "            food_df.loc[f_id] =  np.array([f_recipeName,f_ingredients,f_cuisine,f_flavors],dtype=object)"
   ]
  },
  {
   "cell_type": "markdown",
   "id": "c5e98f0a",
   "metadata": {},
   "source": [
    "## Cleaning"
   ]
  },
  {
   "cell_type": "code",
   "execution_count": 3,
   "id": "bc9ba5c1-2105-4fd5-98e0-f5a2d4f3963e",
   "metadata": {},
   "outputs": [
    {
     "data": {
      "text/html": [
       "<div>\n",
       "<style scoped>\n",
       "    .dataframe tbody tr th:only-of-type {\n",
       "        vertical-align: middle;\n",
       "    }\n",
       "\n",
       "    .dataframe tbody tr th {\n",
       "        vertical-align: top;\n",
       "    }\n",
       "\n",
       "    .dataframe thead th {\n",
       "        text-align: right;\n",
       "    }\n",
       "</style>\n",
       "<table border=\"1\" class=\"dataframe\">\n",
       "  <thead>\n",
       "    <tr style=\"text-align: right;\">\n",
       "      <th></th>\n",
       "      <th>recipeName</th>\n",
       "      <th>ingredients</th>\n",
       "      <th>cuisine</th>\n",
       "      <th>flavors</th>\n",
       "    </tr>\n",
       "  </thead>\n",
       "  <tbody>\n",
       "    <tr>\n",
       "      <th>Revolutionary-Mac-_-Cheese-1048867</th>\n",
       "      <td>Revolutionary Mac &amp; Cheese</td>\n",
       "      <td>[dried pasta, milk, shredded cheddar cheese, s...</td>\n",
       "      <td>[Kid-Friendly, Italian, American]</td>\n",
       "      <td>{'piquant': 0.16666666666666666, 'meaty': 0.16...</td>\n",
       "    </tr>\n",
       "    <tr>\n",
       "      <th>Chicago-Chicken-822419</th>\n",
       "      <td>Chicago Chicken</td>\n",
       "      <td>[jalapeno chilies, lemon, dried oregano, olive...</td>\n",
       "      <td>[Barbecue, American]</td>\n",
       "      <td>{'piquant': 0.8333333333333334, 'meaty': 0.666...</td>\n",
       "    </tr>\n",
       "    <tr>\n",
       "      <th>Chicken-Avocado-Burgers-1031197</th>\n",
       "      <td>Chicken Avocado Burgers</td>\n",
       "      <td>[ground chicken, avocado, chopped garlic, pank...</td>\n",
       "      <td>[Barbecue, Mexican, American]</td>\n",
       "      <td>{'piquant': 0.6666666666666666, 'meaty': 1.0, ...</td>\n",
       "    </tr>\n",
       "    <tr>\n",
       "      <th>Best-Basic-Burger-500667</th>\n",
       "      <td>Best Basic Burger</td>\n",
       "      <td>[ground beef, eggs, salt, ground black pepper,...</td>\n",
       "      <td>[Barbecue, American]</td>\n",
       "      <td>{'piquant': 0.8333333333333334, 'meaty': 0.833...</td>\n",
       "    </tr>\n",
       "    <tr>\n",
       "      <th>Easy-garlic-and-lemon-shrimp-309257</th>\n",
       "      <td>Easy Garlic and Lemon Shrimp</td>\n",
       "      <td>[jumbo shrimp, olive oil, butter, minced garli...</td>\n",
       "      <td>[Barbecue, Italian, Asian, American]</td>\n",
       "      <td>{'piquant': 0.0, 'meaty': 0.8333333333333334, ...</td>\n",
       "    </tr>\n",
       "  </tbody>\n",
       "</table>\n",
       "</div>"
      ],
      "text/plain": [
       "                                                       recipeName  \\\n",
       "Revolutionary-Mac-_-Cheese-1048867     Revolutionary Mac & Cheese   \n",
       "Chicago-Chicken-822419                            Chicago Chicken   \n",
       "Chicken-Avocado-Burgers-1031197           Chicken Avocado Burgers   \n",
       "Best-Basic-Burger-500667                        Best Basic Burger   \n",
       "Easy-garlic-and-lemon-shrimp-309257  Easy Garlic and Lemon Shrimp   \n",
       "\n",
       "                                                                           ingredients  \\\n",
       "Revolutionary-Mac-_-Cheese-1048867   [dried pasta, milk, shredded cheddar cheese, s...   \n",
       "Chicago-Chicken-822419               [jalapeno chilies, lemon, dried oregano, olive...   \n",
       "Chicken-Avocado-Burgers-1031197      [ground chicken, avocado, chopped garlic, pank...   \n",
       "Best-Basic-Burger-500667             [ground beef, eggs, salt, ground black pepper,...   \n",
       "Easy-garlic-and-lemon-shrimp-309257  [jumbo shrimp, olive oil, butter, minced garli...   \n",
       "\n",
       "                                                                  cuisine  \\\n",
       "Revolutionary-Mac-_-Cheese-1048867      [Kid-Friendly, Italian, American]   \n",
       "Chicago-Chicken-822419                               [Barbecue, American]   \n",
       "Chicken-Avocado-Burgers-1031197             [Barbecue, Mexican, American]   \n",
       "Best-Basic-Burger-500667                             [Barbecue, American]   \n",
       "Easy-garlic-and-lemon-shrimp-309257  [Barbecue, Italian, Asian, American]   \n",
       "\n",
       "                                                                               flavors  \n",
       "Revolutionary-Mac-_-Cheese-1048867   {'piquant': 0.16666666666666666, 'meaty': 0.16...  \n",
       "Chicago-Chicken-822419               {'piquant': 0.8333333333333334, 'meaty': 0.666...  \n",
       "Chicken-Avocado-Burgers-1031197      {'piquant': 0.6666666666666666, 'meaty': 1.0, ...  \n",
       "Best-Basic-Burger-500667             {'piquant': 0.8333333333333334, 'meaty': 0.833...  \n",
       "Easy-garlic-and-lemon-shrimp-309257  {'piquant': 0.0, 'meaty': 0.8333333333333334, ...  "
      ]
     },
     "execution_count": 3,
     "metadata": {},
     "output_type": "execute_result"
    }
   ],
   "source": [
    "# dropping all rows that do not have labels\n",
    "food_df = food_df[food_df['flavors'].notna()]\n",
    "food_df.head()"
   ]
  },
  {
   "cell_type": "code",
   "execution_count": 4,
   "id": "51c40d2b",
   "metadata": {},
   "outputs": [],
   "source": [
    "# clean the flavors\n",
    "flavor_dict = {'piquant': [], 'meaty': [], 'bitter': [], 'sweet': [], 'sour': [], 'salty': []}\n",
    "for flavors in food_df.flavors:    \n",
    "    for specificFlavor in flavors:\n",
    "        flavor_dict[specificFlavor].append(flavors[specificFlavor])\n",
    "\n",
    "for flavorKey in flavor_dict:\n",
    "    try:\n",
    "        food_df.insert(len(food_df.columns), flavorKey, flavor_dict[flavorKey])\n",
    "    except:\n",
    "        pass\n",
    "\n",
    "food_df.drop(columns = [\"flavors\"], inplace=True)"
   ]
  },
  {
   "cell_type": "code",
   "execution_count": 5,
   "id": "4ad7f2ec",
   "metadata": {},
   "outputs": [
    {
     "data": {
      "text/html": [
       "<div>\n",
       "<style scoped>\n",
       "    .dataframe tbody tr th:only-of-type {\n",
       "        vertical-align: middle;\n",
       "    }\n",
       "\n",
       "    .dataframe tbody tr th {\n",
       "        vertical-align: top;\n",
       "    }\n",
       "\n",
       "    .dataframe thead th {\n",
       "        text-align: right;\n",
       "    }\n",
       "</style>\n",
       "<table border=\"1\" class=\"dataframe\">\n",
       "  <thead>\n",
       "    <tr style=\"text-align: right;\">\n",
       "      <th></th>\n",
       "      <th>recipeName</th>\n",
       "      <th>ingredients</th>\n",
       "      <th>cuisine</th>\n",
       "      <th>piquant</th>\n",
       "      <th>meaty</th>\n",
       "      <th>bitter</th>\n",
       "      <th>sweet</th>\n",
       "      <th>sour</th>\n",
       "      <th>salty</th>\n",
       "      <th>American</th>\n",
       "      <th>...</th>\n",
       "      <th>Hungarian</th>\n",
       "      <th>Indian</th>\n",
       "      <th>Italian</th>\n",
       "      <th>Japanese</th>\n",
       "      <th>Mexican</th>\n",
       "      <th>Moroccan</th>\n",
       "      <th>Portuguese</th>\n",
       "      <th>Spanish</th>\n",
       "      <th>Swedish</th>\n",
       "      <th>Thai</th>\n",
       "    </tr>\n",
       "  </thead>\n",
       "  <tbody>\n",
       "    <tr>\n",
       "      <th>Revolutionary-Mac-_-Cheese-1048867</th>\n",
       "      <td>Revolutionary Mac &amp; Cheese</td>\n",
       "      <td>[dried pasta, milk, shredded cheddar cheese, s...</td>\n",
       "      <td>[Kid-Friendly, Italian, American]</td>\n",
       "      <td>0.166667</td>\n",
       "      <td>0.166667</td>\n",
       "      <td>0.666667</td>\n",
       "      <td>0.166667</td>\n",
       "      <td>0.166667</td>\n",
       "      <td>0.833333</td>\n",
       "      <td>1.0</td>\n",
       "      <td>...</td>\n",
       "      <td>0.0</td>\n",
       "      <td>0.0</td>\n",
       "      <td>1.0</td>\n",
       "      <td>0.0</td>\n",
       "      <td>0.0</td>\n",
       "      <td>0.0</td>\n",
       "      <td>0.0</td>\n",
       "      <td>0.0</td>\n",
       "      <td>0.0</td>\n",
       "      <td>0.0</td>\n",
       "    </tr>\n",
       "    <tr>\n",
       "      <th>Chicago-Chicken-822419</th>\n",
       "      <td>Chicago Chicken</td>\n",
       "      <td>[jalapeno chilies, lemon, dried oregano, olive...</td>\n",
       "      <td>[Barbecue, American]</td>\n",
       "      <td>0.833333</td>\n",
       "      <td>0.666667</td>\n",
       "      <td>0.166667</td>\n",
       "      <td>0.000000</td>\n",
       "      <td>0.833333</td>\n",
       "      <td>0.166667</td>\n",
       "      <td>1.0</td>\n",
       "      <td>...</td>\n",
       "      <td>0.0</td>\n",
       "      <td>0.0</td>\n",
       "      <td>0.0</td>\n",
       "      <td>0.0</td>\n",
       "      <td>0.0</td>\n",
       "      <td>0.0</td>\n",
       "      <td>0.0</td>\n",
       "      <td>0.0</td>\n",
       "      <td>0.0</td>\n",
       "      <td>0.0</td>\n",
       "    </tr>\n",
       "    <tr>\n",
       "      <th>Chicken-Avocado-Burgers-1031197</th>\n",
       "      <td>Chicken Avocado Burgers</td>\n",
       "      <td>[ground chicken, avocado, chopped garlic, pank...</td>\n",
       "      <td>[Barbecue, Mexican, American]</td>\n",
       "      <td>0.666667</td>\n",
       "      <td>1.000000</td>\n",
       "      <td>1.000000</td>\n",
       "      <td>1.000000</td>\n",
       "      <td>1.000000</td>\n",
       "      <td>1.000000</td>\n",
       "      <td>1.0</td>\n",
       "      <td>...</td>\n",
       "      <td>0.0</td>\n",
       "      <td>0.0</td>\n",
       "      <td>0.0</td>\n",
       "      <td>0.0</td>\n",
       "      <td>1.0</td>\n",
       "      <td>0.0</td>\n",
       "      <td>0.0</td>\n",
       "      <td>0.0</td>\n",
       "      <td>0.0</td>\n",
       "      <td>0.0</td>\n",
       "    </tr>\n",
       "    <tr>\n",
       "      <th>Best-Basic-Burger-500667</th>\n",
       "      <td>Best Basic Burger</td>\n",
       "      <td>[ground beef, eggs, salt, ground black pepper,...</td>\n",
       "      <td>[Barbecue, American]</td>\n",
       "      <td>0.833333</td>\n",
       "      <td>0.833333</td>\n",
       "      <td>0.666667</td>\n",
       "      <td>0.166667</td>\n",
       "      <td>0.166667</td>\n",
       "      <td>0.833333</td>\n",
       "      <td>1.0</td>\n",
       "      <td>...</td>\n",
       "      <td>0.0</td>\n",
       "      <td>0.0</td>\n",
       "      <td>0.0</td>\n",
       "      <td>0.0</td>\n",
       "      <td>0.0</td>\n",
       "      <td>0.0</td>\n",
       "      <td>0.0</td>\n",
       "      <td>0.0</td>\n",
       "      <td>0.0</td>\n",
       "      <td>0.0</td>\n",
       "    </tr>\n",
       "    <tr>\n",
       "      <th>Easy-garlic-and-lemon-shrimp-309257</th>\n",
       "      <td>Easy Garlic and Lemon Shrimp</td>\n",
       "      <td>[jumbo shrimp, olive oil, butter, minced garli...</td>\n",
       "      <td>[Barbecue, Italian, Asian, American]</td>\n",
       "      <td>0.000000</td>\n",
       "      <td>0.833333</td>\n",
       "      <td>0.333333</td>\n",
       "      <td>0.166667</td>\n",
       "      <td>0.500000</td>\n",
       "      <td>0.666667</td>\n",
       "      <td>1.0</td>\n",
       "      <td>...</td>\n",
       "      <td>0.0</td>\n",
       "      <td>0.0</td>\n",
       "      <td>1.0</td>\n",
       "      <td>0.0</td>\n",
       "      <td>0.0</td>\n",
       "      <td>0.0</td>\n",
       "      <td>0.0</td>\n",
       "      <td>0.0</td>\n",
       "      <td>0.0</td>\n",
       "      <td>0.0</td>\n",
       "    </tr>\n",
       "  </tbody>\n",
       "</table>\n",
       "<p>5 rows × 27 columns</p>\n",
       "</div>"
      ],
      "text/plain": [
       "                                                       recipeName  \\\n",
       "Revolutionary-Mac-_-Cheese-1048867     Revolutionary Mac & Cheese   \n",
       "Chicago-Chicken-822419                            Chicago Chicken   \n",
       "Chicken-Avocado-Burgers-1031197           Chicken Avocado Burgers   \n",
       "Best-Basic-Burger-500667                        Best Basic Burger   \n",
       "Easy-garlic-and-lemon-shrimp-309257  Easy Garlic and Lemon Shrimp   \n",
       "\n",
       "                                                                           ingredients  \\\n",
       "Revolutionary-Mac-_-Cheese-1048867   [dried pasta, milk, shredded cheddar cheese, s...   \n",
       "Chicago-Chicken-822419               [jalapeno chilies, lemon, dried oregano, olive...   \n",
       "Chicken-Avocado-Burgers-1031197      [ground chicken, avocado, chopped garlic, pank...   \n",
       "Best-Basic-Burger-500667             [ground beef, eggs, salt, ground black pepper,...   \n",
       "Easy-garlic-and-lemon-shrimp-309257  [jumbo shrimp, olive oil, butter, minced garli...   \n",
       "\n",
       "                                                                  cuisine  \\\n",
       "Revolutionary-Mac-_-Cheese-1048867      [Kid-Friendly, Italian, American]   \n",
       "Chicago-Chicken-822419                               [Barbecue, American]   \n",
       "Chicken-Avocado-Burgers-1031197             [Barbecue, Mexican, American]   \n",
       "Best-Basic-Burger-500667                             [Barbecue, American]   \n",
       "Easy-garlic-and-lemon-shrimp-309257  [Barbecue, Italian, Asian, American]   \n",
       "\n",
       "                                      piquant     meaty    bitter     sweet  \\\n",
       "Revolutionary-Mac-_-Cheese-1048867   0.166667  0.166667  0.666667  0.166667   \n",
       "Chicago-Chicken-822419               0.833333  0.666667  0.166667  0.000000   \n",
       "Chicken-Avocado-Burgers-1031197      0.666667  1.000000  1.000000  1.000000   \n",
       "Best-Basic-Burger-500667             0.833333  0.833333  0.666667  0.166667   \n",
       "Easy-garlic-and-lemon-shrimp-309257  0.000000  0.833333  0.333333  0.166667   \n",
       "\n",
       "                                         sour     salty  American  ...  \\\n",
       "Revolutionary-Mac-_-Cheese-1048867   0.166667  0.833333       1.0  ...   \n",
       "Chicago-Chicken-822419               0.833333  0.166667       1.0  ...   \n",
       "Chicken-Avocado-Burgers-1031197      1.000000  1.000000       1.0  ...   \n",
       "Best-Basic-Burger-500667             0.166667  0.833333       1.0  ...   \n",
       "Easy-garlic-and-lemon-shrimp-309257  0.500000  0.666667       1.0  ...   \n",
       "\n",
       "                                     Hungarian  Indian  Italian  Japanese  \\\n",
       "Revolutionary-Mac-_-Cheese-1048867         0.0     0.0      1.0       0.0   \n",
       "Chicago-Chicken-822419                     0.0     0.0      0.0       0.0   \n",
       "Chicken-Avocado-Burgers-1031197            0.0     0.0      0.0       0.0   \n",
       "Best-Basic-Burger-500667                   0.0     0.0      0.0       0.0   \n",
       "Easy-garlic-and-lemon-shrimp-309257        0.0     0.0      1.0       0.0   \n",
       "\n",
       "                                     Mexican  Moroccan  Portuguese  Spanish  \\\n",
       "Revolutionary-Mac-_-Cheese-1048867       0.0       0.0         0.0      0.0   \n",
       "Chicago-Chicken-822419                   0.0       0.0         0.0      0.0   \n",
       "Chicken-Avocado-Burgers-1031197          1.0       0.0         0.0      0.0   \n",
       "Best-Basic-Burger-500667                 0.0       0.0         0.0      0.0   \n",
       "Easy-garlic-and-lemon-shrimp-309257      0.0       0.0         0.0      0.0   \n",
       "\n",
       "                                     Swedish  Thai  \n",
       "Revolutionary-Mac-_-Cheese-1048867       0.0   0.0  \n",
       "Chicago-Chicken-822419                   0.0   0.0  \n",
       "Chicken-Avocado-Burgers-1031197          0.0   0.0  \n",
       "Best-Basic-Burger-500667                 0.0   0.0  \n",
       "Easy-garlic-and-lemon-shrimp-309257      0.0   0.0  \n",
       "\n",
       "[5 rows x 27 columns]"
      ]
     },
     "execution_count": 5,
     "metadata": {},
     "output_type": "execute_result"
    }
   ],
   "source": [
    "# clean the cuisines, give each it's own column and label 0 or 1 based on presence\n",
    "for cus in CUISINES:\n",
    "    for key, cus_list in food_df.iterrows():\n",
    "        food_df.loc[key,cus] = 1 if cus in cus_list['cuisine'] else 0\n",
    "food_df.head()"
   ]
  },
  {
   "cell_type": "code",
   "execution_count": 6,
   "id": "31cb8005",
   "metadata": {},
   "outputs": [
    {
     "data": {
      "text/html": [
       "<div>\n",
       "<style scoped>\n",
       "    .dataframe tbody tr th:only-of-type {\n",
       "        vertical-align: middle;\n",
       "    }\n",
       "\n",
       "    .dataframe tbody tr th {\n",
       "        vertical-align: top;\n",
       "    }\n",
       "\n",
       "    .dataframe thead th {\n",
       "        text-align: right;\n",
       "    }\n",
       "</style>\n",
       "<table border=\"1\" class=\"dataframe\">\n",
       "  <thead>\n",
       "    <tr style=\"text-align: right;\">\n",
       "      <th></th>\n",
       "      <th>recipeName</th>\n",
       "      <th>ingredients</th>\n",
       "      <th>cuisine</th>\n",
       "      <th>piquant</th>\n",
       "      <th>meaty</th>\n",
       "      <th>bitter</th>\n",
       "      <th>sweet</th>\n",
       "      <th>sour</th>\n",
       "      <th>salty</th>\n",
       "      <th>American</th>\n",
       "      <th>...</th>\n",
       "      <th>Hungarian</th>\n",
       "      <th>Indian</th>\n",
       "      <th>Italian</th>\n",
       "      <th>Japanese</th>\n",
       "      <th>Mexican</th>\n",
       "      <th>Moroccan</th>\n",
       "      <th>Portuguese</th>\n",
       "      <th>Spanish</th>\n",
       "      <th>Swedish</th>\n",
       "      <th>Thai</th>\n",
       "    </tr>\n",
       "  </thead>\n",
       "  <tbody>\n",
       "    <tr>\n",
       "      <th>Revolutionary-Mac-_-Cheese-1048867</th>\n",
       "      <td>Revolutionary Mac &amp; Cheese</td>\n",
       "      <td>[dried pasta, milk, shredded cheddar cheese, s...</td>\n",
       "      <td>[Kid-Friendly, Italian, American]</td>\n",
       "      <td>0.166667</td>\n",
       "      <td>0.166667</td>\n",
       "      <td>0.666667</td>\n",
       "      <td>0.166667</td>\n",
       "      <td>0.166667</td>\n",
       "      <td>0.833333</td>\n",
       "      <td>1.0</td>\n",
       "      <td>...</td>\n",
       "      <td>0.0</td>\n",
       "      <td>0.0</td>\n",
       "      <td>1.0</td>\n",
       "      <td>0.0</td>\n",
       "      <td>0.0</td>\n",
       "      <td>0.0</td>\n",
       "      <td>0.0</td>\n",
       "      <td>0.0</td>\n",
       "      <td>0.0</td>\n",
       "      <td>0.0</td>\n",
       "    </tr>\n",
       "    <tr>\n",
       "      <th>Chicago-Chicken-822419</th>\n",
       "      <td>Chicago Chicken</td>\n",
       "      <td>[jalapeno chilies, lemon, dried oregano, olive...</td>\n",
       "      <td>[Barbecue, American]</td>\n",
       "      <td>0.833333</td>\n",
       "      <td>0.666667</td>\n",
       "      <td>0.166667</td>\n",
       "      <td>0.000000</td>\n",
       "      <td>0.833333</td>\n",
       "      <td>0.166667</td>\n",
       "      <td>1.0</td>\n",
       "      <td>...</td>\n",
       "      <td>0.0</td>\n",
       "      <td>0.0</td>\n",
       "      <td>0.0</td>\n",
       "      <td>0.0</td>\n",
       "      <td>0.0</td>\n",
       "      <td>0.0</td>\n",
       "      <td>0.0</td>\n",
       "      <td>0.0</td>\n",
       "      <td>0.0</td>\n",
       "      <td>0.0</td>\n",
       "    </tr>\n",
       "    <tr>\n",
       "      <th>Chicken-Avocado-Burgers-1031197</th>\n",
       "      <td>Chicken Avocado Burgers</td>\n",
       "      <td>[ground chicken, avocado, chopped garlic, pank...</td>\n",
       "      <td>[Barbecue, Mexican, American]</td>\n",
       "      <td>0.666667</td>\n",
       "      <td>1.000000</td>\n",
       "      <td>1.000000</td>\n",
       "      <td>1.000000</td>\n",
       "      <td>1.000000</td>\n",
       "      <td>1.000000</td>\n",
       "      <td>1.0</td>\n",
       "      <td>...</td>\n",
       "      <td>0.0</td>\n",
       "      <td>0.0</td>\n",
       "      <td>0.0</td>\n",
       "      <td>0.0</td>\n",
       "      <td>1.0</td>\n",
       "      <td>0.0</td>\n",
       "      <td>0.0</td>\n",
       "      <td>0.0</td>\n",
       "      <td>0.0</td>\n",
       "      <td>0.0</td>\n",
       "    </tr>\n",
       "    <tr>\n",
       "      <th>Best-Basic-Burger-500667</th>\n",
       "      <td>Best Basic Burger</td>\n",
       "      <td>[ground beef, eggs, salt, ground black pepper,...</td>\n",
       "      <td>[Barbecue, American]</td>\n",
       "      <td>0.833333</td>\n",
       "      <td>0.833333</td>\n",
       "      <td>0.666667</td>\n",
       "      <td>0.166667</td>\n",
       "      <td>0.166667</td>\n",
       "      <td>0.833333</td>\n",
       "      <td>1.0</td>\n",
       "      <td>...</td>\n",
       "      <td>0.0</td>\n",
       "      <td>0.0</td>\n",
       "      <td>0.0</td>\n",
       "      <td>0.0</td>\n",
       "      <td>0.0</td>\n",
       "      <td>0.0</td>\n",
       "      <td>0.0</td>\n",
       "      <td>0.0</td>\n",
       "      <td>0.0</td>\n",
       "      <td>0.0</td>\n",
       "    </tr>\n",
       "    <tr>\n",
       "      <th>Easy-garlic-and-lemon-shrimp-309257</th>\n",
       "      <td>Easy Garlic and Lemon Shrimp</td>\n",
       "      <td>[jumbo shrimp, olive oil, butter, minced garli...</td>\n",
       "      <td>[Barbecue, Italian, Asian, American]</td>\n",
       "      <td>0.000000</td>\n",
       "      <td>0.833333</td>\n",
       "      <td>0.333333</td>\n",
       "      <td>0.166667</td>\n",
       "      <td>0.500000</td>\n",
       "      <td>0.666667</td>\n",
       "      <td>1.0</td>\n",
       "      <td>...</td>\n",
       "      <td>0.0</td>\n",
       "      <td>0.0</td>\n",
       "      <td>1.0</td>\n",
       "      <td>0.0</td>\n",
       "      <td>0.0</td>\n",
       "      <td>0.0</td>\n",
       "      <td>0.0</td>\n",
       "      <td>0.0</td>\n",
       "      <td>0.0</td>\n",
       "      <td>0.0</td>\n",
       "    </tr>\n",
       "  </tbody>\n",
       "</table>\n",
       "<p>5 rows × 27 columns</p>\n",
       "</div>"
      ],
      "text/plain": [
       "                                                       recipeName  \\\n",
       "Revolutionary-Mac-_-Cheese-1048867     Revolutionary Mac & Cheese   \n",
       "Chicago-Chicken-822419                            Chicago Chicken   \n",
       "Chicken-Avocado-Burgers-1031197           Chicken Avocado Burgers   \n",
       "Best-Basic-Burger-500667                        Best Basic Burger   \n",
       "Easy-garlic-and-lemon-shrimp-309257  Easy Garlic and Lemon Shrimp   \n",
       "\n",
       "                                                                           ingredients  \\\n",
       "Revolutionary-Mac-_-Cheese-1048867   [dried pasta, milk, shredded cheddar cheese, s...   \n",
       "Chicago-Chicken-822419               [jalapeno chilies, lemon, dried oregano, olive...   \n",
       "Chicken-Avocado-Burgers-1031197      [ground chicken, avocado, chopped garlic, pank...   \n",
       "Best-Basic-Burger-500667             [ground beef, eggs, salt, ground black pepper,...   \n",
       "Easy-garlic-and-lemon-shrimp-309257  [jumbo shrimp, olive oil, butter, minced garli...   \n",
       "\n",
       "                                                                  cuisine  \\\n",
       "Revolutionary-Mac-_-Cheese-1048867      [Kid-Friendly, Italian, American]   \n",
       "Chicago-Chicken-822419                               [Barbecue, American]   \n",
       "Chicken-Avocado-Burgers-1031197             [Barbecue, Mexican, American]   \n",
       "Best-Basic-Burger-500667                             [Barbecue, American]   \n",
       "Easy-garlic-and-lemon-shrimp-309257  [Barbecue, Italian, Asian, American]   \n",
       "\n",
       "                                      piquant     meaty    bitter     sweet  \\\n",
       "Revolutionary-Mac-_-Cheese-1048867   0.166667  0.166667  0.666667  0.166667   \n",
       "Chicago-Chicken-822419               0.833333  0.666667  0.166667  0.000000   \n",
       "Chicken-Avocado-Burgers-1031197      0.666667  1.000000  1.000000  1.000000   \n",
       "Best-Basic-Burger-500667             0.833333  0.833333  0.666667  0.166667   \n",
       "Easy-garlic-and-lemon-shrimp-309257  0.000000  0.833333  0.333333  0.166667   \n",
       "\n",
       "                                         sour     salty  American  ...  \\\n",
       "Revolutionary-Mac-_-Cheese-1048867   0.166667  0.833333       1.0  ...   \n",
       "Chicago-Chicken-822419               0.833333  0.166667       1.0  ...   \n",
       "Chicken-Avocado-Burgers-1031197      1.000000  1.000000       1.0  ...   \n",
       "Best-Basic-Burger-500667             0.166667  0.833333       1.0  ...   \n",
       "Easy-garlic-and-lemon-shrimp-309257  0.500000  0.666667       1.0  ...   \n",
       "\n",
       "                                     Hungarian  Indian  Italian  Japanese  \\\n",
       "Revolutionary-Mac-_-Cheese-1048867         0.0     0.0      1.0       0.0   \n",
       "Chicago-Chicken-822419                     0.0     0.0      0.0       0.0   \n",
       "Chicken-Avocado-Burgers-1031197            0.0     0.0      0.0       0.0   \n",
       "Best-Basic-Burger-500667                   0.0     0.0      0.0       0.0   \n",
       "Easy-garlic-and-lemon-shrimp-309257        0.0     0.0      1.0       0.0   \n",
       "\n",
       "                                     Mexican  Moroccan  Portuguese  Spanish  \\\n",
       "Revolutionary-Mac-_-Cheese-1048867       0.0       0.0         0.0      0.0   \n",
       "Chicago-Chicken-822419                   0.0       0.0         0.0      0.0   \n",
       "Chicken-Avocado-Burgers-1031197          1.0       0.0         0.0      0.0   \n",
       "Best-Basic-Burger-500667                 0.0       0.0         0.0      0.0   \n",
       "Easy-garlic-and-lemon-shrimp-309257      0.0       0.0         0.0      0.0   \n",
       "\n",
       "                                     Swedish  Thai  \n",
       "Revolutionary-Mac-_-Cheese-1048867       0.0   0.0  \n",
       "Chicago-Chicken-822419                   0.0   0.0  \n",
       "Chicken-Avocado-Burgers-1031197          0.0   0.0  \n",
       "Best-Basic-Burger-500667                 0.0   0.0  \n",
       "Easy-garlic-and-lemon-shrimp-309257      0.0   0.0  \n",
       "\n",
       "[5 rows x 27 columns]"
      ]
     },
     "execution_count": 6,
     "metadata": {},
     "output_type": "execute_result"
    }
   ],
   "source": [
    "testing_df_kunal = food_df.copy()\n",
    "\n",
    "def filterCuisines(df):\n",
    "    newCol = []\n",
    "    for cuisineList in df[\"cuisine\"]:\n",
    "        temp = []\n",
    "        for cuisine in cuisineList:\n",
    "            if cuisine in CUISINES:\n",
    "                temp.append(cuisine)\n",
    "        newCol.append(temp)\n",
    "    return newCol\n",
    "\n",
    "testing_df_kunal.assign(CleanedCuisine=filterCuisines, inplace=True)\n",
    "testing_df_kunal.head()\n",
    "\n"
   ]
  },
  {
   "cell_type": "markdown",
   "id": "84727b57",
   "metadata": {},
   "source": [
    "# Elementary Data Analysis"
   ]
  },
  {
   "cell_type": "code",
   "execution_count": 7,
   "id": "8ad07f10-c603-41f8-9c67-30223b8c36f6",
   "metadata": {},
   "outputs": [],
   "source": [
    "# cuisines\n",
    "#   v1. which are the top n cuisines (frequency) in the dataset\n",
    "#   v2. which cuisines have higher amounts of fusion.\n",
    "\n",
    "# flavor\n",
    "#   v1. MMM - using every recipe together at first (broken down by cuisine)\n",
    "#       - flavors: broken down into the 6 categories\n",
    "#   v2. for each of the cuisines, visualize the flavors - spider graph\n",
    "#   v3. ??? \n",
    "\n",
    "# ingredients\n",
    "#   v1. MMM\n",
    "#   v2. \n"
   ]
  },
  {
   "cell_type": "code",
   "execution_count": 36,
   "id": "500492c2",
   "metadata": {},
   "outputs": [
    {
     "data": {
      "text/html": [
       "<div>\n",
       "<style scoped>\n",
       "    .dataframe tbody tr th:only-of-type {\n",
       "        vertical-align: middle;\n",
       "    }\n",
       "\n",
       "    .dataframe tbody tr th {\n",
       "        vertical-align: top;\n",
       "    }\n",
       "\n",
       "    .dataframe thead th {\n",
       "        text-align: right;\n",
       "    }\n",
       "</style>\n",
       "<table border=\"1\" class=\"dataframe\">\n",
       "  <thead>\n",
       "    <tr style=\"text-align: right;\">\n",
       "      <th></th>\n",
       "      <th>Cuisine</th>\n",
       "      <th>Proportion</th>\n",
       "    </tr>\n",
       "  </thead>\n",
       "  <tbody>\n",
       "    <tr>\n",
       "      <th>5</th>\n",
       "      <td>German</td>\n",
       "      <td>0.070454</td>\n",
       "    </tr>\n",
       "    <tr>\n",
       "      <th>1</th>\n",
       "      <td>Chinese</td>\n",
       "      <td>0.067600</td>\n",
       "    </tr>\n",
       "    <tr>\n",
       "      <th>15</th>\n",
       "      <td>Spanish</td>\n",
       "      <td>0.066262</td>\n",
       "    </tr>\n",
       "    <tr>\n",
       "      <th>6</th>\n",
       "      <td>Greek</td>\n",
       "      <td>0.066084</td>\n",
       "    </tr>\n",
       "    <tr>\n",
       "      <th>13</th>\n",
       "      <td>Moroccan</td>\n",
       "      <td>0.065549</td>\n",
       "    </tr>\n",
       "    <tr>\n",
       "      <th>4</th>\n",
       "      <td>French</td>\n",
       "      <td>0.063230</td>\n",
       "    </tr>\n",
       "    <tr>\n",
       "      <th>3</th>\n",
       "      <td>English</td>\n",
       "      <td>0.061090</td>\n",
       "    </tr>\n",
       "    <tr>\n",
       "      <th>0</th>\n",
       "      <td>American</td>\n",
       "      <td>0.060644</td>\n",
       "    </tr>\n",
       "    <tr>\n",
       "      <th>10</th>\n",
       "      <td>Italian</td>\n",
       "      <td>0.060109</td>\n",
       "    </tr>\n",
       "    <tr>\n",
       "      <th>12</th>\n",
       "      <td>Mexican</td>\n",
       "      <td>0.059930</td>\n",
       "    </tr>\n",
       "    <tr>\n",
       "      <th>9</th>\n",
       "      <td>Indian</td>\n",
       "      <td>0.058771</td>\n",
       "    </tr>\n",
       "    <tr>\n",
       "      <th>2</th>\n",
       "      <td>Cuban</td>\n",
       "      <td>0.049496</td>\n",
       "    </tr>\n",
       "    <tr>\n",
       "      <th>11</th>\n",
       "      <td>Japanese</td>\n",
       "      <td>0.048961</td>\n",
       "    </tr>\n",
       "    <tr>\n",
       "      <th>17</th>\n",
       "      <td>Thai</td>\n",
       "      <td>0.048604</td>\n",
       "    </tr>\n",
       "    <tr>\n",
       "      <th>7</th>\n",
       "      <td>Hawaiian</td>\n",
       "      <td>0.047534</td>\n",
       "    </tr>\n",
       "    <tr>\n",
       "      <th>8</th>\n",
       "      <td>Hungarian</td>\n",
       "      <td>0.045394</td>\n",
       "    </tr>\n",
       "    <tr>\n",
       "      <th>16</th>\n",
       "      <td>Swedish</td>\n",
       "      <td>0.041202</td>\n",
       "    </tr>\n",
       "    <tr>\n",
       "      <th>14</th>\n",
       "      <td>Portuguese</td>\n",
       "      <td>0.019085</td>\n",
       "    </tr>\n",
       "  </tbody>\n",
       "</table>\n",
       "</div>"
      ],
      "text/plain": [
       "       Cuisine  Proportion\n",
       "5       German    0.070454\n",
       "1      Chinese    0.067600\n",
       "15     Spanish    0.066262\n",
       "6        Greek    0.066084\n",
       "13    Moroccan    0.065549\n",
       "4       French    0.063230\n",
       "3      English    0.061090\n",
       "0     American    0.060644\n",
       "10     Italian    0.060109\n",
       "12     Mexican    0.059930\n",
       "9       Indian    0.058771\n",
       "2        Cuban    0.049496\n",
       "11    Japanese    0.048961\n",
       "17        Thai    0.048604\n",
       "7     Hawaiian    0.047534\n",
       "8    Hungarian    0.045394\n",
       "16     Swedish    0.041202\n",
       "14  Portuguese    0.019085"
      ]
     },
     "execution_count": 36,
     "metadata": {},
     "output_type": "execute_result"
    }
   ],
   "source": [
    "### Fio's part\n",
    "\n",
    "### Top cuisines (by frequency) in the dataset\n",
    "# We create a dictionary where the keys are the names of the cuisines, and the values are the number of recipes which possess that cuisine tag.\n",
    "dict_cuisine_freq = {}\n",
    "for cus in CUISINES:\n",
    "    dict_cuisine_freq[cus] = int(food_df[cus].sum())\n",
    "\n",
    "# Because each recipe may have more than one cuisine tag, we cannot calculate a proportion off the total number of recipes alone because our numerator\n",
    "#  would be bigger than the denominator, so we instead calculate our proportions off the total number of tags. This provides the secondary benefit of\n",
    "#  having non-fusion recipes \"count\" for more, as they contribute less tags to the total count of recipes.\n",
    "#  EX: A fusion recipe with 5 (American, Chinese, Hawaiian, Japanese, Indian) tags would only be 1/5 as meaningful to the overall proportion of chinese recipes\n",
    "#        compared to a recipe with only 1 tag, Chinese.\n",
    "num_tags = sum(dict_cuisine_freq.values())\n",
    "# print(dict_cuisine_freq) \n",
    "# print(num_tags)\n",
    "\n",
    "\n",
    "# Calculate the proportion of each cuisine across all recipes, then convert into a dataframe.\n",
    "dict_proportion = {}\n",
    "for cus in CUISINES:\n",
    "    dict_proportion[cus] = dict_cuisine_freq[cus] / num_tags\n",
    "df_proportions = pd.DataFrame(list(dict_proportion.items()), columns = ['Cuisine', 'Proportion'])\n",
    "\n",
    "# Sort the dataframe by descending proportion\n",
    "df_proportions.sort_values(by=['Proportion'], ascending=False)"
   ]
  },
  {
   "cell_type": "code",
   "execution_count": null,
   "id": "17b03503",
   "metadata": {},
   "outputs": [],
   "source": [
    "# TODO: Visualization for Cuisine proportion"
   ]
  },
  {
   "cell_type": "markdown",
   "id": "0be7471b",
   "metadata": {},
   "source": [
    "TODO: Written Analysis for proportion of cuisines "
   ]
  },
  {
   "cell_type": "markdown",
   "id": "3a99bafd",
   "metadata": {},
   "source": [
    "##  Flavor\n",
    "\n",
    "In this section, we aim to examine flavors of a given recipe, and any patterns that may exist within each flavor, or it's predicitve power over the various cuisines."
   ]
  },
  {
   "cell_type": "code",
   "execution_count": 16,
   "id": "ebf15974",
   "metadata": {},
   "outputs": [
    {
     "data": {
      "text/html": [
       "<div>\n",
       "<style scoped>\n",
       "    .dataframe tbody tr th:only-of-type {\n",
       "        vertical-align: middle;\n",
       "    }\n",
       "\n",
       "    .dataframe tbody tr th {\n",
       "        vertical-align: top;\n",
       "    }\n",
       "\n",
       "    .dataframe thead th {\n",
       "        text-align: right;\n",
       "    }\n",
       "</style>\n",
       "<table border=\"1\" class=\"dataframe\">\n",
       "  <thead>\n",
       "    <tr style=\"text-align: right;\">\n",
       "      <th></th>\n",
       "      <th>piquant</th>\n",
       "      <th>meaty</th>\n",
       "      <th>bitter</th>\n",
       "      <th>sweet</th>\n",
       "      <th>sour</th>\n",
       "      <th>salty</th>\n",
       "      <th>magnitude</th>\n",
       "    </tr>\n",
       "  </thead>\n",
       "  <tbody>\n",
       "    <tr>\n",
       "      <th>American</th>\n",
       "      <td>0.308578</td>\n",
       "      <td>0.421569</td>\n",
       "      <td>0.422549</td>\n",
       "      <td>0.22402</td>\n",
       "      <td>0.415686</td>\n",
       "      <td>0.475</td>\n",
       "      <td>37.790033</td>\n",
       "    </tr>\n",
       "    <tr>\n",
       "      <th>Chinese</th>\n",
       "      <td>0.228012</td>\n",
       "      <td>0.427221</td>\n",
       "      <td>0.568821</td>\n",
       "      <td>0.274846</td>\n",
       "      <td>0.42942</td>\n",
       "      <td>0.668646</td>\n",
       "      <td>43.282762</td>\n",
       "    </tr>\n",
       "    <tr>\n",
       "      <th>Cuban</th>\n",
       "      <td>0.315616</td>\n",
       "      <td>0.411411</td>\n",
       "      <td>0.357958</td>\n",
       "      <td>0.213213</td>\n",
       "      <td>0.575976</td>\n",
       "      <td>0.45976</td>\n",
       "      <td>38.898899</td>\n",
       "    </tr>\n",
       "    <tr>\n",
       "      <th>English</th>\n",
       "      <td>0.256934</td>\n",
       "      <td>0.416058</td>\n",
       "      <td>0.366423</td>\n",
       "      <td>0.179075</td>\n",
       "      <td>0.361557</td>\n",
       "      <td>0.43163</td>\n",
       "      <td>33.527981</td>\n",
       "    </tr>\n",
       "    <tr>\n",
       "      <th>French</th>\n",
       "      <td>0.122238</td>\n",
       "      <td>0.415609</td>\n",
       "      <td>0.338035</td>\n",
       "      <td>0.176305</td>\n",
       "      <td>0.344147</td>\n",
       "      <td>0.392102</td>\n",
       "      <td>29.807240</td>\n",
       "    </tr>\n",
       "    <tr>\n",
       "      <th>German</th>\n",
       "      <td>0.133122</td>\n",
       "      <td>0.405907</td>\n",
       "      <td>0.412025</td>\n",
       "      <td>0.203376</td>\n",
       "      <td>0.394937</td>\n",
       "      <td>0.531224</td>\n",
       "      <td>34.676512</td>\n",
       "    </tr>\n",
       "    <tr>\n",
       "      <th>Greek</th>\n",
       "      <td>0.111561</td>\n",
       "      <td>0.369546</td>\n",
       "      <td>0.409132</td>\n",
       "      <td>0.18556</td>\n",
       "      <td>0.496401</td>\n",
       "      <td>0.480882</td>\n",
       "      <td>34.218024</td>\n",
       "    </tr>\n",
       "    <tr>\n",
       "      <th>Hawaiian</th>\n",
       "      <td>0.267355</td>\n",
       "      <td>0.328956</td>\n",
       "      <td>0.490306</td>\n",
       "      <td>0.434959</td>\n",
       "      <td>0.652908</td>\n",
       "      <td>0.640088</td>\n",
       "      <td>46.909527</td>\n",
       "    </tr>\n",
       "    <tr>\n",
       "      <th>Hungarian</th>\n",
       "      <td>0.364113</td>\n",
       "      <td>0.311722</td>\n",
       "      <td>0.285527</td>\n",
       "      <td>0.185986</td>\n",
       "      <td>0.465946</td>\n",
       "      <td>0.361166</td>\n",
       "      <td>32.907662</td>\n",
       "    </tr>\n",
       "    <tr>\n",
       "      <th>Indian</th>\n",
       "      <td>0.458017</td>\n",
       "      <td>0.346485</td>\n",
       "      <td>0.379616</td>\n",
       "      <td>0.197016</td>\n",
       "      <td>0.48002</td>\n",
       "      <td>0.399595</td>\n",
       "      <td>37.679143</td>\n",
       "    </tr>\n",
       "    <tr>\n",
       "      <th>Italian</th>\n",
       "      <td>0.096934</td>\n",
       "      <td>0.431751</td>\n",
       "      <td>0.476508</td>\n",
       "      <td>0.208952</td>\n",
       "      <td>0.349901</td>\n",
       "      <td>0.529921</td>\n",
       "      <td>34.899439</td>\n",
       "    </tr>\n",
       "    <tr>\n",
       "      <th>Japanese</th>\n",
       "      <td>0.132665</td>\n",
       "      <td>0.406193</td>\n",
       "      <td>0.617183</td>\n",
       "      <td>0.234366</td>\n",
       "      <td>0.329387</td>\n",
       "      <td>0.687614</td>\n",
       "      <td>40.123457</td>\n",
       "    </tr>\n",
       "    <tr>\n",
       "      <th>Mexican</th>\n",
       "      <td>0.601687</td>\n",
       "      <td>0.419395</td>\n",
       "      <td>0.528026</td>\n",
       "      <td>0.205853</td>\n",
       "      <td>0.458581</td>\n",
       "      <td>0.600198</td>\n",
       "      <td>46.895668</td>\n",
       "    </tr>\n",
       "    <tr>\n",
       "      <th>Moroccan</th>\n",
       "      <td>0.263719</td>\n",
       "      <td>0.371655</td>\n",
       "      <td>0.338776</td>\n",
       "      <td>0.214739</td>\n",
       "      <td>0.470748</td>\n",
       "      <td>0.386168</td>\n",
       "      <td>34.096750</td>\n",
       "    </tr>\n",
       "    <tr>\n",
       "      <th>Portuguese</th>\n",
       "      <td>0.294393</td>\n",
       "      <td>0.39486</td>\n",
       "      <td>0.34891</td>\n",
       "      <td>0.175234</td>\n",
       "      <td>0.485981</td>\n",
       "      <td>0.38162</td>\n",
       "      <td>34.683281</td>\n",
       "    </tr>\n",
       "    <tr>\n",
       "      <th>Spanish</th>\n",
       "      <td>0.394123</td>\n",
       "      <td>0.312248</td>\n",
       "      <td>0.304621</td>\n",
       "      <td>0.176312</td>\n",
       "      <td>0.575594</td>\n",
       "      <td>0.387842</td>\n",
       "      <td>35.845671</td>\n",
       "    </tr>\n",
       "    <tr>\n",
       "      <th>Swedish</th>\n",
       "      <td>0.232684</td>\n",
       "      <td>0.453463</td>\n",
       "      <td>0.34596</td>\n",
       "      <td>0.193001</td>\n",
       "      <td>0.217172</td>\n",
       "      <td>0.545455</td>\n",
       "      <td>33.128908</td>\n",
       "    </tr>\n",
       "    <tr>\n",
       "      <th>Thai</th>\n",
       "      <td>0.38685</td>\n",
       "      <td>0.37737</td>\n",
       "      <td>0.533333</td>\n",
       "      <td>0.240979</td>\n",
       "      <td>0.53211</td>\n",
       "      <td>0.589602</td>\n",
       "      <td>44.337411</td>\n",
       "    </tr>\n",
       "  </tbody>\n",
       "</table>\n",
       "</div>"
      ],
      "text/plain": [
       "             piquant     meaty    bitter     sweet      sour     salty  \\\n",
       "American    0.308578  0.421569  0.422549   0.22402  0.415686     0.475   \n",
       "Chinese     0.228012  0.427221  0.568821  0.274846   0.42942  0.668646   \n",
       "Cuban       0.315616  0.411411  0.357958  0.213213  0.575976   0.45976   \n",
       "English     0.256934  0.416058  0.366423  0.179075  0.361557   0.43163   \n",
       "French      0.122238  0.415609  0.338035  0.176305  0.344147  0.392102   \n",
       "German      0.133122  0.405907  0.412025  0.203376  0.394937  0.531224   \n",
       "Greek       0.111561  0.369546  0.409132   0.18556  0.496401  0.480882   \n",
       "Hawaiian    0.267355  0.328956  0.490306  0.434959  0.652908  0.640088   \n",
       "Hungarian   0.364113  0.311722  0.285527  0.185986  0.465946  0.361166   \n",
       "Indian      0.458017  0.346485  0.379616  0.197016   0.48002  0.399595   \n",
       "Italian     0.096934  0.431751  0.476508  0.208952  0.349901  0.529921   \n",
       "Japanese    0.132665  0.406193  0.617183  0.234366  0.329387  0.687614   \n",
       "Mexican     0.601687  0.419395  0.528026  0.205853  0.458581  0.600198   \n",
       "Moroccan    0.263719  0.371655  0.338776  0.214739  0.470748  0.386168   \n",
       "Portuguese  0.294393   0.39486   0.34891  0.175234  0.485981   0.38162   \n",
       "Spanish     0.394123  0.312248  0.304621  0.176312  0.575594  0.387842   \n",
       "Swedish     0.232684  0.453463   0.34596  0.193001  0.217172  0.545455   \n",
       "Thai         0.38685   0.37737  0.533333  0.240979   0.53211  0.589602   \n",
       "\n",
       "            magnitude  \n",
       "American    37.790033  \n",
       "Chinese     43.282762  \n",
       "Cuban       38.898899  \n",
       "English     33.527981  \n",
       "French      29.807240  \n",
       "German      34.676512  \n",
       "Greek       34.218024  \n",
       "Hawaiian    46.909527  \n",
       "Hungarian   32.907662  \n",
       "Indian      37.679143  \n",
       "Italian     34.899439  \n",
       "Japanese    40.123457  \n",
       "Mexican     46.895668  \n",
       "Moroccan    34.096750  \n",
       "Portuguese  34.683281  \n",
       "Spanish     35.845671  \n",
       "Swedish     33.128908  \n",
       "Thai        44.337411  "
      ]
     },
     "execution_count": 16,
     "metadata": {},
     "output_type": "execute_result"
    }
   ],
   "source": [
    "# manually creating pivot table. TODO: find out if there's a better way to do this (pivot table? crosstab?)\n",
    "cuisine_flavor = pd.DataFrame(columns=FLAVORS,index=CUISINES)\n",
    "for cus in CUISINES:\n",
    "    for f in FLAVORS:\n",
    "        cuisine_flavor.loc[cus,f] = food_df.loc[food_df[cus]==1,f].mean()\n",
    "cuisine_flavor['magnitude'] = cuisine_flavor[FLAVORS].sum(axis=1)/6*100\n",
    "cuisine_flavor"
   ]
  },
  {
   "cell_type": "code",
   "execution_count": 17,
   "id": "cd4de28b",
   "metadata": {},
   "outputs": [
    {
     "name": "stdout",
     "output_type": "stream",
     "text": [
      "American Chinese Cuban English French German Greek Hawaiian Hungarian Indian Italian Japanese Mexican Moroccan Portuguese Spanish Swedish Thai "
     ]
    },
    {
     "data": {
      "application/vnd.plotly.v1+json": {
       "config": {
        "plotlyServerURL": "https://plot.ly"
       },
       "data": [
        {
         "fill": "toself",
         "name": "American",
         "r": [
          0.30857843137254876,
          0.4215686274509799,
          0.4225490196078424,
          0.22401960784313732,
          0.4156862745098041,
          0.47500000000000014,
          37.790032679738545
         ],
         "subplot": "polar7",
         "theta": [
          "piquant",
          "meaty",
          "bitter",
          "sweet",
          "sour",
          "salty"
         ],
         "type": "scatterpolar"
        },
        {
         "fill": "toself",
         "name": "Chinese",
         "r": [
          0.22801231310466102,
          0.4272207563764297,
          0.5688214599824089,
          0.274846086191731,
          0.42941952506596254,
          0.6686455584872446,
          43.28276165347396
         ],
         "subplot": "polar8",
         "theta": [
          "piquant",
          "meaty",
          "bitter",
          "sweet",
          "sour",
          "salty"
         ],
         "type": "scatterpolar"
        },
        {
         "fill": "toself",
         "name": "Cuban",
         "r": [
          0.3156156156156153,
          0.4114114114114107,
          0.357957957957957,
          0.2132132132132145,
          0.5759759759759759,
          0.459759759759759,
          38.89889889889888
         ],
         "subplot": "polar9",
         "theta": [
          "piquant",
          "meaty",
          "bitter",
          "sweet",
          "sour",
          "salty"
         ],
         "type": "scatterpolar"
        },
        {
         "fill": "toself",
         "name": "English",
         "r": [
          0.25693430656934324,
          0.41605839416058393,
          0.3664233576642322,
          0.17907542579075564,
          0.36155717761556977,
          0.4316301703163016,
          33.527980535279774
         ],
         "subplot": "polar10",
         "theta": [
          "piquant",
          "meaty",
          "bitter",
          "sweet",
          "sour",
          "salty"
         ],
         "type": "scatterpolar"
        },
        {
         "fill": "toself",
         "name": "French",
         "r": [
          0.12223789374706182,
          0.4156088387400096,
          0.33803479078514215,
          0.17630465444287888,
          0.34414668547249505,
          0.3921015514809583,
          29.807240244475757
         ],
         "subplot": "polar11",
         "theta": [
          "piquant",
          "meaty",
          "bitter",
          "sweet",
          "sour",
          "salty"
         ],
         "type": "scatterpolar"
        },
        {
         "fill": "toself",
         "name": "German",
         "r": [
          0.13312236286919865,
          0.40590717299578133,
          0.4120253164556969,
          0.20337552742615989,
          0.39493670886075904,
          0.5312236286919838,
          34.676511954992996
         ],
         "subplot": "polar12",
         "theta": [
          "piquant",
          "meaty",
          "bitter",
          "sweet",
          "sour",
          "salty"
         ],
         "type": "scatterpolar"
        },
        {
         "fill": "toself",
         "name": "Greek",
         "r": [
          0.1115609536662169,
          0.3695456590193423,
          0.40913180386864567,
          0.18556005398110753,
          0.4964012595591545,
          0.4808816914080078,
          34.218023691707906
         ],
         "subplot": "polar13",
         "theta": [
          "piquant",
          "meaty",
          "bitter",
          "sweet",
          "sour",
          "salty"
         ],
         "type": "scatterpolar"
        },
        {
         "fill": "toself",
         "name": "Hawaiian",
         "r": [
          0.26735459662288974,
          0.3289555972482797,
          0.4903064415259534,
          0.4349593495934959,
          0.6529080675422124,
          0.6400875547217006,
          46.90952678757554
         ],
         "subplot": "polar14",
         "theta": [
          "piquant",
          "meaty",
          "bitter",
          "sweet",
          "sour",
          "salty"
         ],
         "type": "scatterpolar"
        },
        {
         "fill": "toself",
         "name": "Hungarian",
         "r": [
          0.3641126391617549,
          0.3117223313686963,
          0.2855271774721674,
          0.18598559266535758,
          0.4659462999345113,
          0.36116568434839463,
          32.9076620825147
         ],
         "subplot": "polar15",
         "theta": [
          "piquant",
          "meaty",
          "bitter",
          "sweet",
          "sour",
          "salty"
         ],
         "type": "scatterpolar"
        },
        {
         "fill": "toself",
         "name": "Indian",
         "r": [
          0.45801719777440675,
          0.3464845725847222,
          0.3796155791603434,
          0.19701568032372405,
          0.48002023267577143,
          0.39959534648457196,
          37.67914348339232
         ],
         "subplot": "polar16",
         "theta": [
          "piquant",
          "meaty",
          "bitter",
          "sweet",
          "sour",
          "salty"
         ],
         "type": "scatterpolar"
        },
        {
         "fill": "toself",
         "name": "Italian",
         "r": [
          0.09693372898120653,
          0.43175074183976253,
          0.47650840751730955,
          0.20895153313550974,
          0.34990108803165054,
          0.529920870425321,
          34.89943949884599
         ],
         "subplot": "polar17",
         "theta": [
          "piquant",
          "meaty",
          "bitter",
          "sweet",
          "sour",
          "salty"
         ],
         "type": "scatterpolar"
        },
        {
         "fill": "toself",
         "name": "Japanese",
         "r": [
          0.1326654523375835,
          0.4061930783242249,
          0.6171827565270177,
          0.23436551305403877,
          0.32938676381299187,
          0.6876138433515467,
          40.12345679012339
         ],
         "subplot": "polar18",
         "theta": [
          "piquant",
          "meaty",
          "bitter",
          "sweet",
          "sour",
          "salty"
         ],
         "type": "scatterpolar"
        },
        {
         "fill": "toself",
         "name": "Mexican",
         "r": [
          0.6016865079365071,
          0.41939484126984083,
          0.5280257936507939,
          0.20585317460317568,
          0.45858134920634924,
          0.6001984126984122,
          46.89566798941798
         ],
         "subplot": "polar",
         "theta": [
          "piquant",
          "meaty",
          "bitter",
          "sweet",
          "sour",
          "salty"
         ],
         "type": "scatterpolar"
        },
        {
         "fill": "toself",
         "name": "Moroccan",
         "r": [
          0.26371882086167725,
          0.371655328798184,
          0.33877551020408025,
          0.21473922902494336,
          0.47074829931972845,
          0.3861678004535142,
          34.09674981103546
         ],
         "subplot": "polar2",
         "theta": [
          "piquant",
          "meaty",
          "bitter",
          "sweet",
          "sour",
          "salty"
         ],
         "type": "scatterpolar"
        },
        {
         "fill": "toself",
         "name": "Portuguese",
         "r": [
          0.29439252336448585,
          0.3948598130841121,
          0.34890965732087237,
          0.1752336448598131,
          0.485981308411215,
          0.3816199376947043,
          34.68328141225338
         ],
         "subplot": "polar3",
         "theta": [
          "piquant",
          "meaty",
          "bitter",
          "sweet",
          "sour",
          "salty"
         ],
         "type": "scatterpolar"
        },
        {
         "fill": "toself",
         "name": "Spanish",
         "r": [
          0.3941229250785108,
          0.31224764468371324,
          0.3046209062359786,
          0.1763122476446852,
          0.5755944369672499,
          0.3878420816509643,
          35.845670704351704
         ],
         "subplot": "polar4",
         "theta": [
          "piquant",
          "meaty",
          "bitter",
          "sweet",
          "sour",
          "salty"
         ],
         "type": "scatterpolar"
        },
        {
         "fill": "toself",
         "name": "Swedish",
         "r": [
          0.2326839826839829,
          0.45346320346320285,
          0.34595959595959547,
          0.19300144300144356,
          0.2171717171717179,
          0.5454545454545452,
          33.12890812890813
         ],
         "subplot": "polar5",
         "theta": [
          "piquant",
          "meaty",
          "bitter",
          "sweet",
          "sour",
          "salty"
         ],
         "type": "scatterpolar"
        },
        {
         "fill": "toself",
         "name": "Thai",
         "r": [
          0.3868501529051988,
          0.37737003058103885,
          0.5333333333333332,
          0.24097859327217216,
          0.5321100917431195,
          0.5896024464831796,
          44.3374108053007
         ],
         "subplot": "polar6",
         "theta": [
          "piquant",
          "meaty",
          "bitter",
          "sweet",
          "sour",
          "salty"
         ],
         "type": "scatterpolar"
        }
       ],
       "layout": {
        "polar": {
         "domain": {
          "x": [
           0,
           0.1388888888888889
          ],
          "y": [
           0.7333333333333333,
           1
          ]
         },
         "radialaxis": {
          "range": [
           0,
           0.7
          ],
          "visible": true
         }
        },
        "polar10": {
         "domain": {
          "x": [
           0.5166666666666667,
           0.6555555555555557
          ],
          "y": [
           0.36666666666666664,
           0.6333333333333333
          ]
         }
        },
        "polar11": {
         "domain": {
          "x": [
           0.6888888888888889,
           0.8277777777777777
          ],
          "y": [
           0.36666666666666664,
           0.6333333333333333
          ]
         }
        },
        "polar12": {
         "domain": {
          "x": [
           0.861111111111111,
           1
          ],
          "y": [
           0.36666666666666664,
           0.6333333333333333
          ]
         }
        },
        "polar13": {
         "domain": {
          "x": [
           0,
           0.1388888888888889
          ],
          "y": [
           0,
           0.26666666666666666
          ]
         }
        },
        "polar14": {
         "domain": {
          "x": [
           0.17222222222222222,
           0.3111111111111111
          ],
          "y": [
           0,
           0.26666666666666666
          ]
         }
        },
        "polar15": {
         "domain": {
          "x": [
           0.34444444444444444,
           0.48333333333333334
          ],
          "y": [
           0,
           0.26666666666666666
          ]
         }
        },
        "polar16": {
         "domain": {
          "x": [
           0.5166666666666667,
           0.6555555555555557
          ],
          "y": [
           0,
           0.26666666666666666
          ]
         }
        },
        "polar17": {
         "domain": {
          "x": [
           0.6888888888888889,
           0.8277777777777777
          ],
          "y": [
           0,
           0.26666666666666666
          ]
         }
        },
        "polar18": {
         "domain": {
          "x": [
           0.861111111111111,
           1
          ],
          "y": [
           0,
           0.26666666666666666
          ]
         }
        },
        "polar2": {
         "domain": {
          "x": [
           0.17222222222222222,
           0.3111111111111111
          ],
          "y": [
           0.7333333333333333,
           1
          ]
         }
        },
        "polar3": {
         "domain": {
          "x": [
           0.34444444444444444,
           0.48333333333333334
          ],
          "y": [
           0.7333333333333333,
           1
          ]
         }
        },
        "polar4": {
         "domain": {
          "x": [
           0.5166666666666667,
           0.6555555555555557
          ],
          "y": [
           0.7333333333333333,
           1
          ]
         }
        },
        "polar5": {
         "domain": {
          "x": [
           0.6888888888888889,
           0.8277777777777777
          ],
          "y": [
           0.7333333333333333,
           1
          ]
         }
        },
        "polar6": {
         "domain": {
          "x": [
           0.861111111111111,
           1
          ],
          "y": [
           0.7333333333333333,
           1
          ]
         }
        },
        "polar7": {
         "domain": {
          "x": [
           0,
           0.1388888888888889
          ],
          "y": [
           0.36666666666666664,
           0.6333333333333333
          ]
         }
        },
        "polar8": {
         "domain": {
          "x": [
           0.17222222222222222,
           0.3111111111111111
          ],
          "y": [
           0.36666666666666664,
           0.6333333333333333
          ]
         }
        },
        "polar9": {
         "domain": {
          "x": [
           0.34444444444444444,
           0.48333333333333334
          ],
          "y": [
           0.36666666666666664,
           0.6333333333333333
          ]
         }
        },
        "showlegend": false,
        "template": {
         "data": {
          "bar": [
           {
            "error_x": {
             "color": "#2a3f5f"
            },
            "error_y": {
             "color": "#2a3f5f"
            },
            "marker": {
             "line": {
              "color": "#E5ECF6",
              "width": 0.5
             },
             "pattern": {
              "fillmode": "overlay",
              "size": 10,
              "solidity": 0.2
             }
            },
            "type": "bar"
           }
          ],
          "barpolar": [
           {
            "marker": {
             "line": {
              "color": "#E5ECF6",
              "width": 0.5
             },
             "pattern": {
              "fillmode": "overlay",
              "size": 10,
              "solidity": 0.2
             }
            },
            "type": "barpolar"
           }
          ],
          "carpet": [
           {
            "aaxis": {
             "endlinecolor": "#2a3f5f",
             "gridcolor": "white",
             "linecolor": "white",
             "minorgridcolor": "white",
             "startlinecolor": "#2a3f5f"
            },
            "baxis": {
             "endlinecolor": "#2a3f5f",
             "gridcolor": "white",
             "linecolor": "white",
             "minorgridcolor": "white",
             "startlinecolor": "#2a3f5f"
            },
            "type": "carpet"
           }
          ],
          "choropleth": [
           {
            "colorbar": {
             "outlinewidth": 0,
             "ticks": ""
            },
            "type": "choropleth"
           }
          ],
          "contour": [
           {
            "colorbar": {
             "outlinewidth": 0,
             "ticks": ""
            },
            "colorscale": [
             [
              0,
              "#0d0887"
             ],
             [
              0.1111111111111111,
              "#46039f"
             ],
             [
              0.2222222222222222,
              "#7201a8"
             ],
             [
              0.3333333333333333,
              "#9c179e"
             ],
             [
              0.4444444444444444,
              "#bd3786"
             ],
             [
              0.5555555555555556,
              "#d8576b"
             ],
             [
              0.6666666666666666,
              "#ed7953"
             ],
             [
              0.7777777777777778,
              "#fb9f3a"
             ],
             [
              0.8888888888888888,
              "#fdca26"
             ],
             [
              1,
              "#f0f921"
             ]
            ],
            "type": "contour"
           }
          ],
          "contourcarpet": [
           {
            "colorbar": {
             "outlinewidth": 0,
             "ticks": ""
            },
            "type": "contourcarpet"
           }
          ],
          "heatmap": [
           {
            "colorbar": {
             "outlinewidth": 0,
             "ticks": ""
            },
            "colorscale": [
             [
              0,
              "#0d0887"
             ],
             [
              0.1111111111111111,
              "#46039f"
             ],
             [
              0.2222222222222222,
              "#7201a8"
             ],
             [
              0.3333333333333333,
              "#9c179e"
             ],
             [
              0.4444444444444444,
              "#bd3786"
             ],
             [
              0.5555555555555556,
              "#d8576b"
             ],
             [
              0.6666666666666666,
              "#ed7953"
             ],
             [
              0.7777777777777778,
              "#fb9f3a"
             ],
             [
              0.8888888888888888,
              "#fdca26"
             ],
             [
              1,
              "#f0f921"
             ]
            ],
            "type": "heatmap"
           }
          ],
          "heatmapgl": [
           {
            "colorbar": {
             "outlinewidth": 0,
             "ticks": ""
            },
            "colorscale": [
             [
              0,
              "#0d0887"
             ],
             [
              0.1111111111111111,
              "#46039f"
             ],
             [
              0.2222222222222222,
              "#7201a8"
             ],
             [
              0.3333333333333333,
              "#9c179e"
             ],
             [
              0.4444444444444444,
              "#bd3786"
             ],
             [
              0.5555555555555556,
              "#d8576b"
             ],
             [
              0.6666666666666666,
              "#ed7953"
             ],
             [
              0.7777777777777778,
              "#fb9f3a"
             ],
             [
              0.8888888888888888,
              "#fdca26"
             ],
             [
              1,
              "#f0f921"
             ]
            ],
            "type": "heatmapgl"
           }
          ],
          "histogram": [
           {
            "marker": {
             "pattern": {
              "fillmode": "overlay",
              "size": 10,
              "solidity": 0.2
             }
            },
            "type": "histogram"
           }
          ],
          "histogram2d": [
           {
            "colorbar": {
             "outlinewidth": 0,
             "ticks": ""
            },
            "colorscale": [
             [
              0,
              "#0d0887"
             ],
             [
              0.1111111111111111,
              "#46039f"
             ],
             [
              0.2222222222222222,
              "#7201a8"
             ],
             [
              0.3333333333333333,
              "#9c179e"
             ],
             [
              0.4444444444444444,
              "#bd3786"
             ],
             [
              0.5555555555555556,
              "#d8576b"
             ],
             [
              0.6666666666666666,
              "#ed7953"
             ],
             [
              0.7777777777777778,
              "#fb9f3a"
             ],
             [
              0.8888888888888888,
              "#fdca26"
             ],
             [
              1,
              "#f0f921"
             ]
            ],
            "type": "histogram2d"
           }
          ],
          "histogram2dcontour": [
           {
            "colorbar": {
             "outlinewidth": 0,
             "ticks": ""
            },
            "colorscale": [
             [
              0,
              "#0d0887"
             ],
             [
              0.1111111111111111,
              "#46039f"
             ],
             [
              0.2222222222222222,
              "#7201a8"
             ],
             [
              0.3333333333333333,
              "#9c179e"
             ],
             [
              0.4444444444444444,
              "#bd3786"
             ],
             [
              0.5555555555555556,
              "#d8576b"
             ],
             [
              0.6666666666666666,
              "#ed7953"
             ],
             [
              0.7777777777777778,
              "#fb9f3a"
             ],
             [
              0.8888888888888888,
              "#fdca26"
             ],
             [
              1,
              "#f0f921"
             ]
            ],
            "type": "histogram2dcontour"
           }
          ],
          "mesh3d": [
           {
            "colorbar": {
             "outlinewidth": 0,
             "ticks": ""
            },
            "type": "mesh3d"
           }
          ],
          "parcoords": [
           {
            "line": {
             "colorbar": {
              "outlinewidth": 0,
              "ticks": ""
             }
            },
            "type": "parcoords"
           }
          ],
          "pie": [
           {
            "automargin": true,
            "type": "pie"
           }
          ],
          "scatter": [
           {
            "marker": {
             "colorbar": {
              "outlinewidth": 0,
              "ticks": ""
             }
            },
            "type": "scatter"
           }
          ],
          "scatter3d": [
           {
            "line": {
             "colorbar": {
              "outlinewidth": 0,
              "ticks": ""
             }
            },
            "marker": {
             "colorbar": {
              "outlinewidth": 0,
              "ticks": ""
             }
            },
            "type": "scatter3d"
           }
          ],
          "scattercarpet": [
           {
            "marker": {
             "colorbar": {
              "outlinewidth": 0,
              "ticks": ""
             }
            },
            "type": "scattercarpet"
           }
          ],
          "scattergeo": [
           {
            "marker": {
             "colorbar": {
              "outlinewidth": 0,
              "ticks": ""
             }
            },
            "type": "scattergeo"
           }
          ],
          "scattergl": [
           {
            "marker": {
             "colorbar": {
              "outlinewidth": 0,
              "ticks": ""
             }
            },
            "type": "scattergl"
           }
          ],
          "scattermapbox": [
           {
            "marker": {
             "colorbar": {
              "outlinewidth": 0,
              "ticks": ""
             }
            },
            "type": "scattermapbox"
           }
          ],
          "scatterpolar": [
           {
            "marker": {
             "colorbar": {
              "outlinewidth": 0,
              "ticks": ""
             }
            },
            "type": "scatterpolar"
           }
          ],
          "scatterpolargl": [
           {
            "marker": {
             "colorbar": {
              "outlinewidth": 0,
              "ticks": ""
             }
            },
            "type": "scatterpolargl"
           }
          ],
          "scatterternary": [
           {
            "marker": {
             "colorbar": {
              "outlinewidth": 0,
              "ticks": ""
             }
            },
            "type": "scatterternary"
           }
          ],
          "surface": [
           {
            "colorbar": {
             "outlinewidth": 0,
             "ticks": ""
            },
            "colorscale": [
             [
              0,
              "#0d0887"
             ],
             [
              0.1111111111111111,
              "#46039f"
             ],
             [
              0.2222222222222222,
              "#7201a8"
             ],
             [
              0.3333333333333333,
              "#9c179e"
             ],
             [
              0.4444444444444444,
              "#bd3786"
             ],
             [
              0.5555555555555556,
              "#d8576b"
             ],
             [
              0.6666666666666666,
              "#ed7953"
             ],
             [
              0.7777777777777778,
              "#fb9f3a"
             ],
             [
              0.8888888888888888,
              "#fdca26"
             ],
             [
              1,
              "#f0f921"
             ]
            ],
            "type": "surface"
           }
          ],
          "table": [
           {
            "cells": {
             "fill": {
              "color": "#EBF0F8"
             },
             "line": {
              "color": "white"
             }
            },
            "header": {
             "fill": {
              "color": "#C8D4E3"
             },
             "line": {
              "color": "white"
             }
            },
            "type": "table"
           }
          ]
         },
         "layout": {
          "annotationdefaults": {
           "arrowcolor": "#2a3f5f",
           "arrowhead": 0,
           "arrowwidth": 1
          },
          "autotypenumbers": "strict",
          "coloraxis": {
           "colorbar": {
            "outlinewidth": 0,
            "ticks": ""
           }
          },
          "colorscale": {
           "diverging": [
            [
             0,
             "#8e0152"
            ],
            [
             0.1,
             "#c51b7d"
            ],
            [
             0.2,
             "#de77ae"
            ],
            [
             0.3,
             "#f1b6da"
            ],
            [
             0.4,
             "#fde0ef"
            ],
            [
             0.5,
             "#f7f7f7"
            ],
            [
             0.6,
             "#e6f5d0"
            ],
            [
             0.7,
             "#b8e186"
            ],
            [
             0.8,
             "#7fbc41"
            ],
            [
             0.9,
             "#4d9221"
            ],
            [
             1,
             "#276419"
            ]
           ],
           "sequential": [
            [
             0,
             "#0d0887"
            ],
            [
             0.1111111111111111,
             "#46039f"
            ],
            [
             0.2222222222222222,
             "#7201a8"
            ],
            [
             0.3333333333333333,
             "#9c179e"
            ],
            [
             0.4444444444444444,
             "#bd3786"
            ],
            [
             0.5555555555555556,
             "#d8576b"
            ],
            [
             0.6666666666666666,
             "#ed7953"
            ],
            [
             0.7777777777777778,
             "#fb9f3a"
            ],
            [
             0.8888888888888888,
             "#fdca26"
            ],
            [
             1,
             "#f0f921"
            ]
           ],
           "sequentialminus": [
            [
             0,
             "#0d0887"
            ],
            [
             0.1111111111111111,
             "#46039f"
            ],
            [
             0.2222222222222222,
             "#7201a8"
            ],
            [
             0.3333333333333333,
             "#9c179e"
            ],
            [
             0.4444444444444444,
             "#bd3786"
            ],
            [
             0.5555555555555556,
             "#d8576b"
            ],
            [
             0.6666666666666666,
             "#ed7953"
            ],
            [
             0.7777777777777778,
             "#fb9f3a"
            ],
            [
             0.8888888888888888,
             "#fdca26"
            ],
            [
             1,
             "#f0f921"
            ]
           ]
          },
          "colorway": [
           "#636efa",
           "#EF553B",
           "#00cc96",
           "#ab63fa",
           "#FFA15A",
           "#19d3f3",
           "#FF6692",
           "#B6E880",
           "#FF97FF",
           "#FECB52"
          ],
          "font": {
           "color": "#2a3f5f"
          },
          "geo": {
           "bgcolor": "white",
           "lakecolor": "white",
           "landcolor": "#E5ECF6",
           "showlakes": true,
           "showland": true,
           "subunitcolor": "white"
          },
          "hoverlabel": {
           "align": "left"
          },
          "hovermode": "closest",
          "mapbox": {
           "style": "light"
          },
          "paper_bgcolor": "white",
          "plot_bgcolor": "#E5ECF6",
          "polar": {
           "angularaxis": {
            "gridcolor": "white",
            "linecolor": "white",
            "ticks": ""
           },
           "bgcolor": "#E5ECF6",
           "radialaxis": {
            "gridcolor": "white",
            "linecolor": "white",
            "ticks": ""
           }
          },
          "scene": {
           "xaxis": {
            "backgroundcolor": "#E5ECF6",
            "gridcolor": "white",
            "gridwidth": 2,
            "linecolor": "white",
            "showbackground": true,
            "ticks": "",
            "zerolinecolor": "white"
           },
           "yaxis": {
            "backgroundcolor": "#E5ECF6",
            "gridcolor": "white",
            "gridwidth": 2,
            "linecolor": "white",
            "showbackground": true,
            "ticks": "",
            "zerolinecolor": "white"
           },
           "zaxis": {
            "backgroundcolor": "#E5ECF6",
            "gridcolor": "white",
            "gridwidth": 2,
            "linecolor": "white",
            "showbackground": true,
            "ticks": "",
            "zerolinecolor": "white"
           }
          },
          "shapedefaults": {
           "line": {
            "color": "#2a3f5f"
           }
          },
          "ternary": {
           "aaxis": {
            "gridcolor": "white",
            "linecolor": "white",
            "ticks": ""
           },
           "baxis": {
            "gridcolor": "white",
            "linecolor": "white",
            "ticks": ""
           },
           "bgcolor": "#E5ECF6",
           "caxis": {
            "gridcolor": "white",
            "linecolor": "white",
            "ticks": ""
           }
          },
          "title": {
           "x": 0.05
          },
          "xaxis": {
           "automargin": true,
           "gridcolor": "white",
           "linecolor": "white",
           "ticks": "",
           "title": {
            "standoff": 15
           },
           "zerolinecolor": "white",
           "zerolinewidth": 2
          },
          "yaxis": {
           "automargin": true,
           "gridcolor": "white",
           "linecolor": "white",
           "ticks": "",
           "title": {
            "standoff": 15
           },
           "zerolinecolor": "white",
           "zerolinewidth": 2
          }
         }
        }
       }
      }
     },
     "metadata": {},
     "output_type": "display_data"
    }
   ],
   "source": [
    "# initial work on cuisines/flavors, partition by continent/country?\n",
    "specs_list = []\n",
    "for i in range (0,3):\n",
    "    specs_list.append([])\n",
    "    for j in range(0,6):\n",
    "        specs_list[i].append({\"type\":\"polar\"})\n",
    "fig1 = make_subplots(rows=3,cols=6,specs=specs_list)\n",
    "cus_idx=0\n",
    "for i in range(0,3):\n",
    "    for j in range(0,6):\n",
    "        fig1.append_trace(go.Scatterpolar(\n",
    "            r=cuisine_flavor.loc[CUISINES[cus_idx]],\n",
    "            theta=FLAVORS,\n",
    "            fill='toself',\n",
    "            name=CUISINES[cus_idx]\n",
    "        ),row=(i+1)%3+1,col=j+1)\n",
    "        print(CUISINES[cus_idx], end=\" \")\n",
    "        cus_idx += 1\n",
    "fig1.update_layout(\n",
    "  polar=dict(\n",
    "    radialaxis=dict(\n",
    "      visible=True,\n",
    "      range=[0, 0.7]\n",
    "    )),\n",
    "  showlegend=False\n",
    ")\n",
    "fig1.show()"
   ]
  },
  {
   "cell_type": "code",
   "execution_count": 18,
   "id": "3261b58b",
   "metadata": {},
   "outputs": [
    {
     "data": {
      "application/vnd.plotly.v1+json": {
       "config": {
        "plotlyServerURL": "https://plot.ly"
       },
       "data": [
        {
         "marker": {
          "color": [
           "rgb(127, 60, 141)",
           "rgb(17, 165, 121)",
           "rgb(57, 105, 172)",
           "rgb(242, 183, 1)",
           "rgb(231, 63, 116)",
           "rgb(128, 186, 90)",
           "rgb(230, 131, 16)",
           "rgb(0, 134, 149)",
           "rgb(207, 28, 144)",
           "rgb(249, 123, 114)",
           "rgb(165, 170, 153)"
          ],
          "size": 10
         },
         "mode": "markers",
         "scene": "scene",
         "text": [
          "American",
          "Chinese",
          "Cuban",
          "English",
          "French",
          "German",
          "Greek",
          "Hawaiian",
          "Hungarian",
          "Indian",
          "Italian",
          "Japanese",
          "Mexican",
          "Moroccan",
          "Portuguese",
          "Spanish",
          "Swedish",
          "Thai"
         ],
         "type": "scatter3d",
         "x": [
          0.22401960784313732,
          0.274846086191731,
          0.2132132132132145,
          0.17907542579075564,
          0.17630465444287888,
          0.20337552742615989,
          0.18556005398110753,
          0.4349593495934959,
          0.18598559266535758,
          0.19701568032372405,
          0.20895153313550974,
          0.23436551305403877,
          0.20585317460317568,
          0.21473922902494336,
          0.1752336448598131,
          0.1763122476446852,
          0.19300144300144356,
          0.24097859327217216
         ],
         "y": [
          0.4156862745098041,
          0.42941952506596254,
          0.5759759759759759,
          0.36155717761556977,
          0.34414668547249505,
          0.39493670886075904,
          0.4964012595591545,
          0.6529080675422124,
          0.4659462999345113,
          0.48002023267577143,
          0.34990108803165054,
          0.32938676381299187,
          0.45858134920634924,
          0.47074829931972845,
          0.485981308411215,
          0.5755944369672499,
          0.2171717171717179,
          0.5321100917431195
         ],
         "z": [
          0.47500000000000014,
          0.6686455584872446,
          0.459759759759759,
          0.4316301703163016,
          0.3921015514809583,
          0.5312236286919838,
          0.4808816914080078,
          0.6400875547217006,
          0.36116568434839463,
          0.39959534648457196,
          0.529920870425321,
          0.6876138433515467,
          0.6001984126984122,
          0.3861678004535142,
          0.3816199376947043,
          0.3878420816509643,
          0.5454545454545452,
          0.5896024464831796
         ]
        },
        {
         "marker": {
          "color": [
           "rgb(127, 60, 141)",
           "rgb(17, 165, 121)",
           "rgb(57, 105, 172)",
           "rgb(242, 183, 1)",
           "rgb(231, 63, 116)",
           "rgb(128, 186, 90)",
           "rgb(230, 131, 16)",
           "rgb(0, 134, 149)",
           "rgb(207, 28, 144)",
           "rgb(249, 123, 114)",
           "rgb(165, 170, 153)"
          ],
          "size": 10
         },
         "mode": "markers",
         "scene": "scene2",
         "text": [
          "American",
          "Chinese",
          "Cuban",
          "English",
          "French",
          "German",
          "Greek",
          "Hawaiian",
          "Hungarian",
          "Indian",
          "Italian",
          "Japanese",
          "Mexican",
          "Moroccan",
          "Portuguese",
          "Spanish",
          "Swedish",
          "Thai"
         ],
         "type": "scatter3d",
         "x": [
          0.30857843137254876,
          0.22801231310466102,
          0.3156156156156153,
          0.25693430656934324,
          0.12223789374706182,
          0.13312236286919865,
          0.1115609536662169,
          0.26735459662288974,
          0.3641126391617549,
          0.45801719777440675,
          0.09693372898120653,
          0.1326654523375835,
          0.6016865079365071,
          0.26371882086167725,
          0.29439252336448585,
          0.3941229250785108,
          0.2326839826839829,
          0.3868501529051988
         ],
         "y": [
          0.4225490196078424,
          0.5688214599824089,
          0.357957957957957,
          0.3664233576642322,
          0.33803479078514215,
          0.4120253164556969,
          0.40913180386864567,
          0.4903064415259534,
          0.2855271774721674,
          0.3796155791603434,
          0.47650840751730955,
          0.6171827565270177,
          0.5280257936507939,
          0.33877551020408025,
          0.34890965732087237,
          0.3046209062359786,
          0.34595959595959547,
          0.5333333333333332
         ],
         "z": [
          0.4215686274509799,
          0.4272207563764297,
          0.4114114114114107,
          0.41605839416058393,
          0.4156088387400096,
          0.40590717299578133,
          0.3695456590193423,
          0.3289555972482797,
          0.3117223313686963,
          0.3464845725847222,
          0.43175074183976253,
          0.4061930783242249,
          0.41939484126984083,
          0.371655328798184,
          0.3948598130841121,
          0.31224764468371324,
          0.45346320346320285,
          0.37737003058103885
         ]
        }
       ],
       "layout": {
        "scene": {
         "domain": {
          "x": [
           0,
           0.45
          ],
          "y": [
           0,
           1
          ]
         }
        },
        "scene2": {
         "domain": {
          "x": [
           0.55,
           1
          ],
          "y": [
           0,
           1
          ]
         }
        },
        "template": {
         "data": {
          "bar": [
           {
            "error_x": {
             "color": "#2a3f5f"
            },
            "error_y": {
             "color": "#2a3f5f"
            },
            "marker": {
             "line": {
              "color": "#E5ECF6",
              "width": 0.5
             },
             "pattern": {
              "fillmode": "overlay",
              "size": 10,
              "solidity": 0.2
             }
            },
            "type": "bar"
           }
          ],
          "barpolar": [
           {
            "marker": {
             "line": {
              "color": "#E5ECF6",
              "width": 0.5
             },
             "pattern": {
              "fillmode": "overlay",
              "size": 10,
              "solidity": 0.2
             }
            },
            "type": "barpolar"
           }
          ],
          "carpet": [
           {
            "aaxis": {
             "endlinecolor": "#2a3f5f",
             "gridcolor": "white",
             "linecolor": "white",
             "minorgridcolor": "white",
             "startlinecolor": "#2a3f5f"
            },
            "baxis": {
             "endlinecolor": "#2a3f5f",
             "gridcolor": "white",
             "linecolor": "white",
             "minorgridcolor": "white",
             "startlinecolor": "#2a3f5f"
            },
            "type": "carpet"
           }
          ],
          "choropleth": [
           {
            "colorbar": {
             "outlinewidth": 0,
             "ticks": ""
            },
            "type": "choropleth"
           }
          ],
          "contour": [
           {
            "colorbar": {
             "outlinewidth": 0,
             "ticks": ""
            },
            "colorscale": [
             [
              0,
              "#0d0887"
             ],
             [
              0.1111111111111111,
              "#46039f"
             ],
             [
              0.2222222222222222,
              "#7201a8"
             ],
             [
              0.3333333333333333,
              "#9c179e"
             ],
             [
              0.4444444444444444,
              "#bd3786"
             ],
             [
              0.5555555555555556,
              "#d8576b"
             ],
             [
              0.6666666666666666,
              "#ed7953"
             ],
             [
              0.7777777777777778,
              "#fb9f3a"
             ],
             [
              0.8888888888888888,
              "#fdca26"
             ],
             [
              1,
              "#f0f921"
             ]
            ],
            "type": "contour"
           }
          ],
          "contourcarpet": [
           {
            "colorbar": {
             "outlinewidth": 0,
             "ticks": ""
            },
            "type": "contourcarpet"
           }
          ],
          "heatmap": [
           {
            "colorbar": {
             "outlinewidth": 0,
             "ticks": ""
            },
            "colorscale": [
             [
              0,
              "#0d0887"
             ],
             [
              0.1111111111111111,
              "#46039f"
             ],
             [
              0.2222222222222222,
              "#7201a8"
             ],
             [
              0.3333333333333333,
              "#9c179e"
             ],
             [
              0.4444444444444444,
              "#bd3786"
             ],
             [
              0.5555555555555556,
              "#d8576b"
             ],
             [
              0.6666666666666666,
              "#ed7953"
             ],
             [
              0.7777777777777778,
              "#fb9f3a"
             ],
             [
              0.8888888888888888,
              "#fdca26"
             ],
             [
              1,
              "#f0f921"
             ]
            ],
            "type": "heatmap"
           }
          ],
          "heatmapgl": [
           {
            "colorbar": {
             "outlinewidth": 0,
             "ticks": ""
            },
            "colorscale": [
             [
              0,
              "#0d0887"
             ],
             [
              0.1111111111111111,
              "#46039f"
             ],
             [
              0.2222222222222222,
              "#7201a8"
             ],
             [
              0.3333333333333333,
              "#9c179e"
             ],
             [
              0.4444444444444444,
              "#bd3786"
             ],
             [
              0.5555555555555556,
              "#d8576b"
             ],
             [
              0.6666666666666666,
              "#ed7953"
             ],
             [
              0.7777777777777778,
              "#fb9f3a"
             ],
             [
              0.8888888888888888,
              "#fdca26"
             ],
             [
              1,
              "#f0f921"
             ]
            ],
            "type": "heatmapgl"
           }
          ],
          "histogram": [
           {
            "marker": {
             "pattern": {
              "fillmode": "overlay",
              "size": 10,
              "solidity": 0.2
             }
            },
            "type": "histogram"
           }
          ],
          "histogram2d": [
           {
            "colorbar": {
             "outlinewidth": 0,
             "ticks": ""
            },
            "colorscale": [
             [
              0,
              "#0d0887"
             ],
             [
              0.1111111111111111,
              "#46039f"
             ],
             [
              0.2222222222222222,
              "#7201a8"
             ],
             [
              0.3333333333333333,
              "#9c179e"
             ],
             [
              0.4444444444444444,
              "#bd3786"
             ],
             [
              0.5555555555555556,
              "#d8576b"
             ],
             [
              0.6666666666666666,
              "#ed7953"
             ],
             [
              0.7777777777777778,
              "#fb9f3a"
             ],
             [
              0.8888888888888888,
              "#fdca26"
             ],
             [
              1,
              "#f0f921"
             ]
            ],
            "type": "histogram2d"
           }
          ],
          "histogram2dcontour": [
           {
            "colorbar": {
             "outlinewidth": 0,
             "ticks": ""
            },
            "colorscale": [
             [
              0,
              "#0d0887"
             ],
             [
              0.1111111111111111,
              "#46039f"
             ],
             [
              0.2222222222222222,
              "#7201a8"
             ],
             [
              0.3333333333333333,
              "#9c179e"
             ],
             [
              0.4444444444444444,
              "#bd3786"
             ],
             [
              0.5555555555555556,
              "#d8576b"
             ],
             [
              0.6666666666666666,
              "#ed7953"
             ],
             [
              0.7777777777777778,
              "#fb9f3a"
             ],
             [
              0.8888888888888888,
              "#fdca26"
             ],
             [
              1,
              "#f0f921"
             ]
            ],
            "type": "histogram2dcontour"
           }
          ],
          "mesh3d": [
           {
            "colorbar": {
             "outlinewidth": 0,
             "ticks": ""
            },
            "type": "mesh3d"
           }
          ],
          "parcoords": [
           {
            "line": {
             "colorbar": {
              "outlinewidth": 0,
              "ticks": ""
             }
            },
            "type": "parcoords"
           }
          ],
          "pie": [
           {
            "automargin": true,
            "type": "pie"
           }
          ],
          "scatter": [
           {
            "marker": {
             "colorbar": {
              "outlinewidth": 0,
              "ticks": ""
             }
            },
            "type": "scatter"
           }
          ],
          "scatter3d": [
           {
            "line": {
             "colorbar": {
              "outlinewidth": 0,
              "ticks": ""
             }
            },
            "marker": {
             "colorbar": {
              "outlinewidth": 0,
              "ticks": ""
             }
            },
            "type": "scatter3d"
           }
          ],
          "scattercarpet": [
           {
            "marker": {
             "colorbar": {
              "outlinewidth": 0,
              "ticks": ""
             }
            },
            "type": "scattercarpet"
           }
          ],
          "scattergeo": [
           {
            "marker": {
             "colorbar": {
              "outlinewidth": 0,
              "ticks": ""
             }
            },
            "type": "scattergeo"
           }
          ],
          "scattergl": [
           {
            "marker": {
             "colorbar": {
              "outlinewidth": 0,
              "ticks": ""
             }
            },
            "type": "scattergl"
           }
          ],
          "scattermapbox": [
           {
            "marker": {
             "colorbar": {
              "outlinewidth": 0,
              "ticks": ""
             }
            },
            "type": "scattermapbox"
           }
          ],
          "scatterpolar": [
           {
            "marker": {
             "colorbar": {
              "outlinewidth": 0,
              "ticks": ""
             }
            },
            "type": "scatterpolar"
           }
          ],
          "scatterpolargl": [
           {
            "marker": {
             "colorbar": {
              "outlinewidth": 0,
              "ticks": ""
             }
            },
            "type": "scatterpolargl"
           }
          ],
          "scatterternary": [
           {
            "marker": {
             "colorbar": {
              "outlinewidth": 0,
              "ticks": ""
             }
            },
            "type": "scatterternary"
           }
          ],
          "surface": [
           {
            "colorbar": {
             "outlinewidth": 0,
             "ticks": ""
            },
            "colorscale": [
             [
              0,
              "#0d0887"
             ],
             [
              0.1111111111111111,
              "#46039f"
             ],
             [
              0.2222222222222222,
              "#7201a8"
             ],
             [
              0.3333333333333333,
              "#9c179e"
             ],
             [
              0.4444444444444444,
              "#bd3786"
             ],
             [
              0.5555555555555556,
              "#d8576b"
             ],
             [
              0.6666666666666666,
              "#ed7953"
             ],
             [
              0.7777777777777778,
              "#fb9f3a"
             ],
             [
              0.8888888888888888,
              "#fdca26"
             ],
             [
              1,
              "#f0f921"
             ]
            ],
            "type": "surface"
           }
          ],
          "table": [
           {
            "cells": {
             "fill": {
              "color": "#EBF0F8"
             },
             "line": {
              "color": "white"
             }
            },
            "header": {
             "fill": {
              "color": "#C8D4E3"
             },
             "line": {
              "color": "white"
             }
            },
            "type": "table"
           }
          ]
         },
         "layout": {
          "annotationdefaults": {
           "arrowcolor": "#2a3f5f",
           "arrowhead": 0,
           "arrowwidth": 1
          },
          "autotypenumbers": "strict",
          "coloraxis": {
           "colorbar": {
            "outlinewidth": 0,
            "ticks": ""
           }
          },
          "colorscale": {
           "diverging": [
            [
             0,
             "#8e0152"
            ],
            [
             0.1,
             "#c51b7d"
            ],
            [
             0.2,
             "#de77ae"
            ],
            [
             0.3,
             "#f1b6da"
            ],
            [
             0.4,
             "#fde0ef"
            ],
            [
             0.5,
             "#f7f7f7"
            ],
            [
             0.6,
             "#e6f5d0"
            ],
            [
             0.7,
             "#b8e186"
            ],
            [
             0.8,
             "#7fbc41"
            ],
            [
             0.9,
             "#4d9221"
            ],
            [
             1,
             "#276419"
            ]
           ],
           "sequential": [
            [
             0,
             "#0d0887"
            ],
            [
             0.1111111111111111,
             "#46039f"
            ],
            [
             0.2222222222222222,
             "#7201a8"
            ],
            [
             0.3333333333333333,
             "#9c179e"
            ],
            [
             0.4444444444444444,
             "#bd3786"
            ],
            [
             0.5555555555555556,
             "#d8576b"
            ],
            [
             0.6666666666666666,
             "#ed7953"
            ],
            [
             0.7777777777777778,
             "#fb9f3a"
            ],
            [
             0.8888888888888888,
             "#fdca26"
            ],
            [
             1,
             "#f0f921"
            ]
           ],
           "sequentialminus": [
            [
             0,
             "#0d0887"
            ],
            [
             0.1111111111111111,
             "#46039f"
            ],
            [
             0.2222222222222222,
             "#7201a8"
            ],
            [
             0.3333333333333333,
             "#9c179e"
            ],
            [
             0.4444444444444444,
             "#bd3786"
            ],
            [
             0.5555555555555556,
             "#d8576b"
            ],
            [
             0.6666666666666666,
             "#ed7953"
            ],
            [
             0.7777777777777778,
             "#fb9f3a"
            ],
            [
             0.8888888888888888,
             "#fdca26"
            ],
            [
             1,
             "#f0f921"
            ]
           ]
          },
          "colorway": [
           "#636efa",
           "#EF553B",
           "#00cc96",
           "#ab63fa",
           "#FFA15A",
           "#19d3f3",
           "#FF6692",
           "#B6E880",
           "#FF97FF",
           "#FECB52"
          ],
          "font": {
           "color": "#2a3f5f"
          },
          "geo": {
           "bgcolor": "white",
           "lakecolor": "white",
           "landcolor": "#E5ECF6",
           "showlakes": true,
           "showland": true,
           "subunitcolor": "white"
          },
          "hoverlabel": {
           "align": "left"
          },
          "hovermode": "closest",
          "mapbox": {
           "style": "light"
          },
          "paper_bgcolor": "white",
          "plot_bgcolor": "#E5ECF6",
          "polar": {
           "angularaxis": {
            "gridcolor": "white",
            "linecolor": "white",
            "ticks": ""
           },
           "bgcolor": "#E5ECF6",
           "radialaxis": {
            "gridcolor": "white",
            "linecolor": "white",
            "ticks": ""
           }
          },
          "scene": {
           "xaxis": {
            "backgroundcolor": "#E5ECF6",
            "gridcolor": "white",
            "gridwidth": 2,
            "linecolor": "white",
            "showbackground": true,
            "ticks": "",
            "zerolinecolor": "white"
           },
           "yaxis": {
            "backgroundcolor": "#E5ECF6",
            "gridcolor": "white",
            "gridwidth": 2,
            "linecolor": "white",
            "showbackground": true,
            "ticks": "",
            "zerolinecolor": "white"
           },
           "zaxis": {
            "backgroundcolor": "#E5ECF6",
            "gridcolor": "white",
            "gridwidth": 2,
            "linecolor": "white",
            "showbackground": true,
            "ticks": "",
            "zerolinecolor": "white"
           }
          },
          "shapedefaults": {
           "line": {
            "color": "#2a3f5f"
           }
          },
          "ternary": {
           "aaxis": {
            "gridcolor": "white",
            "linecolor": "white",
            "ticks": ""
           },
           "baxis": {
            "gridcolor": "white",
            "linecolor": "white",
            "ticks": ""
           },
           "bgcolor": "#E5ECF6",
           "caxis": {
            "gridcolor": "white",
            "linecolor": "white",
            "ticks": ""
           }
          },
          "title": {
           "x": 0.05
          },
          "xaxis": {
           "automargin": true,
           "gridcolor": "white",
           "linecolor": "white",
           "ticks": "",
           "title": {
            "standoff": 15
           },
           "zerolinecolor": "white",
           "zerolinewidth": 2
          },
          "yaxis": {
           "automargin": true,
           "gridcolor": "white",
           "linecolor": "white",
           "ticks": "",
           "title": {
            "standoff": 15
           },
           "zerolinecolor": "white",
           "zerolinewidth": 2
          }
         }
        }
       }
      }
     },
     "metadata": {},
     "output_type": "display_data"
    }
   ],
   "source": [
    "# 3D Scatter Plot, Recipe vs. Cuisine\n",
    "# TODO: fix legend labels (has to do with order you add countries to the trace), add title\n",
    "fig2 = make_subplots(rows=1,cols=2,specs=[[{'type':'scene'},{'type':'scene'}]])\n",
    "fig2.append_trace(go.Scatter3d(\n",
    "    x=cuisine_flavor['sweet'],\n",
    "    y=cuisine_flavor['sour'],\n",
    "    z=cuisine_flavor['salty'],\n",
    "    text=cuisine_flavor.index,\n",
    "    mode='markers',\n",
    "    marker=dict(\n",
    "        size=10,\n",
    "        color=px.colors.qualitative.Bold,\n",
    "    )\n",
    "    ),row=1,col=1\n",
    ")\n",
    "fig2.append_trace(go.Scatter3d(\n",
    "    x=cuisine_flavor['piquant'],\n",
    "    y=cuisine_flavor['bitter'],\n",
    "    z=cuisine_flavor['meaty'],\n",
    "    text=cuisine_flavor.index,\n",
    "    mode='markers',\n",
    "    marker=dict(\n",
    "        size=10,\n",
    "        color=px.colors.qualitative.Bold,\n",
    "    )\n",
    "    ),row=1,col=2)\n",
    "fig2.show()"
   ]
  },
  {
   "cell_type": "markdown",
   "id": "7071d645",
   "metadata": {},
   "source": [
    "From this vis. we can see that...\n",
    "* Why is hawaiian food so sweet? Use a visualization"
   ]
  },
  {
   "cell_type": "markdown",
   "id": "32ab4973",
   "metadata": {},
   "source": [
    "# Statistical Analysis"
   ]
  },
  {
   "cell_type": "markdown",
   "id": "429f6a48",
   "metadata": {},
   "source": [
    "# K-Nearest Neighbors Classifier"
   ]
  },
  {
   "cell_type": "code",
   "execution_count": 19,
   "id": "f04415ff",
   "metadata": {},
   "outputs": [
    {
     "ename": "NameError",
     "evalue": "name 'random' is not defined",
     "output_type": "error",
     "traceback": [
      "\u001b[1;31m---------------------------------------------------------------------------\u001b[0m",
      "\u001b[1;31mNameError\u001b[0m                                 Traceback (most recent call last)",
      "\u001b[1;32md:\\Files\\Documents\\cs105\\project2\\cs105-final-project\\final_project.ipynb Cell 22\u001b[0m in \u001b[0;36m<cell line: 8>\u001b[1;34m()\u001b[0m\n\u001b[0;32m      <a href='vscode-notebook-cell:/d%3A/Files/Documents/cs105/project2/cs105-final-project/final_project.ipynb#X30sZmlsZQ%3D%3D?line=4'>5</a>\u001b[0m     classifier\u001b[39m.\u001b[39mfit(data)\n\u001b[0;32m      <a href='vscode-notebook-cell:/d%3A/Files/Documents/cs105/project2/cs105-final-project/final_project.ipynb#X30sZmlsZQ%3D%3D?line=5'>6</a>\u001b[0m     \u001b[39mreturn\u001b[39;00m classifier\u001b[39m.\u001b[39mkneighbors([unknown])\n\u001b[1;32m----> <a href='vscode-notebook-cell:/d%3A/Files/Documents/cs105/project2/cs105-final-project/final_project.ipynb#X30sZmlsZQ%3D%3D?line=7'>8</a>\u001b[0m closestpts \u001b[39m=\u001b[39m knn(random, datastuff, \u001b[39m5\u001b[39m)\n\u001b[0;32m      <a href='vscode-notebook-cell:/d%3A/Files/Documents/cs105/project2/cs105-final-project/final_project.ipynb#X30sZmlsZQ%3D%3D?line=8'>9</a>\u001b[0m finalCuisine \u001b[39m=\u001b[39m \u001b[39mdict\u001b[39m(\u001b[39mzip\u001b[39m(CUISINES, [\u001b[39m0\u001b[39m] \u001b[39m*\u001b[39m \u001b[39mlen\u001b[39m(CUISINES)))\n\u001b[0;32m     <a href='vscode-notebook-cell:/d%3A/Files/Documents/cs105/project2/cs105-final-project/final_project.ipynb#X30sZmlsZQ%3D%3D?line=9'>10</a>\u001b[0m \u001b[39mfor\u001b[39;00m food \u001b[39min\u001b[39;00m closestpts:\n",
      "\u001b[1;31mNameError\u001b[0m: name 'random' is not defined"
     ]
    }
   ],
   "source": [
    "#ML STUFF\n",
    "neighbordata = food_df.loc[:, FLAVORS].values.tolist()\n",
    "def knn(unknown, data, neighbors: int):\n",
    "    classifier = NearestNeighbors(n_neighbors=neighbors)\n",
    "    classifier.fit(data)\n",
    "    return classifier.kneighbors([unknown])\n",
    "\n",
    "closestpts = knn(random, datastuff, 5)\n",
    "finalCuisine = dict(zip(CUISINES, [0] * len(CUISINES)))\n",
    "for food in closestpts:\n",
    "    for listCuisines in food_df.iloc[food, food_df.columns.get_loc(\"cuisine\")]:\n",
    "        for cuisine in listCuisines:\n",
    "             finalCuisine[cuisine] += 1/len(listCuisines)\n",
    "        "
   ]
  },
  {
   "cell_type": "code",
   "execution_count": null,
   "id": "de424abe",
   "metadata": {},
   "outputs": [
    {
     "data": {
      "text/plain": [
       "{'American': 0,\n",
       " 'Chinese': 0,\n",
       " 'Cuban': 0,\n",
       " 'English': 0,\n",
       " 'French': 0,\n",
       " 'German': 0,\n",
       " 'Greek': 0,\n",
       " 'Hawaiian': 0,\n",
       " 'Hungarian': 0,\n",
       " 'Indian': 0,\n",
       " 'Italian': 0,\n",
       " 'Japanese': 0,\n",
       " 'Mexican': 0,\n",
       " 'Moroccan': 0,\n",
       " 'Portuguese': 0,\n",
       " 'Spanish': 0,\n",
       " 'Swedish': 0,\n",
       " 'Thai': 0}"
      ]
     },
     "execution_count": 22,
     "metadata": {},
     "output_type": "execute_result"
    }
   ],
   "source": []
  },
  {
   "cell_type": "code",
   "execution_count": null,
   "id": "c54afbb5",
   "metadata": {},
   "outputs": [],
   "source": []
  }
 ],
 "metadata": {
  "kernelspec": {
   "display_name": "Python 3.9.12 ('base')",
   "language": "python",
   "name": "python3"
  },
  "language_info": {
   "codemirror_mode": {
    "name": "ipython",
    "version": 3
   },
   "file_extension": ".py",
   "mimetype": "text/x-python",
   "name": "python",
   "nbconvert_exporter": "python",
   "pygments_lexer": "ipython3",
   "version": "3.9.12"
  },
  "vscode": {
   "interpreter": {
    "hash": "690fcc030dbde6f3f652c519b06a0d95da528e66105ed58c88e506e5818277cb"
   }
  }
 },
 "nbformat": 4,
 "nbformat_minor": 5
}

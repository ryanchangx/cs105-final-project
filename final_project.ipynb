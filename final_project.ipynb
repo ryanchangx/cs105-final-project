{
 "cells": [
  {
   "cell_type": "markdown",
   "id": "50d2ff0e",
   "metadata": {},
   "source": [
    "# Project: Cuisine Classified\n",
    "Authors: \n",
    "* Ryan Chang - rchan123\n",
    "* Ryan Chandler - rchan129\n",
    "* Kunal Mittal - kmitt006\n",
    "* Fiorello Estuar - festu001\n",
    "* Kiet Lam - klam073"
   ]
  },
  {
   "cell_type": "markdown",
   "id": "6d9624b3",
   "metadata": {},
   "source": [
    "# Description\n",
    "\n",
    "This project aims to analyze the relationships between various flavors found in different foods and the cuisines that they are prominent in. "
   ]
  },
  {
   "cell_type": "markdown",
   "id": "935d68cb",
   "metadata": {},
   "source": [
    "# Reading/Cleaning Data\n",
    "This section handles any cleaning/pre-processing of data such that analysis can take place."
   ]
  },
  {
   "cell_type": "markdown",
   "id": "b17e337a",
   "metadata": {},
   "source": [
    "## Reading"
   ]
  },
  {
   "cell_type": "code",
   "execution_count": 1,
   "id": "9589e80f",
   "metadata": {},
   "outputs": [],
   "source": [
    "# importing libraries\n",
    "import numpy as np\n",
    "import pandas as pd\n",
    "from sklearn.neighbors import KNeighborsClassifier, NearestNeighbors\n",
    "import plotly.express as px\n",
    "import plotly.graph_objects as go\n",
    "from plotly.subplots import make_subplots\n",
    "import json, os\n",
    "\n",
    "flavor_dict = {'piquant': [], 'meaty': [], 'bitter': [], 'sweet': [], 'sour': [], 'salty': []}\n",
    "FLAVORS = np.array(list(flavor_dict.keys()))\n",
    "CUISINES = np.array(['American','Chinese','Cuban','English','French','German','Greek','Hawaiian','Hungarian','Indian','Italian','Japanese','Mexican','Moroccan','Portuguese','Spanish','Swedish','Thai'])"
   ]
  },
  {
   "cell_type": "code",
   "execution_count": 2,
   "id": "b4df4616-b6cb-4321-906a-a811f4061db2",
   "metadata": {},
   "outputs": [],
   "source": [
    "# Reading in the data\n",
    "food_list_folder = 'data/lists/'\n",
    "food_list_jsons = [food_json for food_json in os.listdir(food_list_folder) if food_json.endswith('.json')]\n",
    "\n",
    "food_df = pd.DataFrame(columns=['recipeName','ingredients','cuisine','flavors'])\n",
    "\n",
    "for index, js in enumerate(food_list_jsons):\n",
    "    with open(os.path.join(food_list_folder, js)) as food_list_file:\n",
    "        food_json = json.load(food_list_file)\n",
    "        num_items = len(food_json['matches'])\n",
    "        for idx in range(0,num_items):\n",
    "            f_obj = food_json['matches'][idx]\n",
    "            f_id = f_obj['id']\n",
    "            f_recipeName = f_obj['recipeName']\n",
    "            f_ingredients = f_obj['ingredients']\n",
    "            f_cuisine = f_obj['attributes']['cuisine']\n",
    "            f_flavors = f_obj['flavors']\n",
    "            food_df.loc[f_id] =  np.array([f_recipeName,f_ingredients,f_cuisine,f_flavors],dtype=object)"
   ]
  },
  {
   "cell_type": "markdown",
   "id": "c5e98f0a",
   "metadata": {},
   "source": [
    "## Cleaning"
   ]
  },
  {
   "cell_type": "code",
   "execution_count": 3,
   "id": "bc9ba5c1-2105-4fd5-98e0-f5a2d4f3963e",
   "metadata": {},
   "outputs": [
    {
     "data": {
      "text/html": [
       "<div>\n",
       "<style scoped>\n",
       "    .dataframe tbody tr th:only-of-type {\n",
       "        vertical-align: middle;\n",
       "    }\n",
       "\n",
       "    .dataframe tbody tr th {\n",
       "        vertical-align: top;\n",
       "    }\n",
       "\n",
       "    .dataframe thead th {\n",
       "        text-align: right;\n",
       "    }\n",
       "</style>\n",
       "<table border=\"1\" class=\"dataframe\">\n",
       "  <thead>\n",
       "    <tr style=\"text-align: right;\">\n",
       "      <th></th>\n",
       "      <th>recipeName</th>\n",
       "      <th>ingredients</th>\n",
       "      <th>cuisine</th>\n",
       "      <th>flavors</th>\n",
       "    </tr>\n",
       "  </thead>\n",
       "  <tbody>\n",
       "    <tr>\n",
       "      <th>Revolutionary-Mac-_-Cheese-1048867</th>\n",
       "      <td>Revolutionary Mac &amp; Cheese</td>\n",
       "      <td>[dried pasta, milk, shredded cheddar cheese, s...</td>\n",
       "      <td>[Kid-Friendly, Italian, American]</td>\n",
       "      <td>{'piquant': 0.16666666666666666, 'meaty': 0.16...</td>\n",
       "    </tr>\n",
       "    <tr>\n",
       "      <th>Chicago-Chicken-822419</th>\n",
       "      <td>Chicago Chicken</td>\n",
       "      <td>[jalapeno chilies, lemon, dried oregano, olive...</td>\n",
       "      <td>[Barbecue, American]</td>\n",
       "      <td>{'piquant': 0.8333333333333334, 'meaty': 0.666...</td>\n",
       "    </tr>\n",
       "    <tr>\n",
       "      <th>Chicken-Avocado-Burgers-1031197</th>\n",
       "      <td>Chicken Avocado Burgers</td>\n",
       "      <td>[ground chicken, avocado, chopped garlic, pank...</td>\n",
       "      <td>[Barbecue, Mexican, American]</td>\n",
       "      <td>{'piquant': 0.6666666666666666, 'meaty': 1.0, ...</td>\n",
       "    </tr>\n",
       "    <tr>\n",
       "      <th>Best-Basic-Burger-500667</th>\n",
       "      <td>Best Basic Burger</td>\n",
       "      <td>[ground beef, eggs, salt, ground black pepper,...</td>\n",
       "      <td>[Barbecue, American]</td>\n",
       "      <td>{'piquant': 0.8333333333333334, 'meaty': 0.833...</td>\n",
       "    </tr>\n",
       "    <tr>\n",
       "      <th>Easy-garlic-and-lemon-shrimp-309257</th>\n",
       "      <td>Easy Garlic and Lemon Shrimp</td>\n",
       "      <td>[jumbo shrimp, olive oil, butter, minced garli...</td>\n",
       "      <td>[Barbecue, Italian, Asian, American]</td>\n",
       "      <td>{'piquant': 0.0, 'meaty': 0.8333333333333334, ...</td>\n",
       "    </tr>\n",
       "  </tbody>\n",
       "</table>\n",
       "</div>"
      ],
      "text/plain": [
       "                                                       recipeName  \\\n",
       "Revolutionary-Mac-_-Cheese-1048867     Revolutionary Mac & Cheese   \n",
       "Chicago-Chicken-822419                            Chicago Chicken   \n",
       "Chicken-Avocado-Burgers-1031197           Chicken Avocado Burgers   \n",
       "Best-Basic-Burger-500667                        Best Basic Burger   \n",
       "Easy-garlic-and-lemon-shrimp-309257  Easy Garlic and Lemon Shrimp   \n",
       "\n",
       "                                                                           ingredients  \\\n",
       "Revolutionary-Mac-_-Cheese-1048867   [dried pasta, milk, shredded cheddar cheese, s...   \n",
       "Chicago-Chicken-822419               [jalapeno chilies, lemon, dried oregano, olive...   \n",
       "Chicken-Avocado-Burgers-1031197      [ground chicken, avocado, chopped garlic, pank...   \n",
       "Best-Basic-Burger-500667             [ground beef, eggs, salt, ground black pepper,...   \n",
       "Easy-garlic-and-lemon-shrimp-309257  [jumbo shrimp, olive oil, butter, minced garli...   \n",
       "\n",
       "                                                                  cuisine  \\\n",
       "Revolutionary-Mac-_-Cheese-1048867      [Kid-Friendly, Italian, American]   \n",
       "Chicago-Chicken-822419                               [Barbecue, American]   \n",
       "Chicken-Avocado-Burgers-1031197             [Barbecue, Mexican, American]   \n",
       "Best-Basic-Burger-500667                             [Barbecue, American]   \n",
       "Easy-garlic-and-lemon-shrimp-309257  [Barbecue, Italian, Asian, American]   \n",
       "\n",
       "                                                                               flavors  \n",
       "Revolutionary-Mac-_-Cheese-1048867   {'piquant': 0.16666666666666666, 'meaty': 0.16...  \n",
       "Chicago-Chicken-822419               {'piquant': 0.8333333333333334, 'meaty': 0.666...  \n",
       "Chicken-Avocado-Burgers-1031197      {'piquant': 0.6666666666666666, 'meaty': 1.0, ...  \n",
       "Best-Basic-Burger-500667             {'piquant': 0.8333333333333334, 'meaty': 0.833...  \n",
       "Easy-garlic-and-lemon-shrimp-309257  {'piquant': 0.0, 'meaty': 0.8333333333333334, ...  "
      ]
     },
     "execution_count": 3,
     "metadata": {},
     "output_type": "execute_result"
    }
   ],
   "source": [
    "# dropping all rows that do not have labels\n",
    "food_df = food_df[food_df['flavors'].notna()]\n",
    "food_df.head()"
   ]
  },
  {
   "cell_type": "code",
   "execution_count": 4,
   "id": "51c40d2b",
   "metadata": {},
   "outputs": [],
   "source": [
    "# clean the flavors\n",
    "flavor_dict = {'piquant': [], 'meaty': [], 'bitter': [], 'sweet': [], 'sour': [], 'salty': []}\n",
    "for flavors in food_df.flavors:    \n",
    "    for specificFlavor in flavors:\n",
    "        flavor_dict[specificFlavor].append(flavors[specificFlavor])\n",
    "\n",
    "for flavorKey in flavor_dict:\n",
    "    try:\n",
    "        food_df.insert(len(food_df.columns), flavorKey, flavor_dict[flavorKey])\n",
    "    except:\n",
    "        pass\n",
    "\n",
    "# food_df.drop(columns = [\"flavors\"], inplace=True)"
   ]
  },
  {
   "cell_type": "code",
   "execution_count": 5,
   "id": "4ad7f2ec",
   "metadata": {},
   "outputs": [
    {
     "data": {
      "text/html": [
       "<div>\n",
       "<style scoped>\n",
       "    .dataframe tbody tr th:only-of-type {\n",
       "        vertical-align: middle;\n",
       "    }\n",
       "\n",
       "    .dataframe tbody tr th {\n",
       "        vertical-align: top;\n",
       "    }\n",
       "\n",
       "    .dataframe thead th {\n",
       "        text-align: right;\n",
       "    }\n",
       "</style>\n",
       "<table border=\"1\" class=\"dataframe\">\n",
       "  <thead>\n",
       "    <tr style=\"text-align: right;\">\n",
       "      <th></th>\n",
       "      <th>recipeName</th>\n",
       "      <th>ingredients</th>\n",
       "      <th>cuisine</th>\n",
       "      <th>flavors</th>\n",
       "      <th>piquant</th>\n",
       "      <th>meaty</th>\n",
       "      <th>bitter</th>\n",
       "      <th>sweet</th>\n",
       "      <th>sour</th>\n",
       "      <th>salty</th>\n",
       "      <th>...</th>\n",
       "      <th>Hungarian</th>\n",
       "      <th>Indian</th>\n",
       "      <th>Italian</th>\n",
       "      <th>Japanese</th>\n",
       "      <th>Mexican</th>\n",
       "      <th>Moroccan</th>\n",
       "      <th>Portuguese</th>\n",
       "      <th>Spanish</th>\n",
       "      <th>Swedish</th>\n",
       "      <th>Thai</th>\n",
       "    </tr>\n",
       "  </thead>\n",
       "  <tbody>\n",
       "    <tr>\n",
       "      <th>Revolutionary-Mac-_-Cheese-1048867</th>\n",
       "      <td>Revolutionary Mac &amp; Cheese</td>\n",
       "      <td>[dried pasta, milk, shredded cheddar cheese, s...</td>\n",
       "      <td>[Kid-Friendly, Italian, American]</td>\n",
       "      <td>{'piquant': 0.16666666666666666, 'meaty': 0.16...</td>\n",
       "      <td>0.166667</td>\n",
       "      <td>0.166667</td>\n",
       "      <td>0.666667</td>\n",
       "      <td>0.166667</td>\n",
       "      <td>0.166667</td>\n",
       "      <td>0.833333</td>\n",
       "      <td>...</td>\n",
       "      <td>0.0</td>\n",
       "      <td>0.0</td>\n",
       "      <td>1.0</td>\n",
       "      <td>0.0</td>\n",
       "      <td>0.0</td>\n",
       "      <td>0.0</td>\n",
       "      <td>0.0</td>\n",
       "      <td>0.0</td>\n",
       "      <td>0.0</td>\n",
       "      <td>0.0</td>\n",
       "    </tr>\n",
       "    <tr>\n",
       "      <th>Chicago-Chicken-822419</th>\n",
       "      <td>Chicago Chicken</td>\n",
       "      <td>[jalapeno chilies, lemon, dried oregano, olive...</td>\n",
       "      <td>[Barbecue, American]</td>\n",
       "      <td>{'piquant': 0.8333333333333334, 'meaty': 0.666...</td>\n",
       "      <td>0.833333</td>\n",
       "      <td>0.666667</td>\n",
       "      <td>0.166667</td>\n",
       "      <td>0.000000</td>\n",
       "      <td>0.833333</td>\n",
       "      <td>0.166667</td>\n",
       "      <td>...</td>\n",
       "      <td>0.0</td>\n",
       "      <td>0.0</td>\n",
       "      <td>0.0</td>\n",
       "      <td>0.0</td>\n",
       "      <td>0.0</td>\n",
       "      <td>0.0</td>\n",
       "      <td>0.0</td>\n",
       "      <td>0.0</td>\n",
       "      <td>0.0</td>\n",
       "      <td>0.0</td>\n",
       "    </tr>\n",
       "    <tr>\n",
       "      <th>Chicken-Avocado-Burgers-1031197</th>\n",
       "      <td>Chicken Avocado Burgers</td>\n",
       "      <td>[ground chicken, avocado, chopped garlic, pank...</td>\n",
       "      <td>[Barbecue, Mexican, American]</td>\n",
       "      <td>{'piquant': 0.6666666666666666, 'meaty': 1.0, ...</td>\n",
       "      <td>0.666667</td>\n",
       "      <td>1.000000</td>\n",
       "      <td>1.000000</td>\n",
       "      <td>1.000000</td>\n",
       "      <td>1.000000</td>\n",
       "      <td>1.000000</td>\n",
       "      <td>...</td>\n",
       "      <td>0.0</td>\n",
       "      <td>0.0</td>\n",
       "      <td>0.0</td>\n",
       "      <td>0.0</td>\n",
       "      <td>1.0</td>\n",
       "      <td>0.0</td>\n",
       "      <td>0.0</td>\n",
       "      <td>0.0</td>\n",
       "      <td>0.0</td>\n",
       "      <td>0.0</td>\n",
       "    </tr>\n",
       "    <tr>\n",
       "      <th>Best-Basic-Burger-500667</th>\n",
       "      <td>Best Basic Burger</td>\n",
       "      <td>[ground beef, eggs, salt, ground black pepper,...</td>\n",
       "      <td>[Barbecue, American]</td>\n",
       "      <td>{'piquant': 0.8333333333333334, 'meaty': 0.833...</td>\n",
       "      <td>0.833333</td>\n",
       "      <td>0.833333</td>\n",
       "      <td>0.666667</td>\n",
       "      <td>0.166667</td>\n",
       "      <td>0.166667</td>\n",
       "      <td>0.833333</td>\n",
       "      <td>...</td>\n",
       "      <td>0.0</td>\n",
       "      <td>0.0</td>\n",
       "      <td>0.0</td>\n",
       "      <td>0.0</td>\n",
       "      <td>0.0</td>\n",
       "      <td>0.0</td>\n",
       "      <td>0.0</td>\n",
       "      <td>0.0</td>\n",
       "      <td>0.0</td>\n",
       "      <td>0.0</td>\n",
       "    </tr>\n",
       "    <tr>\n",
       "      <th>Easy-garlic-and-lemon-shrimp-309257</th>\n",
       "      <td>Easy Garlic and Lemon Shrimp</td>\n",
       "      <td>[jumbo shrimp, olive oil, butter, minced garli...</td>\n",
       "      <td>[Barbecue, Italian, Asian, American]</td>\n",
       "      <td>{'piquant': 0.0, 'meaty': 0.8333333333333334, ...</td>\n",
       "      <td>0.000000</td>\n",
       "      <td>0.833333</td>\n",
       "      <td>0.333333</td>\n",
       "      <td>0.166667</td>\n",
       "      <td>0.500000</td>\n",
       "      <td>0.666667</td>\n",
       "      <td>...</td>\n",
       "      <td>0.0</td>\n",
       "      <td>0.0</td>\n",
       "      <td>1.0</td>\n",
       "      <td>0.0</td>\n",
       "      <td>0.0</td>\n",
       "      <td>0.0</td>\n",
       "      <td>0.0</td>\n",
       "      <td>0.0</td>\n",
       "      <td>0.0</td>\n",
       "      <td>0.0</td>\n",
       "    </tr>\n",
       "  </tbody>\n",
       "</table>\n",
       "<p>5 rows × 28 columns</p>\n",
       "</div>"
      ],
      "text/plain": [
       "                                                       recipeName  \\\n",
       "Revolutionary-Mac-_-Cheese-1048867     Revolutionary Mac & Cheese   \n",
       "Chicago-Chicken-822419                            Chicago Chicken   \n",
       "Chicken-Avocado-Burgers-1031197           Chicken Avocado Burgers   \n",
       "Best-Basic-Burger-500667                        Best Basic Burger   \n",
       "Easy-garlic-and-lemon-shrimp-309257  Easy Garlic and Lemon Shrimp   \n",
       "\n",
       "                                                                           ingredients  \\\n",
       "Revolutionary-Mac-_-Cheese-1048867   [dried pasta, milk, shredded cheddar cheese, s...   \n",
       "Chicago-Chicken-822419               [jalapeno chilies, lemon, dried oregano, olive...   \n",
       "Chicken-Avocado-Burgers-1031197      [ground chicken, avocado, chopped garlic, pank...   \n",
       "Best-Basic-Burger-500667             [ground beef, eggs, salt, ground black pepper,...   \n",
       "Easy-garlic-and-lemon-shrimp-309257  [jumbo shrimp, olive oil, butter, minced garli...   \n",
       "\n",
       "                                                                  cuisine  \\\n",
       "Revolutionary-Mac-_-Cheese-1048867      [Kid-Friendly, Italian, American]   \n",
       "Chicago-Chicken-822419                               [Barbecue, American]   \n",
       "Chicken-Avocado-Burgers-1031197             [Barbecue, Mexican, American]   \n",
       "Best-Basic-Burger-500667                             [Barbecue, American]   \n",
       "Easy-garlic-and-lemon-shrimp-309257  [Barbecue, Italian, Asian, American]   \n",
       "\n",
       "                                                                               flavors  \\\n",
       "Revolutionary-Mac-_-Cheese-1048867   {'piquant': 0.16666666666666666, 'meaty': 0.16...   \n",
       "Chicago-Chicken-822419               {'piquant': 0.8333333333333334, 'meaty': 0.666...   \n",
       "Chicken-Avocado-Burgers-1031197      {'piquant': 0.6666666666666666, 'meaty': 1.0, ...   \n",
       "Best-Basic-Burger-500667             {'piquant': 0.8333333333333334, 'meaty': 0.833...   \n",
       "Easy-garlic-and-lemon-shrimp-309257  {'piquant': 0.0, 'meaty': 0.8333333333333334, ...   \n",
       "\n",
       "                                      piquant     meaty    bitter     sweet  \\\n",
       "Revolutionary-Mac-_-Cheese-1048867   0.166667  0.166667  0.666667  0.166667   \n",
       "Chicago-Chicken-822419               0.833333  0.666667  0.166667  0.000000   \n",
       "Chicken-Avocado-Burgers-1031197      0.666667  1.000000  1.000000  1.000000   \n",
       "Best-Basic-Burger-500667             0.833333  0.833333  0.666667  0.166667   \n",
       "Easy-garlic-and-lemon-shrimp-309257  0.000000  0.833333  0.333333  0.166667   \n",
       "\n",
       "                                         sour     salty  ...  Hungarian  \\\n",
       "Revolutionary-Mac-_-Cheese-1048867   0.166667  0.833333  ...        0.0   \n",
       "Chicago-Chicken-822419               0.833333  0.166667  ...        0.0   \n",
       "Chicken-Avocado-Burgers-1031197      1.000000  1.000000  ...        0.0   \n",
       "Best-Basic-Burger-500667             0.166667  0.833333  ...        0.0   \n",
       "Easy-garlic-and-lemon-shrimp-309257  0.500000  0.666667  ...        0.0   \n",
       "\n",
       "                                     Indian  Italian  Japanese  Mexican  \\\n",
       "Revolutionary-Mac-_-Cheese-1048867      0.0      1.0       0.0      0.0   \n",
       "Chicago-Chicken-822419                  0.0      0.0       0.0      0.0   \n",
       "Chicken-Avocado-Burgers-1031197         0.0      0.0       0.0      1.0   \n",
       "Best-Basic-Burger-500667                0.0      0.0       0.0      0.0   \n",
       "Easy-garlic-and-lemon-shrimp-309257     0.0      1.0       0.0      0.0   \n",
       "\n",
       "                                     Moroccan  Portuguese  Spanish  Swedish  \\\n",
       "Revolutionary-Mac-_-Cheese-1048867        0.0         0.0      0.0      0.0   \n",
       "Chicago-Chicken-822419                    0.0         0.0      0.0      0.0   \n",
       "Chicken-Avocado-Burgers-1031197           0.0         0.0      0.0      0.0   \n",
       "Best-Basic-Burger-500667                  0.0         0.0      0.0      0.0   \n",
       "Easy-garlic-and-lemon-shrimp-309257       0.0         0.0      0.0      0.0   \n",
       "\n",
       "                                     Thai  \n",
       "Revolutionary-Mac-_-Cheese-1048867    0.0  \n",
       "Chicago-Chicken-822419                0.0  \n",
       "Chicken-Avocado-Burgers-1031197       0.0  \n",
       "Best-Basic-Burger-500667              0.0  \n",
       "Easy-garlic-and-lemon-shrimp-309257   0.0  \n",
       "\n",
       "[5 rows x 28 columns]"
      ]
     },
     "execution_count": 5,
     "metadata": {},
     "output_type": "execute_result"
    }
   ],
   "source": [
    "# clean the cuisines, give each it's own column and label 0 or 1 based on presence\n",
    "for cus in CUISINES:\n",
    "    for key, cus_list in food_df.iterrows():\n",
    "        food_df.loc[key,cus] = 1 if cus in cus_list['cuisine'] else 0\n",
    "food_df.head()"
   ]
  },
  {
   "cell_type": "code",
   "execution_count": 6,
   "id": "31cb8005",
   "metadata": {},
   "outputs": [
    {
     "data": {
      "text/html": [
       "<div>\n",
       "<style scoped>\n",
       "    .dataframe tbody tr th:only-of-type {\n",
       "        vertical-align: middle;\n",
       "    }\n",
       "\n",
       "    .dataframe tbody tr th {\n",
       "        vertical-align: top;\n",
       "    }\n",
       "\n",
       "    .dataframe thead th {\n",
       "        text-align: right;\n",
       "    }\n",
       "</style>\n",
       "<table border=\"1\" class=\"dataframe\">\n",
       "  <thead>\n",
       "    <tr style=\"text-align: right;\">\n",
       "      <th></th>\n",
       "      <th>recipeName</th>\n",
       "      <th>ingredients</th>\n",
       "      <th>cuisine</th>\n",
       "      <th>flavors</th>\n",
       "      <th>piquant</th>\n",
       "      <th>meaty</th>\n",
       "      <th>bitter</th>\n",
       "      <th>sweet</th>\n",
       "      <th>sour</th>\n",
       "      <th>salty</th>\n",
       "      <th>...</th>\n",
       "      <th>Hungarian</th>\n",
       "      <th>Indian</th>\n",
       "      <th>Italian</th>\n",
       "      <th>Japanese</th>\n",
       "      <th>Mexican</th>\n",
       "      <th>Moroccan</th>\n",
       "      <th>Portuguese</th>\n",
       "      <th>Spanish</th>\n",
       "      <th>Swedish</th>\n",
       "      <th>Thai</th>\n",
       "    </tr>\n",
       "  </thead>\n",
       "  <tbody>\n",
       "    <tr>\n",
       "      <th>Revolutionary-Mac-_-Cheese-1048867</th>\n",
       "      <td>Revolutionary Mac &amp; Cheese</td>\n",
       "      <td>[dried pasta, milk, shredded cheddar cheese, s...</td>\n",
       "      <td>[American, Italian]</td>\n",
       "      <td>{'piquant': 0.16666666666666666, 'meaty': 0.16...</td>\n",
       "      <td>0.166667</td>\n",
       "      <td>0.166667</td>\n",
       "      <td>0.666667</td>\n",
       "      <td>0.166667</td>\n",
       "      <td>0.166667</td>\n",
       "      <td>0.833333</td>\n",
       "      <td>...</td>\n",
       "      <td>0.0</td>\n",
       "      <td>0.0</td>\n",
       "      <td>1.0</td>\n",
       "      <td>0.0</td>\n",
       "      <td>0.0</td>\n",
       "      <td>0.0</td>\n",
       "      <td>0.0</td>\n",
       "      <td>0.0</td>\n",
       "      <td>0.0</td>\n",
       "      <td>0.0</td>\n",
       "    </tr>\n",
       "    <tr>\n",
       "      <th>Chicago-Chicken-822419</th>\n",
       "      <td>Chicago Chicken</td>\n",
       "      <td>[jalapeno chilies, lemon, dried oregano, olive...</td>\n",
       "      <td>[American]</td>\n",
       "      <td>{'piquant': 0.8333333333333334, 'meaty': 0.666...</td>\n",
       "      <td>0.833333</td>\n",
       "      <td>0.666667</td>\n",
       "      <td>0.166667</td>\n",
       "      <td>0.000000</td>\n",
       "      <td>0.833333</td>\n",
       "      <td>0.166667</td>\n",
       "      <td>...</td>\n",
       "      <td>0.0</td>\n",
       "      <td>0.0</td>\n",
       "      <td>0.0</td>\n",
       "      <td>0.0</td>\n",
       "      <td>0.0</td>\n",
       "      <td>0.0</td>\n",
       "      <td>0.0</td>\n",
       "      <td>0.0</td>\n",
       "      <td>0.0</td>\n",
       "      <td>0.0</td>\n",
       "    </tr>\n",
       "    <tr>\n",
       "      <th>Chicken-Avocado-Burgers-1031197</th>\n",
       "      <td>Chicken Avocado Burgers</td>\n",
       "      <td>[ground chicken, avocado, chopped garlic, pank...</td>\n",
       "      <td>[American, Mexican]</td>\n",
       "      <td>{'piquant': 0.6666666666666666, 'meaty': 1.0, ...</td>\n",
       "      <td>0.666667</td>\n",
       "      <td>1.000000</td>\n",
       "      <td>1.000000</td>\n",
       "      <td>1.000000</td>\n",
       "      <td>1.000000</td>\n",
       "      <td>1.000000</td>\n",
       "      <td>...</td>\n",
       "      <td>0.0</td>\n",
       "      <td>0.0</td>\n",
       "      <td>0.0</td>\n",
       "      <td>0.0</td>\n",
       "      <td>1.0</td>\n",
       "      <td>0.0</td>\n",
       "      <td>0.0</td>\n",
       "      <td>0.0</td>\n",
       "      <td>0.0</td>\n",
       "      <td>0.0</td>\n",
       "    </tr>\n",
       "    <tr>\n",
       "      <th>Best-Basic-Burger-500667</th>\n",
       "      <td>Best Basic Burger</td>\n",
       "      <td>[ground beef, eggs, salt, ground black pepper,...</td>\n",
       "      <td>[American]</td>\n",
       "      <td>{'piquant': 0.8333333333333334, 'meaty': 0.833...</td>\n",
       "      <td>0.833333</td>\n",
       "      <td>0.833333</td>\n",
       "      <td>0.666667</td>\n",
       "      <td>0.166667</td>\n",
       "      <td>0.166667</td>\n",
       "      <td>0.833333</td>\n",
       "      <td>...</td>\n",
       "      <td>0.0</td>\n",
       "      <td>0.0</td>\n",
       "      <td>0.0</td>\n",
       "      <td>0.0</td>\n",
       "      <td>0.0</td>\n",
       "      <td>0.0</td>\n",
       "      <td>0.0</td>\n",
       "      <td>0.0</td>\n",
       "      <td>0.0</td>\n",
       "      <td>0.0</td>\n",
       "    </tr>\n",
       "    <tr>\n",
       "      <th>Easy-garlic-and-lemon-shrimp-309257</th>\n",
       "      <td>Easy Garlic and Lemon Shrimp</td>\n",
       "      <td>[jumbo shrimp, olive oil, butter, minced garli...</td>\n",
       "      <td>[American, Italian]</td>\n",
       "      <td>{'piquant': 0.0, 'meaty': 0.8333333333333334, ...</td>\n",
       "      <td>0.000000</td>\n",
       "      <td>0.833333</td>\n",
       "      <td>0.333333</td>\n",
       "      <td>0.166667</td>\n",
       "      <td>0.500000</td>\n",
       "      <td>0.666667</td>\n",
       "      <td>...</td>\n",
       "      <td>0.0</td>\n",
       "      <td>0.0</td>\n",
       "      <td>1.0</td>\n",
       "      <td>0.0</td>\n",
       "      <td>0.0</td>\n",
       "      <td>0.0</td>\n",
       "      <td>0.0</td>\n",
       "      <td>0.0</td>\n",
       "      <td>0.0</td>\n",
       "      <td>0.0</td>\n",
       "    </tr>\n",
       "    <tr>\n",
       "      <th>...</th>\n",
       "      <td>...</td>\n",
       "      <td>...</td>\n",
       "      <td>...</td>\n",
       "      <td>...</td>\n",
       "      <td>...</td>\n",
       "      <td>...</td>\n",
       "      <td>...</td>\n",
       "      <td>...</td>\n",
       "      <td>...</td>\n",
       "      <td>...</td>\n",
       "      <td>...</td>\n",
       "      <td>...</td>\n",
       "      <td>...</td>\n",
       "      <td>...</td>\n",
       "      <td>...</td>\n",
       "      <td>...</td>\n",
       "      <td>...</td>\n",
       "      <td>...</td>\n",
       "      <td>...</td>\n",
       "      <td>...</td>\n",
       "      <td>...</td>\n",
       "    </tr>\n",
       "    <tr>\n",
       "      <th>Vegan-Thai-Green-Curry-from-scratch-with-Sweet-Potatoes_-Tofu_-and-Green-Beans-1872186</th>\n",
       "      <td>Vegan Thai Green Curry from scratch with Sweet...</td>\n",
       "      <td>[coriander seeds, garlic, thai chile, serrano ...</td>\n",
       "      <td>[Thai]</td>\n",
       "      <td>{'piquant': 0.8333333333333334, 'meaty': 0.166...</td>\n",
       "      <td>0.833333</td>\n",
       "      <td>0.166667</td>\n",
       "      <td>0.166667</td>\n",
       "      <td>0.333333</td>\n",
       "      <td>0.500000</td>\n",
       "      <td>0.166667</td>\n",
       "      <td>...</td>\n",
       "      <td>0.0</td>\n",
       "      <td>0.0</td>\n",
       "      <td>0.0</td>\n",
       "      <td>0.0</td>\n",
       "      <td>0.0</td>\n",
       "      <td>0.0</td>\n",
       "      <td>0.0</td>\n",
       "      <td>0.0</td>\n",
       "      <td>0.0</td>\n",
       "      <td>1.0</td>\n",
       "    </tr>\n",
       "    <tr>\n",
       "      <th>Thai-Chicken-With-Basil-Stir-Fry-Allrecipes</th>\n",
       "      <td>Thai Chicken with Basil Stir Fry</td>\n",
       "      <td>[jasmine rice, water, coconut milk, soy sauce,...</td>\n",
       "      <td>[Thai]</td>\n",
       "      <td>{'piquant': 0.16666666666666666, 'meaty': 0.16...</td>\n",
       "      <td>0.166667</td>\n",
       "      <td>0.166667</td>\n",
       "      <td>0.166667</td>\n",
       "      <td>0.166667</td>\n",
       "      <td>0.166667</td>\n",
       "      <td>0.500000</td>\n",
       "      <td>...</td>\n",
       "      <td>0.0</td>\n",
       "      <td>0.0</td>\n",
       "      <td>0.0</td>\n",
       "      <td>0.0</td>\n",
       "      <td>0.0</td>\n",
       "      <td>0.0</td>\n",
       "      <td>0.0</td>\n",
       "      <td>0.0</td>\n",
       "      <td>0.0</td>\n",
       "      <td>1.0</td>\n",
       "    </tr>\n",
       "    <tr>\n",
       "      <th>Larb-Gai-Thai-Chicken-Skillet-2057774</th>\n",
       "      <td>Larb Gai Thai Chicken Skillet</td>\n",
       "      <td>[cauliflower, coconut oil, ground chicken, gre...</td>\n",
       "      <td>[Thai]</td>\n",
       "      <td>{'piquant': 0.3333333333333333, 'meaty': 0.166...</td>\n",
       "      <td>0.333333</td>\n",
       "      <td>0.166667</td>\n",
       "      <td>0.833333</td>\n",
       "      <td>0.166667</td>\n",
       "      <td>0.833333</td>\n",
       "      <td>0.833333</td>\n",
       "      <td>...</td>\n",
       "      <td>0.0</td>\n",
       "      <td>0.0</td>\n",
       "      <td>0.0</td>\n",
       "      <td>0.0</td>\n",
       "      <td>0.0</td>\n",
       "      <td>0.0</td>\n",
       "      <td>0.0</td>\n",
       "      <td>0.0</td>\n",
       "      <td>0.0</td>\n",
       "      <td>1.0</td>\n",
       "    </tr>\n",
       "    <tr>\n",
       "      <th>Fish-Sticks-with-Thai-Peanut-Sauce-1183636</th>\n",
       "      <td>Fish Sticks with Thai Peanut Sauce</td>\n",
       "      <td>[tilapia fillets, panko breadcrumbs, coconut m...</td>\n",
       "      <td>[Thai]</td>\n",
       "      <td>{'piquant': 0.16666666666666666, 'meaty': 0.66...</td>\n",
       "      <td>0.166667</td>\n",
       "      <td>0.666667</td>\n",
       "      <td>0.666667</td>\n",
       "      <td>0.333333</td>\n",
       "      <td>0.666667</td>\n",
       "      <td>0.666667</td>\n",
       "      <td>...</td>\n",
       "      <td>0.0</td>\n",
       "      <td>0.0</td>\n",
       "      <td>0.0</td>\n",
       "      <td>0.0</td>\n",
       "      <td>0.0</td>\n",
       "      <td>0.0</td>\n",
       "      <td>0.0</td>\n",
       "      <td>0.0</td>\n",
       "      <td>0.0</td>\n",
       "      <td>1.0</td>\n",
       "    </tr>\n",
       "    <tr>\n",
       "      <th>Thai-Red-Curry-Mussels-1781402</th>\n",
       "      <td>Thai Red Curry Mussels</td>\n",
       "      <td>[mussels, peanut oil, garlic, minced ginger, T...</td>\n",
       "      <td>[Thai]</td>\n",
       "      <td>{'piquant': 0.0, 'meaty': 0.16666666666666666,...</td>\n",
       "      <td>0.000000</td>\n",
       "      <td>0.166667</td>\n",
       "      <td>0.833333</td>\n",
       "      <td>0.166667</td>\n",
       "      <td>0.500000</td>\n",
       "      <td>0.833333</td>\n",
       "      <td>...</td>\n",
       "      <td>0.0</td>\n",
       "      <td>0.0</td>\n",
       "      <td>0.0</td>\n",
       "      <td>0.0</td>\n",
       "      <td>0.0</td>\n",
       "      <td>0.0</td>\n",
       "      <td>0.0</td>\n",
       "      <td>0.0</td>\n",
       "      <td>0.0</td>\n",
       "      <td>1.0</td>\n",
       "    </tr>\n",
       "  </tbody>\n",
       "</table>\n",
       "<p>11533 rows × 28 columns</p>\n",
       "</div>"
      ],
      "text/plain": [
       "                                                                                           recipeName  \\\n",
       "Revolutionary-Mac-_-Cheese-1048867                                         Revolutionary Mac & Cheese   \n",
       "Chicago-Chicken-822419                                                                Chicago Chicken   \n",
       "Chicken-Avocado-Burgers-1031197                                               Chicken Avocado Burgers   \n",
       "Best-Basic-Burger-500667                                                            Best Basic Burger   \n",
       "Easy-garlic-and-lemon-shrimp-309257                                      Easy Garlic and Lemon Shrimp   \n",
       "...                                                                                               ...   \n",
       "Vegan-Thai-Green-Curry-from-scratch-with-Sweet-...  Vegan Thai Green Curry from scratch with Sweet...   \n",
       "Thai-Chicken-With-Basil-Stir-Fry-Allrecipes                          Thai Chicken with Basil Stir Fry   \n",
       "Larb-Gai-Thai-Chicken-Skillet-2057774                                   Larb Gai Thai Chicken Skillet   \n",
       "Fish-Sticks-with-Thai-Peanut-Sauce-1183636                         Fish Sticks with Thai Peanut Sauce   \n",
       "Thai-Red-Curry-Mussels-1781402                                                 Thai Red Curry Mussels   \n",
       "\n",
       "                                                                                          ingredients  \\\n",
       "Revolutionary-Mac-_-Cheese-1048867                  [dried pasta, milk, shredded cheddar cheese, s...   \n",
       "Chicago-Chicken-822419                              [jalapeno chilies, lemon, dried oregano, olive...   \n",
       "Chicken-Avocado-Burgers-1031197                     [ground chicken, avocado, chopped garlic, pank...   \n",
       "Best-Basic-Burger-500667                            [ground beef, eggs, salt, ground black pepper,...   \n",
       "Easy-garlic-and-lemon-shrimp-309257                 [jumbo shrimp, olive oil, butter, minced garli...   \n",
       "...                                                                                               ...   \n",
       "Vegan-Thai-Green-Curry-from-scratch-with-Sweet-...  [coriander seeds, garlic, thai chile, serrano ...   \n",
       "Thai-Chicken-With-Basil-Stir-Fry-Allrecipes         [jasmine rice, water, coconut milk, soy sauce,...   \n",
       "Larb-Gai-Thai-Chicken-Skillet-2057774               [cauliflower, coconut oil, ground chicken, gre...   \n",
       "Fish-Sticks-with-Thai-Peanut-Sauce-1183636          [tilapia fillets, panko breadcrumbs, coconut m...   \n",
       "Thai-Red-Curry-Mussels-1781402                      [mussels, peanut oil, garlic, minced ginger, T...   \n",
       "\n",
       "                                                                cuisine  \\\n",
       "Revolutionary-Mac-_-Cheese-1048867                  [American, Italian]   \n",
       "Chicago-Chicken-822419                                       [American]   \n",
       "Chicken-Avocado-Burgers-1031197                     [American, Mexican]   \n",
       "Best-Basic-Burger-500667                                     [American]   \n",
       "Easy-garlic-and-lemon-shrimp-309257                 [American, Italian]   \n",
       "...                                                                 ...   \n",
       "Vegan-Thai-Green-Curry-from-scratch-with-Sweet-...               [Thai]   \n",
       "Thai-Chicken-With-Basil-Stir-Fry-Allrecipes                      [Thai]   \n",
       "Larb-Gai-Thai-Chicken-Skillet-2057774                            [Thai]   \n",
       "Fish-Sticks-with-Thai-Peanut-Sauce-1183636                       [Thai]   \n",
       "Thai-Red-Curry-Mussels-1781402                                   [Thai]   \n",
       "\n",
       "                                                                                              flavors  \\\n",
       "Revolutionary-Mac-_-Cheese-1048867                  {'piquant': 0.16666666666666666, 'meaty': 0.16...   \n",
       "Chicago-Chicken-822419                              {'piquant': 0.8333333333333334, 'meaty': 0.666...   \n",
       "Chicken-Avocado-Burgers-1031197                     {'piquant': 0.6666666666666666, 'meaty': 1.0, ...   \n",
       "Best-Basic-Burger-500667                            {'piquant': 0.8333333333333334, 'meaty': 0.833...   \n",
       "Easy-garlic-and-lemon-shrimp-309257                 {'piquant': 0.0, 'meaty': 0.8333333333333334, ...   \n",
       "...                                                                                               ...   \n",
       "Vegan-Thai-Green-Curry-from-scratch-with-Sweet-...  {'piquant': 0.8333333333333334, 'meaty': 0.166...   \n",
       "Thai-Chicken-With-Basil-Stir-Fry-Allrecipes         {'piquant': 0.16666666666666666, 'meaty': 0.16...   \n",
       "Larb-Gai-Thai-Chicken-Skillet-2057774               {'piquant': 0.3333333333333333, 'meaty': 0.166...   \n",
       "Fish-Sticks-with-Thai-Peanut-Sauce-1183636          {'piquant': 0.16666666666666666, 'meaty': 0.66...   \n",
       "Thai-Red-Curry-Mussels-1781402                      {'piquant': 0.0, 'meaty': 0.16666666666666666,...   \n",
       "\n",
       "                                                     piquant     meaty  \\\n",
       "Revolutionary-Mac-_-Cheese-1048867                  0.166667  0.166667   \n",
       "Chicago-Chicken-822419                              0.833333  0.666667   \n",
       "Chicken-Avocado-Burgers-1031197                     0.666667  1.000000   \n",
       "Best-Basic-Burger-500667                            0.833333  0.833333   \n",
       "Easy-garlic-and-lemon-shrimp-309257                 0.000000  0.833333   \n",
       "...                                                      ...       ...   \n",
       "Vegan-Thai-Green-Curry-from-scratch-with-Sweet-...  0.833333  0.166667   \n",
       "Thai-Chicken-With-Basil-Stir-Fry-Allrecipes         0.166667  0.166667   \n",
       "Larb-Gai-Thai-Chicken-Skillet-2057774               0.333333  0.166667   \n",
       "Fish-Sticks-with-Thai-Peanut-Sauce-1183636          0.166667  0.666667   \n",
       "Thai-Red-Curry-Mussels-1781402                      0.000000  0.166667   \n",
       "\n",
       "                                                      bitter     sweet  \\\n",
       "Revolutionary-Mac-_-Cheese-1048867                  0.666667  0.166667   \n",
       "Chicago-Chicken-822419                              0.166667  0.000000   \n",
       "Chicken-Avocado-Burgers-1031197                     1.000000  1.000000   \n",
       "Best-Basic-Burger-500667                            0.666667  0.166667   \n",
       "Easy-garlic-and-lemon-shrimp-309257                 0.333333  0.166667   \n",
       "...                                                      ...       ...   \n",
       "Vegan-Thai-Green-Curry-from-scratch-with-Sweet-...  0.166667  0.333333   \n",
       "Thai-Chicken-With-Basil-Stir-Fry-Allrecipes         0.166667  0.166667   \n",
       "Larb-Gai-Thai-Chicken-Skillet-2057774               0.833333  0.166667   \n",
       "Fish-Sticks-with-Thai-Peanut-Sauce-1183636          0.666667  0.333333   \n",
       "Thai-Red-Curry-Mussels-1781402                      0.833333  0.166667   \n",
       "\n",
       "                                                        sour     salty  ...  \\\n",
       "Revolutionary-Mac-_-Cheese-1048867                  0.166667  0.833333  ...   \n",
       "Chicago-Chicken-822419                              0.833333  0.166667  ...   \n",
       "Chicken-Avocado-Burgers-1031197                     1.000000  1.000000  ...   \n",
       "Best-Basic-Burger-500667                            0.166667  0.833333  ...   \n",
       "Easy-garlic-and-lemon-shrimp-309257                 0.500000  0.666667  ...   \n",
       "...                                                      ...       ...  ...   \n",
       "Vegan-Thai-Green-Curry-from-scratch-with-Sweet-...  0.500000  0.166667  ...   \n",
       "Thai-Chicken-With-Basil-Stir-Fry-Allrecipes         0.166667  0.500000  ...   \n",
       "Larb-Gai-Thai-Chicken-Skillet-2057774               0.833333  0.833333  ...   \n",
       "Fish-Sticks-with-Thai-Peanut-Sauce-1183636          0.666667  0.666667  ...   \n",
       "Thai-Red-Curry-Mussels-1781402                      0.500000  0.833333  ...   \n",
       "\n",
       "                                                    Hungarian  Indian  \\\n",
       "Revolutionary-Mac-_-Cheese-1048867                        0.0     0.0   \n",
       "Chicago-Chicken-822419                                    0.0     0.0   \n",
       "Chicken-Avocado-Burgers-1031197                           0.0     0.0   \n",
       "Best-Basic-Burger-500667                                  0.0     0.0   \n",
       "Easy-garlic-and-lemon-shrimp-309257                       0.0     0.0   \n",
       "...                                                       ...     ...   \n",
       "Vegan-Thai-Green-Curry-from-scratch-with-Sweet-...        0.0     0.0   \n",
       "Thai-Chicken-With-Basil-Stir-Fry-Allrecipes               0.0     0.0   \n",
       "Larb-Gai-Thai-Chicken-Skillet-2057774                     0.0     0.0   \n",
       "Fish-Sticks-with-Thai-Peanut-Sauce-1183636                0.0     0.0   \n",
       "Thai-Red-Curry-Mussels-1781402                            0.0     0.0   \n",
       "\n",
       "                                                    Italian  Japanese  \\\n",
       "Revolutionary-Mac-_-Cheese-1048867                      1.0       0.0   \n",
       "Chicago-Chicken-822419                                  0.0       0.0   \n",
       "Chicken-Avocado-Burgers-1031197                         0.0       0.0   \n",
       "Best-Basic-Burger-500667                                0.0       0.0   \n",
       "Easy-garlic-and-lemon-shrimp-309257                     1.0       0.0   \n",
       "...                                                     ...       ...   \n",
       "Vegan-Thai-Green-Curry-from-scratch-with-Sweet-...      0.0       0.0   \n",
       "Thai-Chicken-With-Basil-Stir-Fry-Allrecipes             0.0       0.0   \n",
       "Larb-Gai-Thai-Chicken-Skillet-2057774                   0.0       0.0   \n",
       "Fish-Sticks-with-Thai-Peanut-Sauce-1183636              0.0       0.0   \n",
       "Thai-Red-Curry-Mussels-1781402                          0.0       0.0   \n",
       "\n",
       "                                                    Mexican  Moroccan  \\\n",
       "Revolutionary-Mac-_-Cheese-1048867                      0.0       0.0   \n",
       "Chicago-Chicken-822419                                  0.0       0.0   \n",
       "Chicken-Avocado-Burgers-1031197                         1.0       0.0   \n",
       "Best-Basic-Burger-500667                                0.0       0.0   \n",
       "Easy-garlic-and-lemon-shrimp-309257                     0.0       0.0   \n",
       "...                                                     ...       ...   \n",
       "Vegan-Thai-Green-Curry-from-scratch-with-Sweet-...      0.0       0.0   \n",
       "Thai-Chicken-With-Basil-Stir-Fry-Allrecipes             0.0       0.0   \n",
       "Larb-Gai-Thai-Chicken-Skillet-2057774                   0.0       0.0   \n",
       "Fish-Sticks-with-Thai-Peanut-Sauce-1183636              0.0       0.0   \n",
       "Thai-Red-Curry-Mussels-1781402                          0.0       0.0   \n",
       "\n",
       "                                                    Portuguese  Spanish  \\\n",
       "Revolutionary-Mac-_-Cheese-1048867                         0.0      0.0   \n",
       "Chicago-Chicken-822419                                     0.0      0.0   \n",
       "Chicken-Avocado-Burgers-1031197                            0.0      0.0   \n",
       "Best-Basic-Burger-500667                                   0.0      0.0   \n",
       "Easy-garlic-and-lemon-shrimp-309257                        0.0      0.0   \n",
       "...                                                        ...      ...   \n",
       "Vegan-Thai-Green-Curry-from-scratch-with-Sweet-...         0.0      0.0   \n",
       "Thai-Chicken-With-Basil-Stir-Fry-Allrecipes                0.0      0.0   \n",
       "Larb-Gai-Thai-Chicken-Skillet-2057774                      0.0      0.0   \n",
       "Fish-Sticks-with-Thai-Peanut-Sauce-1183636                 0.0      0.0   \n",
       "Thai-Red-Curry-Mussels-1781402                             0.0      0.0   \n",
       "\n",
       "                                                    Swedish  Thai  \n",
       "Revolutionary-Mac-_-Cheese-1048867                      0.0   0.0  \n",
       "Chicago-Chicken-822419                                  0.0   0.0  \n",
       "Chicken-Avocado-Burgers-1031197                         0.0   0.0  \n",
       "Best-Basic-Burger-500667                                0.0   0.0  \n",
       "Easy-garlic-and-lemon-shrimp-309257                     0.0   0.0  \n",
       "...                                                     ...   ...  \n",
       "Vegan-Thai-Green-Curry-from-scratch-with-Sweet-...      0.0   1.0  \n",
       "Thai-Chicken-With-Basil-Stir-Fry-Allrecipes             0.0   1.0  \n",
       "Larb-Gai-Thai-Chicken-Skillet-2057774                   0.0   1.0  \n",
       "Fish-Sticks-with-Thai-Peanut-Sauce-1183636              0.0   1.0  \n",
       "Thai-Red-Curry-Mussels-1781402                          0.0   1.0  \n",
       "\n",
       "[11533 rows x 28 columns]"
      ]
     },
     "execution_count": 6,
     "metadata": {},
     "output_type": "execute_result"
    }
   ],
   "source": [
    "food_df[\"cuisine\"] = food_df.apply(lambda row: np.intersect1d(np.asarray(row[\"cuisine\"]), CUISINES), axis=1)\n",
    "food_df"
   ]
  },
  {
   "cell_type": "code",
   "execution_count": 7,
   "id": "90b8dba9",
   "metadata": {},
   "outputs": [
    {
     "data": {
      "text/html": [
       "<div>\n",
       "<style scoped>\n",
       "    .dataframe tbody tr th:only-of-type {\n",
       "        vertical-align: middle;\n",
       "    }\n",
       "\n",
       "    .dataframe tbody tr th {\n",
       "        vertical-align: top;\n",
       "    }\n",
       "\n",
       "    .dataframe thead th {\n",
       "        text-align: right;\n",
       "    }\n",
       "</style>\n",
       "<table border=\"1\" class=\"dataframe\">\n",
       "  <thead>\n",
       "    <tr style=\"text-align: right;\">\n",
       "      <th></th>\n",
       "      <th>piquant</th>\n",
       "      <th>meaty</th>\n",
       "      <th>bitter</th>\n",
       "      <th>sweet</th>\n",
       "      <th>sour</th>\n",
       "      <th>salty</th>\n",
       "    </tr>\n",
       "  </thead>\n",
       "  <tbody>\n",
       "    <tr>\n",
       "      <th>dried pasta</th>\n",
       "      <td>0.111111</td>\n",
       "      <td>0.444444</td>\n",
       "      <td>0.277778</td>\n",
       "      <td>0.177778</td>\n",
       "      <td>0.355556</td>\n",
       "      <td>0.400000</td>\n",
       "    </tr>\n",
       "    <tr>\n",
       "      <th>milk</th>\n",
       "      <td>0.230501</td>\n",
       "      <td>0.398793</td>\n",
       "      <td>0.415738</td>\n",
       "      <td>0.194058</td>\n",
       "      <td>0.337047</td>\n",
       "      <td>0.522052</td>\n",
       "    </tr>\n",
       "    <tr>\n",
       "      <th>shredded cheddar cheese</th>\n",
       "      <td>0.547074</td>\n",
       "      <td>0.442748</td>\n",
       "      <td>0.589059</td>\n",
       "      <td>0.206107</td>\n",
       "      <td>0.409669</td>\n",
       "      <td>0.625954</td>\n",
       "    </tr>\n",
       "    <tr>\n",
       "      <th>salt</th>\n",
       "      <td>0.266009</td>\n",
       "      <td>0.382381</td>\n",
       "      <td>0.407343</td>\n",
       "      <td>0.205210</td>\n",
       "      <td>0.445939</td>\n",
       "      <td>0.480264</td>\n",
       "    </tr>\n",
       "    <tr>\n",
       "      <th>dijon mustard</th>\n",
       "      <td>0.344246</td>\n",
       "      <td>0.450893</td>\n",
       "      <td>0.410714</td>\n",
       "      <td>0.208333</td>\n",
       "      <td>0.425595</td>\n",
       "      <td>0.500992</td>\n",
       "    </tr>\n",
       "  </tbody>\n",
       "</table>\n",
       "</div>"
      ],
      "text/plain": [
       "                          piquant     meaty    bitter     sweet      sour  \\\n",
       "dried pasta              0.111111  0.444444  0.277778  0.177778  0.355556   \n",
       "milk                     0.230501  0.398793  0.415738  0.194058  0.337047   \n",
       "shredded cheddar cheese  0.547074  0.442748  0.589059  0.206107  0.409669   \n",
       "salt                     0.266009  0.382381  0.407343  0.205210  0.445939   \n",
       "dijon mustard            0.344246  0.450893  0.410714  0.208333  0.425595   \n",
       "\n",
       "                            salty  \n",
       "dried pasta              0.400000  \n",
       "milk                     0.522052  \n",
       "shredded cheddar cheese  0.625954  \n",
       "salt                     0.480264  \n",
       "dijon mustard            0.500992  "
      ]
     },
     "execution_count": 7,
     "metadata": {},
     "output_type": "execute_result"
    }
   ],
   "source": [
    "#clean the ingredients\n",
    "ingredientDict = {}\n",
    "for ingredeintList in food_df.ingredients :\n",
    "    for ingredient in ingredeintList :\n",
    "        if ingredient not in ingredientDict :\n",
    "            ingredientDict[ingredient] = {}\n",
    "\n",
    "ingredientdf = pd.DataFrame.from_dict(ingredientDict, orient='index')\n",
    "\n",
    "for index, row in food_df.iterrows() :\n",
    "    for ingredient in row.ingredients :\n",
    "        for flavor in row.flavors :\n",
    "                if(flavor not in ingredientDict[ingredient]) :\n",
    "                    ingredientDict[ingredient][flavor] = [row.flavors[flavor]]\n",
    "                else :\n",
    "                    ingredientDict[ingredient][flavor].append(row.flavors[flavor])\n",
    "\n",
    "discardList = []\n",
    "for ingredient in ingredientDict:\n",
    "    if len(ingredientDict[ingredient]['piquant']) < 10 :\n",
    "        discardList.append(ingredient)\n",
    "        continue\n",
    "    for flavor in ingredientDict[ingredient] :\n",
    "        ingredientDict[ingredient][flavor] = sum(ingredientDict[ingredient][flavor])/len(ingredientDict[ingredient][flavor])\n",
    "#print(ingredientDict)\n",
    "for ingredient in discardList :\n",
    "    ingredientDict.pop(ingredient)\n",
    "ingredient_df = pd.DataFrame.from_dict(ingredientDict, orient='index')\n",
    "ingredient_df.head()\n"
   ]
  },
  {
   "cell_type": "markdown",
   "id": "84727b57",
   "metadata": {},
   "source": [
    "# Elementary Data Analysis"
   ]
  },
  {
   "cell_type": "code",
   "execution_count": 8,
   "id": "8ad07f10-c603-41f8-9c67-30223b8c36f6",
   "metadata": {},
   "outputs": [],
   "source": [
    "# cuisines\n",
    "#   v1. which are the top n cuisines (frequency) in the dataset\n",
    "#   v2. which cuisines have higher amounts of fusion.\n",
    "#   v3. which cuisines are most blended with other cuisines (heat map?)\n",
    "\n",
    "# flavor\n",
    "#   v1. MMM - using every recipe together at first (broken down by cuisine)\n",
    "#       - flavors: broken down into the 6 categories\n",
    "#   v2. for each of the cuisines, visualize the flavors - spider graph\n",
    "#   v3. why is hawaiian food so sweet?\n",
    "\n",
    "# ingredients (kiet/ryan)\n",
    "#   v1. MMM\n",
    "#   v2. \n",
    "#   v3. \n"
   ]
  },
  {
   "cell_type": "markdown",
   "id": "3a99bafd",
   "metadata": {},
   "source": [
    "##  Flavor\n",
    "\n",
    "In this section, we aim to examine flavors of a given recipe, and any patterns that may exist within each flavor, or it's predicitve power over the various cuisines."
   ]
  },
  {
   "cell_type": "code",
   "execution_count": 9,
   "id": "500492c2",
   "metadata": {},
   "outputs": [
    {
     "data": {
      "text/html": [
       "<div>\n",
       "<style scoped>\n",
       "    .dataframe tbody tr th:only-of-type {\n",
       "        vertical-align: middle;\n",
       "    }\n",
       "\n",
       "    .dataframe tbody tr th {\n",
       "        vertical-align: top;\n",
       "    }\n",
       "\n",
       "    .dataframe thead th {\n",
       "        text-align: right;\n",
       "    }\n",
       "</style>\n",
       "<table border=\"1\" class=\"dataframe\">\n",
       "  <thead>\n",
       "    <tr style=\"text-align: right;\">\n",
       "      <th></th>\n",
       "      <th>Cuisine</th>\n",
       "      <th>Proportion</th>\n",
       "    </tr>\n",
       "  </thead>\n",
       "  <tbody>\n",
       "    <tr>\n",
       "      <th>5</th>\n",
       "      <td>German</td>\n",
       "      <td>0.070454</td>\n",
       "    </tr>\n",
       "    <tr>\n",
       "      <th>1</th>\n",
       "      <td>Chinese</td>\n",
       "      <td>0.067600</td>\n",
       "    </tr>\n",
       "    <tr>\n",
       "      <th>15</th>\n",
       "      <td>Spanish</td>\n",
       "      <td>0.066262</td>\n",
       "    </tr>\n",
       "    <tr>\n",
       "      <th>6</th>\n",
       "      <td>Greek</td>\n",
       "      <td>0.066084</td>\n",
       "    </tr>\n",
       "    <tr>\n",
       "      <th>13</th>\n",
       "      <td>Moroccan</td>\n",
       "      <td>0.065549</td>\n",
       "    </tr>\n",
       "    <tr>\n",
       "      <th>4</th>\n",
       "      <td>French</td>\n",
       "      <td>0.063230</td>\n",
       "    </tr>\n",
       "    <tr>\n",
       "      <th>3</th>\n",
       "      <td>English</td>\n",
       "      <td>0.061090</td>\n",
       "    </tr>\n",
       "    <tr>\n",
       "      <th>0</th>\n",
       "      <td>American</td>\n",
       "      <td>0.060644</td>\n",
       "    </tr>\n",
       "    <tr>\n",
       "      <th>10</th>\n",
       "      <td>Italian</td>\n",
       "      <td>0.060109</td>\n",
       "    </tr>\n",
       "    <tr>\n",
       "      <th>12</th>\n",
       "      <td>Mexican</td>\n",
       "      <td>0.059930</td>\n",
       "    </tr>\n",
       "    <tr>\n",
       "      <th>9</th>\n",
       "      <td>Indian</td>\n",
       "      <td>0.058771</td>\n",
       "    </tr>\n",
       "    <tr>\n",
       "      <th>2</th>\n",
       "      <td>Cuban</td>\n",
       "      <td>0.049496</td>\n",
       "    </tr>\n",
       "    <tr>\n",
       "      <th>11</th>\n",
       "      <td>Japanese</td>\n",
       "      <td>0.048961</td>\n",
       "    </tr>\n",
       "    <tr>\n",
       "      <th>17</th>\n",
       "      <td>Thai</td>\n",
       "      <td>0.048604</td>\n",
       "    </tr>\n",
       "    <tr>\n",
       "      <th>7</th>\n",
       "      <td>Hawaiian</td>\n",
       "      <td>0.047534</td>\n",
       "    </tr>\n",
       "    <tr>\n",
       "      <th>8</th>\n",
       "      <td>Hungarian</td>\n",
       "      <td>0.045394</td>\n",
       "    </tr>\n",
       "    <tr>\n",
       "      <th>16</th>\n",
       "      <td>Swedish</td>\n",
       "      <td>0.041202</td>\n",
       "    </tr>\n",
       "    <tr>\n",
       "      <th>14</th>\n",
       "      <td>Portuguese</td>\n",
       "      <td>0.019085</td>\n",
       "    </tr>\n",
       "  </tbody>\n",
       "</table>\n",
       "</div>"
      ],
      "text/plain": [
       "       Cuisine  Proportion\n",
       "5       German    0.070454\n",
       "1      Chinese    0.067600\n",
       "15     Spanish    0.066262\n",
       "6        Greek    0.066084\n",
       "13    Moroccan    0.065549\n",
       "4       French    0.063230\n",
       "3      English    0.061090\n",
       "0     American    0.060644\n",
       "10     Italian    0.060109\n",
       "12     Mexican    0.059930\n",
       "9       Indian    0.058771\n",
       "2        Cuban    0.049496\n",
       "11    Japanese    0.048961\n",
       "17        Thai    0.048604\n",
       "7     Hawaiian    0.047534\n",
       "8    Hungarian    0.045394\n",
       "16     Swedish    0.041202\n",
       "14  Portuguese    0.019085"
      ]
     },
     "execution_count": 9,
     "metadata": {},
     "output_type": "execute_result"
    }
   ],
   "source": [
    "### Fio's part\n",
    "\n",
    "### Top cuisines (by frequency) in the dataset\n",
    "# We create a dictionary where the keys are the names of the cuisines, and the values are the number of recipes which possess that cuisine tag.\n",
    "dict_cuisine_freq = {}\n",
    "for cus in CUISINES:\n",
    "    dict_cuisine_freq[cus] = int(food_df[cus].sum())\n",
    "\n",
    "# Because each recipe may have more than one cuisine tag, we cannot calculate a proportion off the total number of recipes alone because our numerator\n",
    "#  would be bigger than the denominator, so we instead calculate our proportions off the total number of tags. This provides the secondary benefit of\n",
    "#  having non-fusion recipes \"count\" for more, as they contribute less tags to the total count of recipes.\n",
    "#  EX: A fusion recipe with 5 (American, Chinese, Hawaiian, Japanese, Indian) tags would only be 1/5 as meaningful to the overall proportion of chinese recipes\n",
    "#        compared to a recipe with only 1 tag, Chinese.\n",
    "num_tags = sum(dict_cuisine_freq.values())\n",
    "# print(dict_cuisine_freq) \n",
    "# print(num_tags)\n",
    "\n",
    "\n",
    "# Calculate the proportion of each cuisine across all recipes, then convert into a dataframe.\n",
    "dict_proportion = {}\n",
    "for cus in CUISINES:\n",
    "    dict_proportion[cus] = dict_cuisine_freq[cus] / num_tags\n",
    "df_proportions = pd.DataFrame(list(dict_proportion.items()), columns = ['Cuisine', 'Proportion'])\n",
    "\n",
    "# Sort the dataframe by descending proportion\n",
    "df_proportions.sort_values(by=['Proportion'], ascending=False)"
   ]
  },
  {
   "cell_type": "code",
   "execution_count": 10,
   "id": "17b03503",
   "metadata": {},
   "outputs": [],
   "source": [
    "# TODO: Visualization for Cuisine proportion"
   ]
  },
  {
   "cell_type": "markdown",
   "id": "0be7471b",
   "metadata": {},
   "source": [
    "TODO: Written Analysis for proportion of cuisines "
   ]
  },
  {
   "cell_type": "code",
   "execution_count": 11,
   "id": "ebf15974",
   "metadata": {},
   "outputs": [
    {
     "data": {
      "text/html": [
       "<div>\n",
       "<style scoped>\n",
       "    .dataframe tbody tr th:only-of-type {\n",
       "        vertical-align: middle;\n",
       "    }\n",
       "\n",
       "    .dataframe tbody tr th {\n",
       "        vertical-align: top;\n",
       "    }\n",
       "\n",
       "    .dataframe thead th {\n",
       "        text-align: right;\n",
       "    }\n",
       "</style>\n",
       "<table border=\"1\" class=\"dataframe\">\n",
       "  <thead>\n",
       "    <tr style=\"text-align: right;\">\n",
       "      <th></th>\n",
       "      <th>piquant</th>\n",
       "      <th>meaty</th>\n",
       "      <th>bitter</th>\n",
       "      <th>sweet</th>\n",
       "      <th>sour</th>\n",
       "      <th>salty</th>\n",
       "      <th>magnitude</th>\n",
       "    </tr>\n",
       "  </thead>\n",
       "  <tbody>\n",
       "    <tr>\n",
       "      <th>American</th>\n",
       "      <td>0.308578</td>\n",
       "      <td>0.421569</td>\n",
       "      <td>0.422549</td>\n",
       "      <td>0.22402</td>\n",
       "      <td>0.415686</td>\n",
       "      <td>0.475</td>\n",
       "      <td>0.377900</td>\n",
       "    </tr>\n",
       "    <tr>\n",
       "      <th>Chinese</th>\n",
       "      <td>0.228012</td>\n",
       "      <td>0.427221</td>\n",
       "      <td>0.568821</td>\n",
       "      <td>0.274846</td>\n",
       "      <td>0.42942</td>\n",
       "      <td>0.668646</td>\n",
       "      <td>0.432828</td>\n",
       "    </tr>\n",
       "    <tr>\n",
       "      <th>Cuban</th>\n",
       "      <td>0.315616</td>\n",
       "      <td>0.411411</td>\n",
       "      <td>0.357958</td>\n",
       "      <td>0.213213</td>\n",
       "      <td>0.575976</td>\n",
       "      <td>0.45976</td>\n",
       "      <td>0.388989</td>\n",
       "    </tr>\n",
       "    <tr>\n",
       "      <th>English</th>\n",
       "      <td>0.256934</td>\n",
       "      <td>0.416058</td>\n",
       "      <td>0.366423</td>\n",
       "      <td>0.179075</td>\n",
       "      <td>0.361557</td>\n",
       "      <td>0.43163</td>\n",
       "      <td>0.335280</td>\n",
       "    </tr>\n",
       "    <tr>\n",
       "      <th>French</th>\n",
       "      <td>0.122238</td>\n",
       "      <td>0.415609</td>\n",
       "      <td>0.338035</td>\n",
       "      <td>0.176305</td>\n",
       "      <td>0.344147</td>\n",
       "      <td>0.392102</td>\n",
       "      <td>0.298072</td>\n",
       "    </tr>\n",
       "    <tr>\n",
       "      <th>German</th>\n",
       "      <td>0.133122</td>\n",
       "      <td>0.405907</td>\n",
       "      <td>0.412025</td>\n",
       "      <td>0.203376</td>\n",
       "      <td>0.394937</td>\n",
       "      <td>0.531224</td>\n",
       "      <td>0.346765</td>\n",
       "    </tr>\n",
       "    <tr>\n",
       "      <th>Greek</th>\n",
       "      <td>0.111561</td>\n",
       "      <td>0.369546</td>\n",
       "      <td>0.409132</td>\n",
       "      <td>0.18556</td>\n",
       "      <td>0.496401</td>\n",
       "      <td>0.480882</td>\n",
       "      <td>0.342180</td>\n",
       "    </tr>\n",
       "    <tr>\n",
       "      <th>Hawaiian</th>\n",
       "      <td>0.267355</td>\n",
       "      <td>0.328956</td>\n",
       "      <td>0.490306</td>\n",
       "      <td>0.434959</td>\n",
       "      <td>0.652908</td>\n",
       "      <td>0.640088</td>\n",
       "      <td>0.469095</td>\n",
       "    </tr>\n",
       "    <tr>\n",
       "      <th>Hungarian</th>\n",
       "      <td>0.364113</td>\n",
       "      <td>0.311722</td>\n",
       "      <td>0.285527</td>\n",
       "      <td>0.185986</td>\n",
       "      <td>0.465946</td>\n",
       "      <td>0.361166</td>\n",
       "      <td>0.329077</td>\n",
       "    </tr>\n",
       "    <tr>\n",
       "      <th>Indian</th>\n",
       "      <td>0.458017</td>\n",
       "      <td>0.346485</td>\n",
       "      <td>0.379616</td>\n",
       "      <td>0.197016</td>\n",
       "      <td>0.48002</td>\n",
       "      <td>0.399595</td>\n",
       "      <td>0.376791</td>\n",
       "    </tr>\n",
       "    <tr>\n",
       "      <th>Italian</th>\n",
       "      <td>0.096934</td>\n",
       "      <td>0.431751</td>\n",
       "      <td>0.476508</td>\n",
       "      <td>0.208952</td>\n",
       "      <td>0.349901</td>\n",
       "      <td>0.529921</td>\n",
       "      <td>0.348994</td>\n",
       "    </tr>\n",
       "    <tr>\n",
       "      <th>Japanese</th>\n",
       "      <td>0.132665</td>\n",
       "      <td>0.406193</td>\n",
       "      <td>0.617183</td>\n",
       "      <td>0.234366</td>\n",
       "      <td>0.329387</td>\n",
       "      <td>0.687614</td>\n",
       "      <td>0.401235</td>\n",
       "    </tr>\n",
       "    <tr>\n",
       "      <th>Mexican</th>\n",
       "      <td>0.601687</td>\n",
       "      <td>0.419395</td>\n",
       "      <td>0.528026</td>\n",
       "      <td>0.205853</td>\n",
       "      <td>0.458581</td>\n",
       "      <td>0.600198</td>\n",
       "      <td>0.468957</td>\n",
       "    </tr>\n",
       "    <tr>\n",
       "      <th>Moroccan</th>\n",
       "      <td>0.263719</td>\n",
       "      <td>0.371655</td>\n",
       "      <td>0.338776</td>\n",
       "      <td>0.214739</td>\n",
       "      <td>0.470748</td>\n",
       "      <td>0.386168</td>\n",
       "      <td>0.340967</td>\n",
       "    </tr>\n",
       "    <tr>\n",
       "      <th>Portuguese</th>\n",
       "      <td>0.294393</td>\n",
       "      <td>0.39486</td>\n",
       "      <td>0.34891</td>\n",
       "      <td>0.175234</td>\n",
       "      <td>0.485981</td>\n",
       "      <td>0.38162</td>\n",
       "      <td>0.346833</td>\n",
       "    </tr>\n",
       "    <tr>\n",
       "      <th>Spanish</th>\n",
       "      <td>0.394123</td>\n",
       "      <td>0.312248</td>\n",
       "      <td>0.304621</td>\n",
       "      <td>0.176312</td>\n",
       "      <td>0.575594</td>\n",
       "      <td>0.387842</td>\n",
       "      <td>0.358457</td>\n",
       "    </tr>\n",
       "    <tr>\n",
       "      <th>Swedish</th>\n",
       "      <td>0.232684</td>\n",
       "      <td>0.453463</td>\n",
       "      <td>0.34596</td>\n",
       "      <td>0.193001</td>\n",
       "      <td>0.217172</td>\n",
       "      <td>0.545455</td>\n",
       "      <td>0.331289</td>\n",
       "    </tr>\n",
       "    <tr>\n",
       "      <th>Thai</th>\n",
       "      <td>0.38685</td>\n",
       "      <td>0.37737</td>\n",
       "      <td>0.533333</td>\n",
       "      <td>0.240979</td>\n",
       "      <td>0.53211</td>\n",
       "      <td>0.589602</td>\n",
       "      <td>0.443374</td>\n",
       "    </tr>\n",
       "  </tbody>\n",
       "</table>\n",
       "</div>"
      ],
      "text/plain": [
       "             piquant     meaty    bitter     sweet      sour     salty  \\\n",
       "American    0.308578  0.421569  0.422549   0.22402  0.415686     0.475   \n",
       "Chinese     0.228012  0.427221  0.568821  0.274846   0.42942  0.668646   \n",
       "Cuban       0.315616  0.411411  0.357958  0.213213  0.575976   0.45976   \n",
       "English     0.256934  0.416058  0.366423  0.179075  0.361557   0.43163   \n",
       "French      0.122238  0.415609  0.338035  0.176305  0.344147  0.392102   \n",
       "German      0.133122  0.405907  0.412025  0.203376  0.394937  0.531224   \n",
       "Greek       0.111561  0.369546  0.409132   0.18556  0.496401  0.480882   \n",
       "Hawaiian    0.267355  0.328956  0.490306  0.434959  0.652908  0.640088   \n",
       "Hungarian   0.364113  0.311722  0.285527  0.185986  0.465946  0.361166   \n",
       "Indian      0.458017  0.346485  0.379616  0.197016   0.48002  0.399595   \n",
       "Italian     0.096934  0.431751  0.476508  0.208952  0.349901  0.529921   \n",
       "Japanese    0.132665  0.406193  0.617183  0.234366  0.329387  0.687614   \n",
       "Mexican     0.601687  0.419395  0.528026  0.205853  0.458581  0.600198   \n",
       "Moroccan    0.263719  0.371655  0.338776  0.214739  0.470748  0.386168   \n",
       "Portuguese  0.294393   0.39486   0.34891  0.175234  0.485981   0.38162   \n",
       "Spanish     0.394123  0.312248  0.304621  0.176312  0.575594  0.387842   \n",
       "Swedish     0.232684  0.453463   0.34596  0.193001  0.217172  0.545455   \n",
       "Thai         0.38685   0.37737  0.533333  0.240979   0.53211  0.589602   \n",
       "\n",
       "            magnitude  \n",
       "American     0.377900  \n",
       "Chinese      0.432828  \n",
       "Cuban        0.388989  \n",
       "English      0.335280  \n",
       "French       0.298072  \n",
       "German       0.346765  \n",
       "Greek        0.342180  \n",
       "Hawaiian     0.469095  \n",
       "Hungarian    0.329077  \n",
       "Indian       0.376791  \n",
       "Italian      0.348994  \n",
       "Japanese     0.401235  \n",
       "Mexican      0.468957  \n",
       "Moroccan     0.340967  \n",
       "Portuguese   0.346833  \n",
       "Spanish      0.358457  \n",
       "Swedish      0.331289  \n",
       "Thai         0.443374  "
      ]
     },
     "execution_count": 11,
     "metadata": {},
     "output_type": "execute_result"
    }
   ],
   "source": [
    "# manually creating pivot table. TODO: find out if there's a better way to do this (pivot table? crosstab?)\n",
    "cuisine_flavor = pd.DataFrame(columns=FLAVORS,index=CUISINES)\n",
    "for cus in CUISINES:\n",
    "    for f in FLAVORS:\n",
    "        cuisine_flavor.loc[cus,f] = food_df.loc[food_df[cus]==1,f].mean()\n",
    "cuisine_flavor['magnitude'] = cuisine_flavor[FLAVORS].sum(axis=1)/6\n",
    "cuisine_flavor"
   ]
  },
  {
   "cell_type": "code",
   "execution_count": 12,
   "id": "cd4de28b",
   "metadata": {},
   "outputs": [
    {
     "name": "stdout",
     "output_type": "stream",
     "text": [
      "American Chinese Cuban English French German Greek Hawaiian Hungarian Indian Italian Japanese Mexican Moroccan Portuguese Spanish Swedish Thai "
     ]
    },
    {
     "data": {
      "application/vnd.plotly.v1+json": {
       "config": {
        "plotlyServerURL": "https://plot.ly"
       },
       "data": [
        {
         "fill": "toself",
         "name": "American",
         "r": [
          0.30857843137254876,
          0.4215686274509799,
          0.4225490196078424,
          0.22401960784313732,
          0.4156862745098041,
          0.47500000000000014,
          0.37790032679738544
         ],
         "subplot": "polar7",
         "theta": [
          "piquant",
          "meaty",
          "bitter",
          "sweet",
          "sour",
          "salty"
         ],
         "type": "scatterpolar"
        },
        {
         "fill": "toself",
         "name": "Chinese",
         "r": [
          0.22801231310466102,
          0.4272207563764297,
          0.5688214599824089,
          0.274846086191731,
          0.42941952506596254,
          0.6686455584872446,
          0.4328276165347396
         ],
         "subplot": "polar8",
         "theta": [
          "piquant",
          "meaty",
          "bitter",
          "sweet",
          "sour",
          "salty"
         ],
         "type": "scatterpolar"
        },
        {
         "fill": "toself",
         "name": "Cuban",
         "r": [
          0.3156156156156153,
          0.4114114114114107,
          0.357957957957957,
          0.2132132132132145,
          0.5759759759759759,
          0.459759759759759,
          0.38898898898898876
         ],
         "subplot": "polar9",
         "theta": [
          "piquant",
          "meaty",
          "bitter",
          "sweet",
          "sour",
          "salty"
         ],
         "type": "scatterpolar"
        },
        {
         "fill": "toself",
         "name": "English",
         "r": [
          0.25693430656934324,
          0.41605839416058393,
          0.3664233576642322,
          0.17907542579075564,
          0.36155717761556977,
          0.4316301703163016,
          0.3352798053527977
         ],
         "subplot": "polar10",
         "theta": [
          "piquant",
          "meaty",
          "bitter",
          "sweet",
          "sour",
          "salty"
         ],
         "type": "scatterpolar"
        },
        {
         "fill": "toself",
         "name": "French",
         "r": [
          0.12223789374706182,
          0.4156088387400096,
          0.33803479078514215,
          0.17630465444287888,
          0.34414668547249505,
          0.3921015514809583,
          0.2980724024447576
         ],
         "subplot": "polar11",
         "theta": [
          "piquant",
          "meaty",
          "bitter",
          "sweet",
          "sour",
          "salty"
         ],
         "type": "scatterpolar"
        },
        {
         "fill": "toself",
         "name": "German",
         "r": [
          0.13312236286919865,
          0.40590717299578133,
          0.4120253164556969,
          0.20337552742615989,
          0.39493670886075904,
          0.5312236286919838,
          0.34676511954992995
         ],
         "subplot": "polar12",
         "theta": [
          "piquant",
          "meaty",
          "bitter",
          "sweet",
          "sour",
          "salty"
         ],
         "type": "scatterpolar"
        },
        {
         "fill": "toself",
         "name": "Greek",
         "r": [
          0.1115609536662169,
          0.3695456590193423,
          0.40913180386864567,
          0.18556005398110753,
          0.4964012595591545,
          0.4808816914080078,
          0.34218023691707905
         ],
         "subplot": "polar13",
         "theta": [
          "piquant",
          "meaty",
          "bitter",
          "sweet",
          "sour",
          "salty"
         ],
         "type": "scatterpolar"
        },
        {
         "fill": "toself",
         "name": "Hawaiian",
         "r": [
          0.26735459662288974,
          0.3289555972482797,
          0.4903064415259534,
          0.4349593495934959,
          0.6529080675422124,
          0.6400875547217006,
          0.46909526787575534
         ],
         "subplot": "polar14",
         "theta": [
          "piquant",
          "meaty",
          "bitter",
          "sweet",
          "sour",
          "salty"
         ],
         "type": "scatterpolar"
        },
        {
         "fill": "toself",
         "name": "Hungarian",
         "r": [
          0.3641126391617549,
          0.3117223313686963,
          0.2855271774721674,
          0.18598559266535758,
          0.4659462999345113,
          0.36116568434839463,
          0.329076620825147
         ],
         "subplot": "polar15",
         "theta": [
          "piquant",
          "meaty",
          "bitter",
          "sweet",
          "sour",
          "salty"
         ],
         "type": "scatterpolar"
        },
        {
         "fill": "toself",
         "name": "Indian",
         "r": [
          0.45801719777440675,
          0.3464845725847222,
          0.3796155791603434,
          0.19701568032372405,
          0.48002023267577143,
          0.39959534648457196,
          0.37679143483392324
         ],
         "subplot": "polar16",
         "theta": [
          "piquant",
          "meaty",
          "bitter",
          "sweet",
          "sour",
          "salty"
         ],
         "type": "scatterpolar"
        },
        {
         "fill": "toself",
         "name": "Italian",
         "r": [
          0.09693372898120653,
          0.43175074183976253,
          0.47650840751730955,
          0.20895153313550974,
          0.34990108803165054,
          0.529920870425321,
          0.34899439498845997
         ],
         "subplot": "polar17",
         "theta": [
          "piquant",
          "meaty",
          "bitter",
          "sweet",
          "sour",
          "salty"
         ],
         "type": "scatterpolar"
        },
        {
         "fill": "toself",
         "name": "Japanese",
         "r": [
          0.1326654523375835,
          0.4061930783242249,
          0.6171827565270177,
          0.23436551305403877,
          0.32938676381299187,
          0.6876138433515467,
          0.4012345679012339
         ],
         "subplot": "polar18",
         "theta": [
          "piquant",
          "meaty",
          "bitter",
          "sweet",
          "sour",
          "salty"
         ],
         "type": "scatterpolar"
        },
        {
         "fill": "toself",
         "name": "Mexican",
         "r": [
          0.6016865079365071,
          0.41939484126984083,
          0.5280257936507939,
          0.20585317460317568,
          0.45858134920634924,
          0.6001984126984122,
          0.46895667989417983
         ],
         "subplot": "polar",
         "theta": [
          "piquant",
          "meaty",
          "bitter",
          "sweet",
          "sour",
          "salty"
         ],
         "type": "scatterpolar"
        },
        {
         "fill": "toself",
         "name": "Moroccan",
         "r": [
          0.26371882086167725,
          0.371655328798184,
          0.33877551020408025,
          0.21473922902494336,
          0.47074829931972845,
          0.3861678004535142,
          0.3409674981103546
         ],
         "subplot": "polar2",
         "theta": [
          "piquant",
          "meaty",
          "bitter",
          "sweet",
          "sour",
          "salty"
         ],
         "type": "scatterpolar"
        },
        {
         "fill": "toself",
         "name": "Portuguese",
         "r": [
          0.29439252336448585,
          0.3948598130841121,
          0.34890965732087237,
          0.1752336448598131,
          0.485981308411215,
          0.3816199376947043,
          0.3468328141225338
         ],
         "subplot": "polar3",
         "theta": [
          "piquant",
          "meaty",
          "bitter",
          "sweet",
          "sour",
          "salty"
         ],
         "type": "scatterpolar"
        },
        {
         "fill": "toself",
         "name": "Spanish",
         "r": [
          0.3941229250785108,
          0.31224764468371324,
          0.3046209062359786,
          0.1763122476446852,
          0.5755944369672499,
          0.3878420816509643,
          0.358456707043517
         ],
         "subplot": "polar4",
         "theta": [
          "piquant",
          "meaty",
          "bitter",
          "sweet",
          "sour",
          "salty"
         ],
         "type": "scatterpolar"
        },
        {
         "fill": "toself",
         "name": "Swedish",
         "r": [
          0.2326839826839829,
          0.45346320346320285,
          0.34595959595959547,
          0.19300144300144356,
          0.2171717171717179,
          0.5454545454545452,
          0.3312890812890813
         ],
         "subplot": "polar5",
         "theta": [
          "piquant",
          "meaty",
          "bitter",
          "sweet",
          "sour",
          "salty"
         ],
         "type": "scatterpolar"
        },
        {
         "fill": "toself",
         "name": "Thai",
         "r": [
          0.3868501529051988,
          0.37737003058103885,
          0.5333333333333332,
          0.24097859327217216,
          0.5321100917431195,
          0.5896024464831796,
          0.443374108053007
         ],
         "subplot": "polar6",
         "theta": [
          "piquant",
          "meaty",
          "bitter",
          "sweet",
          "sour",
          "salty"
         ],
         "type": "scatterpolar"
        }
       ],
       "layout": {
        "polar": {
         "domain": {
          "x": [
           0,
           0.1388888888888889
          ],
          "y": [
           0.7333333333333333,
           1
          ]
         },
         "radialaxis": {
          "range": [
           0,
           0.7
          ],
          "visible": true
         }
        },
        "polar10": {
         "domain": {
          "x": [
           0.5166666666666667,
           0.6555555555555557
          ],
          "y": [
           0.36666666666666664,
           0.6333333333333333
          ]
         }
        },
        "polar11": {
         "domain": {
          "x": [
           0.6888888888888889,
           0.8277777777777777
          ],
          "y": [
           0.36666666666666664,
           0.6333333333333333
          ]
         }
        },
        "polar12": {
         "domain": {
          "x": [
           0.861111111111111,
           1
          ],
          "y": [
           0.36666666666666664,
           0.6333333333333333
          ]
         }
        },
        "polar13": {
         "domain": {
          "x": [
           0,
           0.1388888888888889
          ],
          "y": [
           0,
           0.26666666666666666
          ]
         }
        },
        "polar14": {
         "domain": {
          "x": [
           0.17222222222222222,
           0.3111111111111111
          ],
          "y": [
           0,
           0.26666666666666666
          ]
         }
        },
        "polar15": {
         "domain": {
          "x": [
           0.34444444444444444,
           0.48333333333333334
          ],
          "y": [
           0,
           0.26666666666666666
          ]
         }
        },
        "polar16": {
         "domain": {
          "x": [
           0.5166666666666667,
           0.6555555555555557
          ],
          "y": [
           0,
           0.26666666666666666
          ]
         }
        },
        "polar17": {
         "domain": {
          "x": [
           0.6888888888888889,
           0.8277777777777777
          ],
          "y": [
           0,
           0.26666666666666666
          ]
         }
        },
        "polar18": {
         "domain": {
          "x": [
           0.861111111111111,
           1
          ],
          "y": [
           0,
           0.26666666666666666
          ]
         }
        },
        "polar2": {
         "domain": {
          "x": [
           0.17222222222222222,
           0.3111111111111111
          ],
          "y": [
           0.7333333333333333,
           1
          ]
         }
        },
        "polar3": {
         "domain": {
          "x": [
           0.34444444444444444,
           0.48333333333333334
          ],
          "y": [
           0.7333333333333333,
           1
          ]
         }
        },
        "polar4": {
         "domain": {
          "x": [
           0.5166666666666667,
           0.6555555555555557
          ],
          "y": [
           0.7333333333333333,
           1
          ]
         }
        },
        "polar5": {
         "domain": {
          "x": [
           0.6888888888888889,
           0.8277777777777777
          ],
          "y": [
           0.7333333333333333,
           1
          ]
         }
        },
        "polar6": {
         "domain": {
          "x": [
           0.861111111111111,
           1
          ],
          "y": [
           0.7333333333333333,
           1
          ]
         }
        },
        "polar7": {
         "domain": {
          "x": [
           0,
           0.1388888888888889
          ],
          "y": [
           0.36666666666666664,
           0.6333333333333333
          ]
         }
        },
        "polar8": {
         "domain": {
          "x": [
           0.17222222222222222,
           0.3111111111111111
          ],
          "y": [
           0.36666666666666664,
           0.6333333333333333
          ]
         }
        },
        "polar9": {
         "domain": {
          "x": [
           0.34444444444444444,
           0.48333333333333334
          ],
          "y": [
           0.36666666666666664,
           0.6333333333333333
          ]
         }
        },
        "showlegend": false,
        "template": {
         "data": {
          "bar": [
           {
            "error_x": {
             "color": "#2a3f5f"
            },
            "error_y": {
             "color": "#2a3f5f"
            },
            "marker": {
             "line": {
              "color": "#E5ECF6",
              "width": 0.5
             },
             "pattern": {
              "fillmode": "overlay",
              "size": 10,
              "solidity": 0.2
             }
            },
            "type": "bar"
           }
          ],
          "barpolar": [
           {
            "marker": {
             "line": {
              "color": "#E5ECF6",
              "width": 0.5
             },
             "pattern": {
              "fillmode": "overlay",
              "size": 10,
              "solidity": 0.2
             }
            },
            "type": "barpolar"
           }
          ],
          "carpet": [
           {
            "aaxis": {
             "endlinecolor": "#2a3f5f",
             "gridcolor": "white",
             "linecolor": "white",
             "minorgridcolor": "white",
             "startlinecolor": "#2a3f5f"
            },
            "baxis": {
             "endlinecolor": "#2a3f5f",
             "gridcolor": "white",
             "linecolor": "white",
             "minorgridcolor": "white",
             "startlinecolor": "#2a3f5f"
            },
            "type": "carpet"
           }
          ],
          "choropleth": [
           {
            "colorbar": {
             "outlinewidth": 0,
             "ticks": ""
            },
            "type": "choropleth"
           }
          ],
          "contour": [
           {
            "colorbar": {
             "outlinewidth": 0,
             "ticks": ""
            },
            "colorscale": [
             [
              0,
              "#0d0887"
             ],
             [
              0.1111111111111111,
              "#46039f"
             ],
             [
              0.2222222222222222,
              "#7201a8"
             ],
             [
              0.3333333333333333,
              "#9c179e"
             ],
             [
              0.4444444444444444,
              "#bd3786"
             ],
             [
              0.5555555555555556,
              "#d8576b"
             ],
             [
              0.6666666666666666,
              "#ed7953"
             ],
             [
              0.7777777777777778,
              "#fb9f3a"
             ],
             [
              0.8888888888888888,
              "#fdca26"
             ],
             [
              1,
              "#f0f921"
             ]
            ],
            "type": "contour"
           }
          ],
          "contourcarpet": [
           {
            "colorbar": {
             "outlinewidth": 0,
             "ticks": ""
            },
            "type": "contourcarpet"
           }
          ],
          "heatmap": [
           {
            "colorbar": {
             "outlinewidth": 0,
             "ticks": ""
            },
            "colorscale": [
             [
              0,
              "#0d0887"
             ],
             [
              0.1111111111111111,
              "#46039f"
             ],
             [
              0.2222222222222222,
              "#7201a8"
             ],
             [
              0.3333333333333333,
              "#9c179e"
             ],
             [
              0.4444444444444444,
              "#bd3786"
             ],
             [
              0.5555555555555556,
              "#d8576b"
             ],
             [
              0.6666666666666666,
              "#ed7953"
             ],
             [
              0.7777777777777778,
              "#fb9f3a"
             ],
             [
              0.8888888888888888,
              "#fdca26"
             ],
             [
              1,
              "#f0f921"
             ]
            ],
            "type": "heatmap"
           }
          ],
          "heatmapgl": [
           {
            "colorbar": {
             "outlinewidth": 0,
             "ticks": ""
            },
            "colorscale": [
             [
              0,
              "#0d0887"
             ],
             [
              0.1111111111111111,
              "#46039f"
             ],
             [
              0.2222222222222222,
              "#7201a8"
             ],
             [
              0.3333333333333333,
              "#9c179e"
             ],
             [
              0.4444444444444444,
              "#bd3786"
             ],
             [
              0.5555555555555556,
              "#d8576b"
             ],
             [
              0.6666666666666666,
              "#ed7953"
             ],
             [
              0.7777777777777778,
              "#fb9f3a"
             ],
             [
              0.8888888888888888,
              "#fdca26"
             ],
             [
              1,
              "#f0f921"
             ]
            ],
            "type": "heatmapgl"
           }
          ],
          "histogram": [
           {
            "marker": {
             "pattern": {
              "fillmode": "overlay",
              "size": 10,
              "solidity": 0.2
             }
            },
            "type": "histogram"
           }
          ],
          "histogram2d": [
           {
            "colorbar": {
             "outlinewidth": 0,
             "ticks": ""
            },
            "colorscale": [
             [
              0,
              "#0d0887"
             ],
             [
              0.1111111111111111,
              "#46039f"
             ],
             [
              0.2222222222222222,
              "#7201a8"
             ],
             [
              0.3333333333333333,
              "#9c179e"
             ],
             [
              0.4444444444444444,
              "#bd3786"
             ],
             [
              0.5555555555555556,
              "#d8576b"
             ],
             [
              0.6666666666666666,
              "#ed7953"
             ],
             [
              0.7777777777777778,
              "#fb9f3a"
             ],
             [
              0.8888888888888888,
              "#fdca26"
             ],
             [
              1,
              "#f0f921"
             ]
            ],
            "type": "histogram2d"
           }
          ],
          "histogram2dcontour": [
           {
            "colorbar": {
             "outlinewidth": 0,
             "ticks": ""
            },
            "colorscale": [
             [
              0,
              "#0d0887"
             ],
             [
              0.1111111111111111,
              "#46039f"
             ],
             [
              0.2222222222222222,
              "#7201a8"
             ],
             [
              0.3333333333333333,
              "#9c179e"
             ],
             [
              0.4444444444444444,
              "#bd3786"
             ],
             [
              0.5555555555555556,
              "#d8576b"
             ],
             [
              0.6666666666666666,
              "#ed7953"
             ],
             [
              0.7777777777777778,
              "#fb9f3a"
             ],
             [
              0.8888888888888888,
              "#fdca26"
             ],
             [
              1,
              "#f0f921"
             ]
            ],
            "type": "histogram2dcontour"
           }
          ],
          "mesh3d": [
           {
            "colorbar": {
             "outlinewidth": 0,
             "ticks": ""
            },
            "type": "mesh3d"
           }
          ],
          "parcoords": [
           {
            "line": {
             "colorbar": {
              "outlinewidth": 0,
              "ticks": ""
             }
            },
            "type": "parcoords"
           }
          ],
          "pie": [
           {
            "automargin": true,
            "type": "pie"
           }
          ],
          "scatter": [
           {
            "marker": {
             "colorbar": {
              "outlinewidth": 0,
              "ticks": ""
             }
            },
            "type": "scatter"
           }
          ],
          "scatter3d": [
           {
            "line": {
             "colorbar": {
              "outlinewidth": 0,
              "ticks": ""
             }
            },
            "marker": {
             "colorbar": {
              "outlinewidth": 0,
              "ticks": ""
             }
            },
            "type": "scatter3d"
           }
          ],
          "scattercarpet": [
           {
            "marker": {
             "colorbar": {
              "outlinewidth": 0,
              "ticks": ""
             }
            },
            "type": "scattercarpet"
           }
          ],
          "scattergeo": [
           {
            "marker": {
             "colorbar": {
              "outlinewidth": 0,
              "ticks": ""
             }
            },
            "type": "scattergeo"
           }
          ],
          "scattergl": [
           {
            "marker": {
             "colorbar": {
              "outlinewidth": 0,
              "ticks": ""
             }
            },
            "type": "scattergl"
           }
          ],
          "scattermapbox": [
           {
            "marker": {
             "colorbar": {
              "outlinewidth": 0,
              "ticks": ""
             }
            },
            "type": "scattermapbox"
           }
          ],
          "scatterpolar": [
           {
            "marker": {
             "colorbar": {
              "outlinewidth": 0,
              "ticks": ""
             }
            },
            "type": "scatterpolar"
           }
          ],
          "scatterpolargl": [
           {
            "marker": {
             "colorbar": {
              "outlinewidth": 0,
              "ticks": ""
             }
            },
            "type": "scatterpolargl"
           }
          ],
          "scatterternary": [
           {
            "marker": {
             "colorbar": {
              "outlinewidth": 0,
              "ticks": ""
             }
            },
            "type": "scatterternary"
           }
          ],
          "surface": [
           {
            "colorbar": {
             "outlinewidth": 0,
             "ticks": ""
            },
            "colorscale": [
             [
              0,
              "#0d0887"
             ],
             [
              0.1111111111111111,
              "#46039f"
             ],
             [
              0.2222222222222222,
              "#7201a8"
             ],
             [
              0.3333333333333333,
              "#9c179e"
             ],
             [
              0.4444444444444444,
              "#bd3786"
             ],
             [
              0.5555555555555556,
              "#d8576b"
             ],
             [
              0.6666666666666666,
              "#ed7953"
             ],
             [
              0.7777777777777778,
              "#fb9f3a"
             ],
             [
              0.8888888888888888,
              "#fdca26"
             ],
             [
              1,
              "#f0f921"
             ]
            ],
            "type": "surface"
           }
          ],
          "table": [
           {
            "cells": {
             "fill": {
              "color": "#EBF0F8"
             },
             "line": {
              "color": "white"
             }
            },
            "header": {
             "fill": {
              "color": "#C8D4E3"
             },
             "line": {
              "color": "white"
             }
            },
            "type": "table"
           }
          ]
         },
         "layout": {
          "annotationdefaults": {
           "arrowcolor": "#2a3f5f",
           "arrowhead": 0,
           "arrowwidth": 1
          },
          "autotypenumbers": "strict",
          "coloraxis": {
           "colorbar": {
            "outlinewidth": 0,
            "ticks": ""
           }
          },
          "colorscale": {
           "diverging": [
            [
             0,
             "#8e0152"
            ],
            [
             0.1,
             "#c51b7d"
            ],
            [
             0.2,
             "#de77ae"
            ],
            [
             0.3,
             "#f1b6da"
            ],
            [
             0.4,
             "#fde0ef"
            ],
            [
             0.5,
             "#f7f7f7"
            ],
            [
             0.6,
             "#e6f5d0"
            ],
            [
             0.7,
             "#b8e186"
            ],
            [
             0.8,
             "#7fbc41"
            ],
            [
             0.9,
             "#4d9221"
            ],
            [
             1,
             "#276419"
            ]
           ],
           "sequential": [
            [
             0,
             "#0d0887"
            ],
            [
             0.1111111111111111,
             "#46039f"
            ],
            [
             0.2222222222222222,
             "#7201a8"
            ],
            [
             0.3333333333333333,
             "#9c179e"
            ],
            [
             0.4444444444444444,
             "#bd3786"
            ],
            [
             0.5555555555555556,
             "#d8576b"
            ],
            [
             0.6666666666666666,
             "#ed7953"
            ],
            [
             0.7777777777777778,
             "#fb9f3a"
            ],
            [
             0.8888888888888888,
             "#fdca26"
            ],
            [
             1,
             "#f0f921"
            ]
           ],
           "sequentialminus": [
            [
             0,
             "#0d0887"
            ],
            [
             0.1111111111111111,
             "#46039f"
            ],
            [
             0.2222222222222222,
             "#7201a8"
            ],
            [
             0.3333333333333333,
             "#9c179e"
            ],
            [
             0.4444444444444444,
             "#bd3786"
            ],
            [
             0.5555555555555556,
             "#d8576b"
            ],
            [
             0.6666666666666666,
             "#ed7953"
            ],
            [
             0.7777777777777778,
             "#fb9f3a"
            ],
            [
             0.8888888888888888,
             "#fdca26"
            ],
            [
             1,
             "#f0f921"
            ]
           ]
          },
          "colorway": [
           "#636efa",
           "#EF553B",
           "#00cc96",
           "#ab63fa",
           "#FFA15A",
           "#19d3f3",
           "#FF6692",
           "#B6E880",
           "#FF97FF",
           "#FECB52"
          ],
          "font": {
           "color": "#2a3f5f"
          },
          "geo": {
           "bgcolor": "white",
           "lakecolor": "white",
           "landcolor": "#E5ECF6",
           "showlakes": true,
           "showland": true,
           "subunitcolor": "white"
          },
          "hoverlabel": {
           "align": "left"
          },
          "hovermode": "closest",
          "mapbox": {
           "style": "light"
          },
          "paper_bgcolor": "white",
          "plot_bgcolor": "#E5ECF6",
          "polar": {
           "angularaxis": {
            "gridcolor": "white",
            "linecolor": "white",
            "ticks": ""
           },
           "bgcolor": "#E5ECF6",
           "radialaxis": {
            "gridcolor": "white",
            "linecolor": "white",
            "ticks": ""
           }
          },
          "scene": {
           "xaxis": {
            "backgroundcolor": "#E5ECF6",
            "gridcolor": "white",
            "gridwidth": 2,
            "linecolor": "white",
            "showbackground": true,
            "ticks": "",
            "zerolinecolor": "white"
           },
           "yaxis": {
            "backgroundcolor": "#E5ECF6",
            "gridcolor": "white",
            "gridwidth": 2,
            "linecolor": "white",
            "showbackground": true,
            "ticks": "",
            "zerolinecolor": "white"
           },
           "zaxis": {
            "backgroundcolor": "#E5ECF6",
            "gridcolor": "white",
            "gridwidth": 2,
            "linecolor": "white",
            "showbackground": true,
            "ticks": "",
            "zerolinecolor": "white"
           }
          },
          "shapedefaults": {
           "line": {
            "color": "#2a3f5f"
           }
          },
          "ternary": {
           "aaxis": {
            "gridcolor": "white",
            "linecolor": "white",
            "ticks": ""
           },
           "baxis": {
            "gridcolor": "white",
            "linecolor": "white",
            "ticks": ""
           },
           "bgcolor": "#E5ECF6",
           "caxis": {
            "gridcolor": "white",
            "linecolor": "white",
            "ticks": ""
           }
          },
          "title": {
           "x": 0.05
          },
          "xaxis": {
           "automargin": true,
           "gridcolor": "white",
           "linecolor": "white",
           "ticks": "",
           "title": {
            "standoff": 15
           },
           "zerolinecolor": "white",
           "zerolinewidth": 2
          },
          "yaxis": {
           "automargin": true,
           "gridcolor": "white",
           "linecolor": "white",
           "ticks": "",
           "title": {
            "standoff": 15
           },
           "zerolinecolor": "white",
           "zerolinewidth": 2
          }
         }
        }
       }
      }
     },
     "metadata": {},
     "output_type": "display_data"
    }
   ],
   "source": [
    "# initial work on cuisines/flavors, partition by continent/country?\n",
    "specs_list = []\n",
    "for i in range (0,3):\n",
    "    specs_list.append([])\n",
    "    for j in range(0,6):\n",
    "        specs_list[i].append({\"type\":\"polar\"})\n",
    "fig1 = make_subplots(rows=3,cols=6,specs=specs_list)\n",
    "cus_idx=0\n",
    "for i in range(0,3):\n",
    "    for j in range(0,6):\n",
    "        fig1.append_trace(go.Scatterpolar(\n",
    "            r=cuisine_flavor.loc[CUISINES[cus_idx]],\n",
    "            theta=FLAVORS,\n",
    "            fill='toself',\n",
    "            name=CUISINES[cus_idx]\n",
    "        ),row=(i+1)%3+1,col=j+1)\n",
    "        print(CUISINES[cus_idx], end=\" \")\n",
    "        cus_idx += 1\n",
    "fig1.update_layout(\n",
    "  polar=dict(\n",
    "    radialaxis=dict(\n",
    "      visible=True,\n",
    "      range=[0, 0.7]\n",
    "    )),\n",
    "  showlegend=False\n",
    ")\n",
    "fig1.show()"
   ]
  },
  {
   "cell_type": "code",
   "execution_count": 13,
   "id": "3261b58b",
   "metadata": {},
   "outputs": [
    {
     "data": {
      "application/vnd.plotly.v1+json": {
       "config": {
        "plotlyServerURL": "https://plot.ly"
       },
       "data": [
        {
         "marker": {
          "color": [
           "rgb(127, 60, 141)",
           "rgb(17, 165, 121)",
           "rgb(57, 105, 172)",
           "rgb(242, 183, 1)",
           "rgb(231, 63, 116)",
           "rgb(128, 186, 90)",
           "rgb(230, 131, 16)",
           "rgb(0, 134, 149)",
           "rgb(207, 28, 144)",
           "rgb(249, 123, 114)",
           "rgb(165, 170, 153)"
          ],
          "size": 10
         },
         "mode": "markers",
         "scene": "scene",
         "text": [
          "American",
          "Chinese",
          "Cuban",
          "English",
          "French",
          "German",
          "Greek",
          "Hawaiian",
          "Hungarian",
          "Indian",
          "Italian",
          "Japanese",
          "Mexican",
          "Moroccan",
          "Portuguese",
          "Spanish",
          "Swedish",
          "Thai"
         ],
         "type": "scatter3d",
         "x": [
          0.22401960784313732,
          0.274846086191731,
          0.2132132132132145,
          0.17907542579075564,
          0.17630465444287888,
          0.20337552742615989,
          0.18556005398110753,
          0.4349593495934959,
          0.18598559266535758,
          0.19701568032372405,
          0.20895153313550974,
          0.23436551305403877,
          0.20585317460317568,
          0.21473922902494336,
          0.1752336448598131,
          0.1763122476446852,
          0.19300144300144356,
          0.24097859327217216
         ],
         "y": [
          0.4156862745098041,
          0.42941952506596254,
          0.5759759759759759,
          0.36155717761556977,
          0.34414668547249505,
          0.39493670886075904,
          0.4964012595591545,
          0.6529080675422124,
          0.4659462999345113,
          0.48002023267577143,
          0.34990108803165054,
          0.32938676381299187,
          0.45858134920634924,
          0.47074829931972845,
          0.485981308411215,
          0.5755944369672499,
          0.2171717171717179,
          0.5321100917431195
         ],
         "z": [
          0.47500000000000014,
          0.6686455584872446,
          0.459759759759759,
          0.4316301703163016,
          0.3921015514809583,
          0.5312236286919838,
          0.4808816914080078,
          0.6400875547217006,
          0.36116568434839463,
          0.39959534648457196,
          0.529920870425321,
          0.6876138433515467,
          0.6001984126984122,
          0.3861678004535142,
          0.3816199376947043,
          0.3878420816509643,
          0.5454545454545452,
          0.5896024464831796
         ]
        },
        {
         "marker": {
          "color": [
           "rgb(127, 60, 141)",
           "rgb(17, 165, 121)",
           "rgb(57, 105, 172)",
           "rgb(242, 183, 1)",
           "rgb(231, 63, 116)",
           "rgb(128, 186, 90)",
           "rgb(230, 131, 16)",
           "rgb(0, 134, 149)",
           "rgb(207, 28, 144)",
           "rgb(249, 123, 114)",
           "rgb(165, 170, 153)"
          ],
          "size": 10
         },
         "mode": "markers",
         "scene": "scene2",
         "text": [
          "American",
          "Chinese",
          "Cuban",
          "English",
          "French",
          "German",
          "Greek",
          "Hawaiian",
          "Hungarian",
          "Indian",
          "Italian",
          "Japanese",
          "Mexican",
          "Moroccan",
          "Portuguese",
          "Spanish",
          "Swedish",
          "Thai"
         ],
         "type": "scatter3d",
         "x": [
          0.30857843137254876,
          0.22801231310466102,
          0.3156156156156153,
          0.25693430656934324,
          0.12223789374706182,
          0.13312236286919865,
          0.1115609536662169,
          0.26735459662288974,
          0.3641126391617549,
          0.45801719777440675,
          0.09693372898120653,
          0.1326654523375835,
          0.6016865079365071,
          0.26371882086167725,
          0.29439252336448585,
          0.3941229250785108,
          0.2326839826839829,
          0.3868501529051988
         ],
         "y": [
          0.4225490196078424,
          0.5688214599824089,
          0.357957957957957,
          0.3664233576642322,
          0.33803479078514215,
          0.4120253164556969,
          0.40913180386864567,
          0.4903064415259534,
          0.2855271774721674,
          0.3796155791603434,
          0.47650840751730955,
          0.6171827565270177,
          0.5280257936507939,
          0.33877551020408025,
          0.34890965732087237,
          0.3046209062359786,
          0.34595959595959547,
          0.5333333333333332
         ],
         "z": [
          0.4215686274509799,
          0.4272207563764297,
          0.4114114114114107,
          0.41605839416058393,
          0.4156088387400096,
          0.40590717299578133,
          0.3695456590193423,
          0.3289555972482797,
          0.3117223313686963,
          0.3464845725847222,
          0.43175074183976253,
          0.4061930783242249,
          0.41939484126984083,
          0.371655328798184,
          0.3948598130841121,
          0.31224764468371324,
          0.45346320346320285,
          0.37737003058103885
         ]
        }
       ],
       "layout": {
        "scene": {
         "domain": {
          "x": [
           0,
           0.45
          ],
          "y": [
           0,
           1
          ]
         }
        },
        "scene2": {
         "domain": {
          "x": [
           0.55,
           1
          ],
          "y": [
           0,
           1
          ]
         }
        },
        "template": {
         "data": {
          "bar": [
           {
            "error_x": {
             "color": "#2a3f5f"
            },
            "error_y": {
             "color": "#2a3f5f"
            },
            "marker": {
             "line": {
              "color": "#E5ECF6",
              "width": 0.5
             },
             "pattern": {
              "fillmode": "overlay",
              "size": 10,
              "solidity": 0.2
             }
            },
            "type": "bar"
           }
          ],
          "barpolar": [
           {
            "marker": {
             "line": {
              "color": "#E5ECF6",
              "width": 0.5
             },
             "pattern": {
              "fillmode": "overlay",
              "size": 10,
              "solidity": 0.2
             }
            },
            "type": "barpolar"
           }
          ],
          "carpet": [
           {
            "aaxis": {
             "endlinecolor": "#2a3f5f",
             "gridcolor": "white",
             "linecolor": "white",
             "minorgridcolor": "white",
             "startlinecolor": "#2a3f5f"
            },
            "baxis": {
             "endlinecolor": "#2a3f5f",
             "gridcolor": "white",
             "linecolor": "white",
             "minorgridcolor": "white",
             "startlinecolor": "#2a3f5f"
            },
            "type": "carpet"
           }
          ],
          "choropleth": [
           {
            "colorbar": {
             "outlinewidth": 0,
             "ticks": ""
            },
            "type": "choropleth"
           }
          ],
          "contour": [
           {
            "colorbar": {
             "outlinewidth": 0,
             "ticks": ""
            },
            "colorscale": [
             [
              0,
              "#0d0887"
             ],
             [
              0.1111111111111111,
              "#46039f"
             ],
             [
              0.2222222222222222,
              "#7201a8"
             ],
             [
              0.3333333333333333,
              "#9c179e"
             ],
             [
              0.4444444444444444,
              "#bd3786"
             ],
             [
              0.5555555555555556,
              "#d8576b"
             ],
             [
              0.6666666666666666,
              "#ed7953"
             ],
             [
              0.7777777777777778,
              "#fb9f3a"
             ],
             [
              0.8888888888888888,
              "#fdca26"
             ],
             [
              1,
              "#f0f921"
             ]
            ],
            "type": "contour"
           }
          ],
          "contourcarpet": [
           {
            "colorbar": {
             "outlinewidth": 0,
             "ticks": ""
            },
            "type": "contourcarpet"
           }
          ],
          "heatmap": [
           {
            "colorbar": {
             "outlinewidth": 0,
             "ticks": ""
            },
            "colorscale": [
             [
              0,
              "#0d0887"
             ],
             [
              0.1111111111111111,
              "#46039f"
             ],
             [
              0.2222222222222222,
              "#7201a8"
             ],
             [
              0.3333333333333333,
              "#9c179e"
             ],
             [
              0.4444444444444444,
              "#bd3786"
             ],
             [
              0.5555555555555556,
              "#d8576b"
             ],
             [
              0.6666666666666666,
              "#ed7953"
             ],
             [
              0.7777777777777778,
              "#fb9f3a"
             ],
             [
              0.8888888888888888,
              "#fdca26"
             ],
             [
              1,
              "#f0f921"
             ]
            ],
            "type": "heatmap"
           }
          ],
          "heatmapgl": [
           {
            "colorbar": {
             "outlinewidth": 0,
             "ticks": ""
            },
            "colorscale": [
             [
              0,
              "#0d0887"
             ],
             [
              0.1111111111111111,
              "#46039f"
             ],
             [
              0.2222222222222222,
              "#7201a8"
             ],
             [
              0.3333333333333333,
              "#9c179e"
             ],
             [
              0.4444444444444444,
              "#bd3786"
             ],
             [
              0.5555555555555556,
              "#d8576b"
             ],
             [
              0.6666666666666666,
              "#ed7953"
             ],
             [
              0.7777777777777778,
              "#fb9f3a"
             ],
             [
              0.8888888888888888,
              "#fdca26"
             ],
             [
              1,
              "#f0f921"
             ]
            ],
            "type": "heatmapgl"
           }
          ],
          "histogram": [
           {
            "marker": {
             "pattern": {
              "fillmode": "overlay",
              "size": 10,
              "solidity": 0.2
             }
            },
            "type": "histogram"
           }
          ],
          "histogram2d": [
           {
            "colorbar": {
             "outlinewidth": 0,
             "ticks": ""
            },
            "colorscale": [
             [
              0,
              "#0d0887"
             ],
             [
              0.1111111111111111,
              "#46039f"
             ],
             [
              0.2222222222222222,
              "#7201a8"
             ],
             [
              0.3333333333333333,
              "#9c179e"
             ],
             [
              0.4444444444444444,
              "#bd3786"
             ],
             [
              0.5555555555555556,
              "#d8576b"
             ],
             [
              0.6666666666666666,
              "#ed7953"
             ],
             [
              0.7777777777777778,
              "#fb9f3a"
             ],
             [
              0.8888888888888888,
              "#fdca26"
             ],
             [
              1,
              "#f0f921"
             ]
            ],
            "type": "histogram2d"
           }
          ],
          "histogram2dcontour": [
           {
            "colorbar": {
             "outlinewidth": 0,
             "ticks": ""
            },
            "colorscale": [
             [
              0,
              "#0d0887"
             ],
             [
              0.1111111111111111,
              "#46039f"
             ],
             [
              0.2222222222222222,
              "#7201a8"
             ],
             [
              0.3333333333333333,
              "#9c179e"
             ],
             [
              0.4444444444444444,
              "#bd3786"
             ],
             [
              0.5555555555555556,
              "#d8576b"
             ],
             [
              0.6666666666666666,
              "#ed7953"
             ],
             [
              0.7777777777777778,
              "#fb9f3a"
             ],
             [
              0.8888888888888888,
              "#fdca26"
             ],
             [
              1,
              "#f0f921"
             ]
            ],
            "type": "histogram2dcontour"
           }
          ],
          "mesh3d": [
           {
            "colorbar": {
             "outlinewidth": 0,
             "ticks": ""
            },
            "type": "mesh3d"
           }
          ],
          "parcoords": [
           {
            "line": {
             "colorbar": {
              "outlinewidth": 0,
              "ticks": ""
             }
            },
            "type": "parcoords"
           }
          ],
          "pie": [
           {
            "automargin": true,
            "type": "pie"
           }
          ],
          "scatter": [
           {
            "marker": {
             "colorbar": {
              "outlinewidth": 0,
              "ticks": ""
             }
            },
            "type": "scatter"
           }
          ],
          "scatter3d": [
           {
            "line": {
             "colorbar": {
              "outlinewidth": 0,
              "ticks": ""
             }
            },
            "marker": {
             "colorbar": {
              "outlinewidth": 0,
              "ticks": ""
             }
            },
            "type": "scatter3d"
           }
          ],
          "scattercarpet": [
           {
            "marker": {
             "colorbar": {
              "outlinewidth": 0,
              "ticks": ""
             }
            },
            "type": "scattercarpet"
           }
          ],
          "scattergeo": [
           {
            "marker": {
             "colorbar": {
              "outlinewidth": 0,
              "ticks": ""
             }
            },
            "type": "scattergeo"
           }
          ],
          "scattergl": [
           {
            "marker": {
             "colorbar": {
              "outlinewidth": 0,
              "ticks": ""
             }
            },
            "type": "scattergl"
           }
          ],
          "scattermapbox": [
           {
            "marker": {
             "colorbar": {
              "outlinewidth": 0,
              "ticks": ""
             }
            },
            "type": "scattermapbox"
           }
          ],
          "scatterpolar": [
           {
            "marker": {
             "colorbar": {
              "outlinewidth": 0,
              "ticks": ""
             }
            },
            "type": "scatterpolar"
           }
          ],
          "scatterpolargl": [
           {
            "marker": {
             "colorbar": {
              "outlinewidth": 0,
              "ticks": ""
             }
            },
            "type": "scatterpolargl"
           }
          ],
          "scatterternary": [
           {
            "marker": {
             "colorbar": {
              "outlinewidth": 0,
              "ticks": ""
             }
            },
            "type": "scatterternary"
           }
          ],
          "surface": [
           {
            "colorbar": {
             "outlinewidth": 0,
             "ticks": ""
            },
            "colorscale": [
             [
              0,
              "#0d0887"
             ],
             [
              0.1111111111111111,
              "#46039f"
             ],
             [
              0.2222222222222222,
              "#7201a8"
             ],
             [
              0.3333333333333333,
              "#9c179e"
             ],
             [
              0.4444444444444444,
              "#bd3786"
             ],
             [
              0.5555555555555556,
              "#d8576b"
             ],
             [
              0.6666666666666666,
              "#ed7953"
             ],
             [
              0.7777777777777778,
              "#fb9f3a"
             ],
             [
              0.8888888888888888,
              "#fdca26"
             ],
             [
              1,
              "#f0f921"
             ]
            ],
            "type": "surface"
           }
          ],
          "table": [
           {
            "cells": {
             "fill": {
              "color": "#EBF0F8"
             },
             "line": {
              "color": "white"
             }
            },
            "header": {
             "fill": {
              "color": "#C8D4E3"
             },
             "line": {
              "color": "white"
             }
            },
            "type": "table"
           }
          ]
         },
         "layout": {
          "annotationdefaults": {
           "arrowcolor": "#2a3f5f",
           "arrowhead": 0,
           "arrowwidth": 1
          },
          "autotypenumbers": "strict",
          "coloraxis": {
           "colorbar": {
            "outlinewidth": 0,
            "ticks": ""
           }
          },
          "colorscale": {
           "diverging": [
            [
             0,
             "#8e0152"
            ],
            [
             0.1,
             "#c51b7d"
            ],
            [
             0.2,
             "#de77ae"
            ],
            [
             0.3,
             "#f1b6da"
            ],
            [
             0.4,
             "#fde0ef"
            ],
            [
             0.5,
             "#f7f7f7"
            ],
            [
             0.6,
             "#e6f5d0"
            ],
            [
             0.7,
             "#b8e186"
            ],
            [
             0.8,
             "#7fbc41"
            ],
            [
             0.9,
             "#4d9221"
            ],
            [
             1,
             "#276419"
            ]
           ],
           "sequential": [
            [
             0,
             "#0d0887"
            ],
            [
             0.1111111111111111,
             "#46039f"
            ],
            [
             0.2222222222222222,
             "#7201a8"
            ],
            [
             0.3333333333333333,
             "#9c179e"
            ],
            [
             0.4444444444444444,
             "#bd3786"
            ],
            [
             0.5555555555555556,
             "#d8576b"
            ],
            [
             0.6666666666666666,
             "#ed7953"
            ],
            [
             0.7777777777777778,
             "#fb9f3a"
            ],
            [
             0.8888888888888888,
             "#fdca26"
            ],
            [
             1,
             "#f0f921"
            ]
           ],
           "sequentialminus": [
            [
             0,
             "#0d0887"
            ],
            [
             0.1111111111111111,
             "#46039f"
            ],
            [
             0.2222222222222222,
             "#7201a8"
            ],
            [
             0.3333333333333333,
             "#9c179e"
            ],
            [
             0.4444444444444444,
             "#bd3786"
            ],
            [
             0.5555555555555556,
             "#d8576b"
            ],
            [
             0.6666666666666666,
             "#ed7953"
            ],
            [
             0.7777777777777778,
             "#fb9f3a"
            ],
            [
             0.8888888888888888,
             "#fdca26"
            ],
            [
             1,
             "#f0f921"
            ]
           ]
          },
          "colorway": [
           "#636efa",
           "#EF553B",
           "#00cc96",
           "#ab63fa",
           "#FFA15A",
           "#19d3f3",
           "#FF6692",
           "#B6E880",
           "#FF97FF",
           "#FECB52"
          ],
          "font": {
           "color": "#2a3f5f"
          },
          "geo": {
           "bgcolor": "white",
           "lakecolor": "white",
           "landcolor": "#E5ECF6",
           "showlakes": true,
           "showland": true,
           "subunitcolor": "white"
          },
          "hoverlabel": {
           "align": "left"
          },
          "hovermode": "closest",
          "mapbox": {
           "style": "light"
          },
          "paper_bgcolor": "white",
          "plot_bgcolor": "#E5ECF6",
          "polar": {
           "angularaxis": {
            "gridcolor": "white",
            "linecolor": "white",
            "ticks": ""
           },
           "bgcolor": "#E5ECF6",
           "radialaxis": {
            "gridcolor": "white",
            "linecolor": "white",
            "ticks": ""
           }
          },
          "scene": {
           "xaxis": {
            "backgroundcolor": "#E5ECF6",
            "gridcolor": "white",
            "gridwidth": 2,
            "linecolor": "white",
            "showbackground": true,
            "ticks": "",
            "zerolinecolor": "white"
           },
           "yaxis": {
            "backgroundcolor": "#E5ECF6",
            "gridcolor": "white",
            "gridwidth": 2,
            "linecolor": "white",
            "showbackground": true,
            "ticks": "",
            "zerolinecolor": "white"
           },
           "zaxis": {
            "backgroundcolor": "#E5ECF6",
            "gridcolor": "white",
            "gridwidth": 2,
            "linecolor": "white",
            "showbackground": true,
            "ticks": "",
            "zerolinecolor": "white"
           }
          },
          "shapedefaults": {
           "line": {
            "color": "#2a3f5f"
           }
          },
          "ternary": {
           "aaxis": {
            "gridcolor": "white",
            "linecolor": "white",
            "ticks": ""
           },
           "baxis": {
            "gridcolor": "white",
            "linecolor": "white",
            "ticks": ""
           },
           "bgcolor": "#E5ECF6",
           "caxis": {
            "gridcolor": "white",
            "linecolor": "white",
            "ticks": ""
           }
          },
          "title": {
           "x": 0.05
          },
          "xaxis": {
           "automargin": true,
           "gridcolor": "white",
           "linecolor": "white",
           "ticks": "",
           "title": {
            "standoff": 15
           },
           "zerolinecolor": "white",
           "zerolinewidth": 2
          },
          "yaxis": {
           "automargin": true,
           "gridcolor": "white",
           "linecolor": "white",
           "ticks": "",
           "title": {
            "standoff": 15
           },
           "zerolinecolor": "white",
           "zerolinewidth": 2
          }
         }
        }
       }
      }
     },
     "metadata": {},
     "output_type": "display_data"
    }
   ],
   "source": [
    "# 3D Scatter Plot, Recipe vs. Cuisine\n",
    "# TODO: fix legend labels (has to do with order you add countries to the trace), add title\n",
    "fig2 = make_subplots(rows=1,cols=2,specs=[[{'type':'scene'},{'type':'scene'}]])\n",
    "fig2.append_trace(go.Scatter3d(\n",
    "    x=cuisine_flavor['sweet'],\n",
    "    y=cuisine_flavor['sour'],\n",
    "    z=cuisine_flavor['salty'],\n",
    "    text=cuisine_flavor.index,\n",
    "    mode='markers',\n",
    "    marker=dict(\n",
    "        size=10,\n",
    "        color=px.colors.qualitative.Bold,\n",
    "    )\n",
    "    ),row=1,col=1\n",
    ")\n",
    "fig2.append_trace(go.Scatter3d(\n",
    "    x=cuisine_flavor['piquant'],\n",
    "    y=cuisine_flavor['bitter'],\n",
    "    z=cuisine_flavor['meaty'],\n",
    "    text=cuisine_flavor.index,\n",
    "    mode='markers',\n",
    "    marker=dict(\n",
    "        size=10,\n",
    "        color=px.colors.qualitative.Bold,\n",
    "    )\n",
    "    ),row=1,col=2)\n",
    "fig2.show()"
   ]
  },
  {
   "cell_type": "markdown",
   "id": "7071d645",
   "metadata": {},
   "source": [
    "From this vis. we can see that...\n",
    "* Why is hawaiian food so sweet? Use a visualization"
   ]
  },
  {
   "cell_type": "code",
   "execution_count": 14,
   "id": "e99b5bca",
   "metadata": {},
   "outputs": [],
   "source": [
    "# get top ingredients k that are part of hawaiian ingredients\n",
    "k = 7\n",
    "top_hawaiian_ingredients = {}\n",
    "for id, f_row in food_df.iterrows():\n",
    "    if f_row.Hawaiian == 1:\n",
    "        for ingredient in f_row.ingredients:\n",
    "            if ingredient not in top_hawaiian_ingredients:\n",
    "                top_hawaiian_ingredients[ingredient] = 1\n",
    "            else:\n",
    "                top_hawaiian_ingredients[ingredient] += 1\n",
    "top_hawaiian_ingredients = list(dict(sorted(top_hawaiian_ingredients.items(), key=lambda item: item[1],reverse=True)[:k]).keys())"
   ]
  },
  {
   "cell_type": "code",
   "execution_count": 15,
   "id": "5d23ab71",
   "metadata": {},
   "outputs": [],
   "source": [
    "# find occurences of top k ingredients in all other cuisines\n",
    "hawaiian_ingredient_in_cuisines = pd.DataFrame(columns=top_hawaiian_ingredients,index=CUISINES)\n",
    "hawaiian_ingredient_in_cuisines.iloc[:] = 0\n",
    "for id, f_row in food_df.iterrows():\n",
    "    for hawaiian_ingredient in top_hawaiian_ingredients:\n",
    "        if hawaiian_ingredient in f_row.ingredients: \n",
    "            for cur_cus in CUISINES:\n",
    "                if f_row[cur_cus] == 1:\n",
    "                    hawaiian_ingredient_in_cuisines.loc[cur_cus,hawaiian_ingredient] += 1"
   ]
  },
  {
   "cell_type": "code",
   "execution_count": 16,
   "id": "1b73166d",
   "metadata": {},
   "outputs": [
    {
     "data": {
      "application/vnd.plotly.v1+json": {
       "config": {
        "plotlyServerURL": "https://plot.ly"
       },
       "data": [
        {
         "marker": {
          "color": "#E3B448"
         },
         "name": "Hawaiian",
         "type": "bar",
         "x": [
          "soy sauce",
          "salt",
          "brown sugar",
          "pineapple",
          "pineapple chunks",
          "pineapple juice",
          "corn starch"
         ],
         "y": [
          219,
          187,
          173,
          169,
          125,
          118,
          115
         ]
        },
        {
         "marker": {
          "color": "#3A6B35"
         },
         "name": "Avg. of other Cuisines",
         "type": "bar",
         "x": [
          "soy sauce",
          "salt",
          "brown sugar",
          "pineapple",
          "pineapple chunks",
          "pineapple juice",
          "corn starch"
         ],
         "y": [
          71.05555555555556,
          339.55555555555554,
          41.166666666666664,
          11.38888888888889,
          8.11111111111111,
          7.777777777777778,
          43.22222222222222
         ]
        }
       ],
       "layout": {
        "template": {
         "data": {
          "bar": [
           {
            "error_x": {
             "color": "#2a3f5f"
            },
            "error_y": {
             "color": "#2a3f5f"
            },
            "marker": {
             "line": {
              "color": "#E5ECF6",
              "width": 0.5
             },
             "pattern": {
              "fillmode": "overlay",
              "size": 10,
              "solidity": 0.2
             }
            },
            "type": "bar"
           }
          ],
          "barpolar": [
           {
            "marker": {
             "line": {
              "color": "#E5ECF6",
              "width": 0.5
             },
             "pattern": {
              "fillmode": "overlay",
              "size": 10,
              "solidity": 0.2
             }
            },
            "type": "barpolar"
           }
          ],
          "carpet": [
           {
            "aaxis": {
             "endlinecolor": "#2a3f5f",
             "gridcolor": "white",
             "linecolor": "white",
             "minorgridcolor": "white",
             "startlinecolor": "#2a3f5f"
            },
            "baxis": {
             "endlinecolor": "#2a3f5f",
             "gridcolor": "white",
             "linecolor": "white",
             "minorgridcolor": "white",
             "startlinecolor": "#2a3f5f"
            },
            "type": "carpet"
           }
          ],
          "choropleth": [
           {
            "colorbar": {
             "outlinewidth": 0,
             "ticks": ""
            },
            "type": "choropleth"
           }
          ],
          "contour": [
           {
            "colorbar": {
             "outlinewidth": 0,
             "ticks": ""
            },
            "colorscale": [
             [
              0,
              "#0d0887"
             ],
             [
              0.1111111111111111,
              "#46039f"
             ],
             [
              0.2222222222222222,
              "#7201a8"
             ],
             [
              0.3333333333333333,
              "#9c179e"
             ],
             [
              0.4444444444444444,
              "#bd3786"
             ],
             [
              0.5555555555555556,
              "#d8576b"
             ],
             [
              0.6666666666666666,
              "#ed7953"
             ],
             [
              0.7777777777777778,
              "#fb9f3a"
             ],
             [
              0.8888888888888888,
              "#fdca26"
             ],
             [
              1,
              "#f0f921"
             ]
            ],
            "type": "contour"
           }
          ],
          "contourcarpet": [
           {
            "colorbar": {
             "outlinewidth": 0,
             "ticks": ""
            },
            "type": "contourcarpet"
           }
          ],
          "heatmap": [
           {
            "colorbar": {
             "outlinewidth": 0,
             "ticks": ""
            },
            "colorscale": [
             [
              0,
              "#0d0887"
             ],
             [
              0.1111111111111111,
              "#46039f"
             ],
             [
              0.2222222222222222,
              "#7201a8"
             ],
             [
              0.3333333333333333,
              "#9c179e"
             ],
             [
              0.4444444444444444,
              "#bd3786"
             ],
             [
              0.5555555555555556,
              "#d8576b"
             ],
             [
              0.6666666666666666,
              "#ed7953"
             ],
             [
              0.7777777777777778,
              "#fb9f3a"
             ],
             [
              0.8888888888888888,
              "#fdca26"
             ],
             [
              1,
              "#f0f921"
             ]
            ],
            "type": "heatmap"
           }
          ],
          "heatmapgl": [
           {
            "colorbar": {
             "outlinewidth": 0,
             "ticks": ""
            },
            "colorscale": [
             [
              0,
              "#0d0887"
             ],
             [
              0.1111111111111111,
              "#46039f"
             ],
             [
              0.2222222222222222,
              "#7201a8"
             ],
             [
              0.3333333333333333,
              "#9c179e"
             ],
             [
              0.4444444444444444,
              "#bd3786"
             ],
             [
              0.5555555555555556,
              "#d8576b"
             ],
             [
              0.6666666666666666,
              "#ed7953"
             ],
             [
              0.7777777777777778,
              "#fb9f3a"
             ],
             [
              0.8888888888888888,
              "#fdca26"
             ],
             [
              1,
              "#f0f921"
             ]
            ],
            "type": "heatmapgl"
           }
          ],
          "histogram": [
           {
            "marker": {
             "pattern": {
              "fillmode": "overlay",
              "size": 10,
              "solidity": 0.2
             }
            },
            "type": "histogram"
           }
          ],
          "histogram2d": [
           {
            "colorbar": {
             "outlinewidth": 0,
             "ticks": ""
            },
            "colorscale": [
             [
              0,
              "#0d0887"
             ],
             [
              0.1111111111111111,
              "#46039f"
             ],
             [
              0.2222222222222222,
              "#7201a8"
             ],
             [
              0.3333333333333333,
              "#9c179e"
             ],
             [
              0.4444444444444444,
              "#bd3786"
             ],
             [
              0.5555555555555556,
              "#d8576b"
             ],
             [
              0.6666666666666666,
              "#ed7953"
             ],
             [
              0.7777777777777778,
              "#fb9f3a"
             ],
             [
              0.8888888888888888,
              "#fdca26"
             ],
             [
              1,
              "#f0f921"
             ]
            ],
            "type": "histogram2d"
           }
          ],
          "histogram2dcontour": [
           {
            "colorbar": {
             "outlinewidth": 0,
             "ticks": ""
            },
            "colorscale": [
             [
              0,
              "#0d0887"
             ],
             [
              0.1111111111111111,
              "#46039f"
             ],
             [
              0.2222222222222222,
              "#7201a8"
             ],
             [
              0.3333333333333333,
              "#9c179e"
             ],
             [
              0.4444444444444444,
              "#bd3786"
             ],
             [
              0.5555555555555556,
              "#d8576b"
             ],
             [
              0.6666666666666666,
              "#ed7953"
             ],
             [
              0.7777777777777778,
              "#fb9f3a"
             ],
             [
              0.8888888888888888,
              "#fdca26"
             ],
             [
              1,
              "#f0f921"
             ]
            ],
            "type": "histogram2dcontour"
           }
          ],
          "mesh3d": [
           {
            "colorbar": {
             "outlinewidth": 0,
             "ticks": ""
            },
            "type": "mesh3d"
           }
          ],
          "parcoords": [
           {
            "line": {
             "colorbar": {
              "outlinewidth": 0,
              "ticks": ""
             }
            },
            "type": "parcoords"
           }
          ],
          "pie": [
           {
            "automargin": true,
            "type": "pie"
           }
          ],
          "scatter": [
           {
            "marker": {
             "colorbar": {
              "outlinewidth": 0,
              "ticks": ""
             }
            },
            "type": "scatter"
           }
          ],
          "scatter3d": [
           {
            "line": {
             "colorbar": {
              "outlinewidth": 0,
              "ticks": ""
             }
            },
            "marker": {
             "colorbar": {
              "outlinewidth": 0,
              "ticks": ""
             }
            },
            "type": "scatter3d"
           }
          ],
          "scattercarpet": [
           {
            "marker": {
             "colorbar": {
              "outlinewidth": 0,
              "ticks": ""
             }
            },
            "type": "scattercarpet"
           }
          ],
          "scattergeo": [
           {
            "marker": {
             "colorbar": {
              "outlinewidth": 0,
              "ticks": ""
             }
            },
            "type": "scattergeo"
           }
          ],
          "scattergl": [
           {
            "marker": {
             "colorbar": {
              "outlinewidth": 0,
              "ticks": ""
             }
            },
            "type": "scattergl"
           }
          ],
          "scattermapbox": [
           {
            "marker": {
             "colorbar": {
              "outlinewidth": 0,
              "ticks": ""
             }
            },
            "type": "scattermapbox"
           }
          ],
          "scatterpolar": [
           {
            "marker": {
             "colorbar": {
              "outlinewidth": 0,
              "ticks": ""
             }
            },
            "type": "scatterpolar"
           }
          ],
          "scatterpolargl": [
           {
            "marker": {
             "colorbar": {
              "outlinewidth": 0,
              "ticks": ""
             }
            },
            "type": "scatterpolargl"
           }
          ],
          "scatterternary": [
           {
            "marker": {
             "colorbar": {
              "outlinewidth": 0,
              "ticks": ""
             }
            },
            "type": "scatterternary"
           }
          ],
          "surface": [
           {
            "colorbar": {
             "outlinewidth": 0,
             "ticks": ""
            },
            "colorscale": [
             [
              0,
              "#0d0887"
             ],
             [
              0.1111111111111111,
              "#46039f"
             ],
             [
              0.2222222222222222,
              "#7201a8"
             ],
             [
              0.3333333333333333,
              "#9c179e"
             ],
             [
              0.4444444444444444,
              "#bd3786"
             ],
             [
              0.5555555555555556,
              "#d8576b"
             ],
             [
              0.6666666666666666,
              "#ed7953"
             ],
             [
              0.7777777777777778,
              "#fb9f3a"
             ],
             [
              0.8888888888888888,
              "#fdca26"
             ],
             [
              1,
              "#f0f921"
             ]
            ],
            "type": "surface"
           }
          ],
          "table": [
           {
            "cells": {
             "fill": {
              "color": "#EBF0F8"
             },
             "line": {
              "color": "white"
             }
            },
            "header": {
             "fill": {
              "color": "#C8D4E3"
             },
             "line": {
              "color": "white"
             }
            },
            "type": "table"
           }
          ]
         },
         "layout": {
          "annotationdefaults": {
           "arrowcolor": "#2a3f5f",
           "arrowhead": 0,
           "arrowwidth": 1
          },
          "autotypenumbers": "strict",
          "coloraxis": {
           "colorbar": {
            "outlinewidth": 0,
            "ticks": ""
           }
          },
          "colorscale": {
           "diverging": [
            [
             0,
             "#8e0152"
            ],
            [
             0.1,
             "#c51b7d"
            ],
            [
             0.2,
             "#de77ae"
            ],
            [
             0.3,
             "#f1b6da"
            ],
            [
             0.4,
             "#fde0ef"
            ],
            [
             0.5,
             "#f7f7f7"
            ],
            [
             0.6,
             "#e6f5d0"
            ],
            [
             0.7,
             "#b8e186"
            ],
            [
             0.8,
             "#7fbc41"
            ],
            [
             0.9,
             "#4d9221"
            ],
            [
             1,
             "#276419"
            ]
           ],
           "sequential": [
            [
             0,
             "#0d0887"
            ],
            [
             0.1111111111111111,
             "#46039f"
            ],
            [
             0.2222222222222222,
             "#7201a8"
            ],
            [
             0.3333333333333333,
             "#9c179e"
            ],
            [
             0.4444444444444444,
             "#bd3786"
            ],
            [
             0.5555555555555556,
             "#d8576b"
            ],
            [
             0.6666666666666666,
             "#ed7953"
            ],
            [
             0.7777777777777778,
             "#fb9f3a"
            ],
            [
             0.8888888888888888,
             "#fdca26"
            ],
            [
             1,
             "#f0f921"
            ]
           ],
           "sequentialminus": [
            [
             0,
             "#0d0887"
            ],
            [
             0.1111111111111111,
             "#46039f"
            ],
            [
             0.2222222222222222,
             "#7201a8"
            ],
            [
             0.3333333333333333,
             "#9c179e"
            ],
            [
             0.4444444444444444,
             "#bd3786"
            ],
            [
             0.5555555555555556,
             "#d8576b"
            ],
            [
             0.6666666666666666,
             "#ed7953"
            ],
            [
             0.7777777777777778,
             "#fb9f3a"
            ],
            [
             0.8888888888888888,
             "#fdca26"
            ],
            [
             1,
             "#f0f921"
            ]
           ]
          },
          "colorway": [
           "#636efa",
           "#EF553B",
           "#00cc96",
           "#ab63fa",
           "#FFA15A",
           "#19d3f3",
           "#FF6692",
           "#B6E880",
           "#FF97FF",
           "#FECB52"
          ],
          "font": {
           "color": "#2a3f5f"
          },
          "geo": {
           "bgcolor": "white",
           "lakecolor": "white",
           "landcolor": "#E5ECF6",
           "showlakes": true,
           "showland": true,
           "subunitcolor": "white"
          },
          "hoverlabel": {
           "align": "left"
          },
          "hovermode": "closest",
          "mapbox": {
           "style": "light"
          },
          "paper_bgcolor": "white",
          "plot_bgcolor": "#E5ECF6",
          "polar": {
           "angularaxis": {
            "gridcolor": "white",
            "linecolor": "white",
            "ticks": ""
           },
           "bgcolor": "#E5ECF6",
           "radialaxis": {
            "gridcolor": "white",
            "linecolor": "white",
            "ticks": ""
           }
          },
          "scene": {
           "xaxis": {
            "backgroundcolor": "#E5ECF6",
            "gridcolor": "white",
            "gridwidth": 2,
            "linecolor": "white",
            "showbackground": true,
            "ticks": "",
            "zerolinecolor": "white"
           },
           "yaxis": {
            "backgroundcolor": "#E5ECF6",
            "gridcolor": "white",
            "gridwidth": 2,
            "linecolor": "white",
            "showbackground": true,
            "ticks": "",
            "zerolinecolor": "white"
           },
           "zaxis": {
            "backgroundcolor": "#E5ECF6",
            "gridcolor": "white",
            "gridwidth": 2,
            "linecolor": "white",
            "showbackground": true,
            "ticks": "",
            "zerolinecolor": "white"
           }
          },
          "shapedefaults": {
           "line": {
            "color": "#2a3f5f"
           }
          },
          "ternary": {
           "aaxis": {
            "gridcolor": "white",
            "linecolor": "white",
            "ticks": ""
           },
           "baxis": {
            "gridcolor": "white",
            "linecolor": "white",
            "ticks": ""
           },
           "bgcolor": "#E5ECF6",
           "caxis": {
            "gridcolor": "white",
            "linecolor": "white",
            "ticks": ""
           }
          },
          "title": {
           "x": 0.05
          },
          "xaxis": {
           "automargin": true,
           "gridcolor": "white",
           "linecolor": "white",
           "ticks": "",
           "title": {
            "standoff": 15
           },
           "zerolinecolor": "white",
           "zerolinewidth": 2
          },
          "yaxis": {
           "automargin": true,
           "gridcolor": "white",
           "linecolor": "white",
           "ticks": "",
           "title": {
            "standoff": 15
           },
           "zerolinecolor": "white",
           "zerolinewidth": 2
          }
         }
        }
       }
      }
     },
     "metadata": {},
     "output_type": "display_data"
    }
   ],
   "source": [
    "top_hawaiian_ingredients = hawaiian_ingredient_in_cuisines.loc['Hawaiian']\n",
    "hawaiian_ingredient_in_cuisines.drop('Hawaiian')\n",
    "fig4 = go.Figure(data=[\n",
    "    go.Bar(name='Hawaiian', \n",
    "        x=top_hawaiian_ingredients.keys(), \n",
    "        y=top_hawaiian_ingredients,\n",
    "        marker=dict(\n",
    "            color='#E3B448',\n",
    "        )\n",
    "    ),\n",
    "    go.Bar(name='Avg. of other Cuisines', \n",
    "        x=hawaiian_ingredient_in_cuisines.keys(), \n",
    "        y=hawaiian_ingredient_in_cuisines.mean(axis=0),\n",
    "        marker=dict(\n",
    "            color='#3A6B35',\n",
    "        )\n",
    "    )\n",
    "])\n",
    "fig4.show()"
   ]
  },
  {
   "cell_type": "markdown",
   "id": "e646ec0c",
   "metadata": {},
   "source": [
    "TODO: Analysis for Hawaiian Sweetness"
   ]
  },
  {
   "cell_type": "markdown",
   "id": "836ac99c",
   "metadata": {},
   "source": [
    "## Ingredients and Flavor"
   ]
  },
  {
   "cell_type": "code",
   "execution_count": 17,
   "id": "9e4c0a74",
   "metadata": {},
   "outputs": [
    {
     "name": "stdout",
     "output_type": "stream",
     "text": [
      "piquant    worcestershire sauce\n",
      "dtype: object\n",
      "meaty    rib eye steaks\n",
      "dtype: object\n",
      "bitter    diced ham\n",
      "dtype: object\n",
      "sweet    bbq sauce\n",
      "dtype: object\n",
      "sour    yellow peppers\n",
      "dtype: object\n",
      "salty    hot dog buns\n",
      "dtype: object\n"
     ]
    },
    {
     "data": {
      "text/html": [
       "<div>\n",
       "<style scoped>\n",
       "    .dataframe tbody tr th:only-of-type {\n",
       "        vertical-align: middle;\n",
       "    }\n",
       "\n",
       "    .dataframe tbody tr th {\n",
       "        vertical-align: top;\n",
       "    }\n",
       "\n",
       "    .dataframe thead th {\n",
       "        text-align: right;\n",
       "    }\n",
       "</style>\n",
       "<table border=\"1\" class=\"dataframe\">\n",
       "  <thead>\n",
       "    <tr style=\"text-align: right;\">\n",
       "      <th></th>\n",
       "      <th>piquant</th>\n",
       "      <th>meaty</th>\n",
       "      <th>bitter</th>\n",
       "      <th>sweet</th>\n",
       "      <th>sour</th>\n",
       "      <th>salty</th>\n",
       "    </tr>\n",
       "  </thead>\n",
       "  <tbody>\n",
       "    <tr>\n",
       "      <th>dried pasta</th>\n",
       "      <td>0.111111</td>\n",
       "      <td>0.444444</td>\n",
       "      <td>0.277778</td>\n",
       "      <td>0.177778</td>\n",
       "      <td>0.355556</td>\n",
       "      <td>0.400000</td>\n",
       "    </tr>\n",
       "    <tr>\n",
       "      <th>milk</th>\n",
       "      <td>0.230501</td>\n",
       "      <td>0.398793</td>\n",
       "      <td>0.415738</td>\n",
       "      <td>0.194058</td>\n",
       "      <td>0.337047</td>\n",
       "      <td>0.522052</td>\n",
       "    </tr>\n",
       "    <tr>\n",
       "      <th>shredded cheddar cheese</th>\n",
       "      <td>0.547074</td>\n",
       "      <td>0.442748</td>\n",
       "      <td>0.589059</td>\n",
       "      <td>0.206107</td>\n",
       "      <td>0.409669</td>\n",
       "      <td>0.625954</td>\n",
       "    </tr>\n",
       "    <tr>\n",
       "      <th>salt</th>\n",
       "      <td>0.266009</td>\n",
       "      <td>0.382381</td>\n",
       "      <td>0.407343</td>\n",
       "      <td>0.205210</td>\n",
       "      <td>0.445939</td>\n",
       "      <td>0.480264</td>\n",
       "    </tr>\n",
       "    <tr>\n",
       "      <th>dijon mustard</th>\n",
       "      <td>0.344246</td>\n",
       "      <td>0.450893</td>\n",
       "      <td>0.410714</td>\n",
       "      <td>0.208333</td>\n",
       "      <td>0.425595</td>\n",
       "      <td>0.500992</td>\n",
       "    </tr>\n",
       "  </tbody>\n",
       "</table>\n",
       "</div>"
      ],
      "text/plain": [
       "                          piquant     meaty    bitter     sweet      sour  \\\n",
       "dried pasta              0.111111  0.444444  0.277778  0.177778  0.355556   \n",
       "milk                     0.230501  0.398793  0.415738  0.194058  0.337047   \n",
       "shredded cheddar cheese  0.547074  0.442748  0.589059  0.206107  0.409669   \n",
       "salt                     0.266009  0.382381  0.407343  0.205210  0.445939   \n",
       "dijon mustard            0.344246  0.450893  0.410714  0.208333  0.425595   \n",
       "\n",
       "                            salty  \n",
       "dried pasta              0.400000  \n",
       "milk                     0.522052  \n",
       "shredded cheddar cheese  0.625954  \n",
       "salt                     0.480264  \n",
       "dijon mustard            0.500992  "
      ]
     },
     "execution_count": 17,
     "metadata": {},
     "output_type": "execute_result"
    }
   ],
   "source": [
    "for flavor in FLAVORS:\n",
    "    print(ingredient_df.loc[:, [flavor]].idxmax())\n",
    "ingredient_df.head()"
   ]
  },
  {
   "cell_type": "markdown",
   "id": "32ab4973",
   "metadata": {},
   "source": [
    "# Statistical Analysis"
   ]
  },
  {
   "cell_type": "markdown",
   "id": "429f6a48",
   "metadata": {},
   "source": [
    "# K-Nearest Neighbors Classifier"
   ]
  },
  {
   "cell_type": "code",
   "execution_count": 18,
   "id": "f04415ff",
   "metadata": {},
   "outputs": [
    {
     "data": {
      "text/plain": [
       "['American', 'Hawaiian', 'Mexican']"
      ]
     },
     "execution_count": 18,
     "metadata": {},
     "output_type": "execute_result"
    }
   ],
   "source": [
    "#ML STUFF\n",
    "# [0.15,0.1,0.05,0.4,0.35,0.65]\n",
    "# {\"piquant\": 0.6666666666666666, \"meaty\": 0.3333333333333333, \"bitter\": 0.8333333333333334, \"sweet\": 0.6666666666666666, \"sour\": 0.16666666666666666, \"salty\": 0.8333333333333334}\n",
    "# [0.6666666666666666,0.3333333333333333,0.8333333333333334,0.6666666666666666,0.16666666666666666,0.8333333333333334]\n",
    "def multiKNN(end: int):\n",
    "    neighbordata = food_df.loc[:, FLAVORS].values.tolist()\n",
    "    def knn(unknown, data, neighbors: int):\n",
    "        classifier = NearestNeighbors(n_neighbors=neighbors)\n",
    "        classifier.fit(data)\n",
    "        return classifier.kneighbors([unknown], return_distance=False)\n",
    "\n",
    "    countCuisines = []\n",
    "    for i in range(1, end):\n",
    "        closestpts = knn([0.6666666666666666,0.3333333333333333,0.8333333333333334,0.6666666666666666,0.16666666666666666,0.8333333333333334], neighbordata, i)\n",
    "        finalCuisine = dict(zip(CUISINES, [0] * len(CUISINES)))\n",
    "\n",
    "        for listFoods in closestpts:\n",
    "            for food in listFoods:\n",
    "                cuisineList = food_df.iloc[food, food_df.columns.get_loc(\"cuisine\")]\n",
    "                for cuisine in cuisineList:\n",
    "                    finalCuisine[cuisine] += 1/len(cuisineList)\n",
    "\n",
    "        typefood = [key for key, value in finalCuisine.items() if value == max(finalCuisine.values())]\n",
    "        countCuisines.append(typefood)\n",
    "    return countCuisines\n",
    "\n",
    "numFinalNeighbors = 20\n",
    "total = multiKNN(numFinalNeighbors)\n",
    "finalfinalCuisine = dict(zip(CUISINES, [0] * len(CUISINES)))\n",
    "\n",
    "for resultsList in total:\n",
    "    for cuisine in resultsList:\n",
    "        finalfinalCuisine[cuisine]+=1\n",
    "\n",
    "end = [key for key, value in finalfinalCuisine.items() if (value == max(finalfinalCuisine.values()) or abs(value-max(finalfinalCuisine.values()))<=numFinalNeighbors//10)]\n",
    "end"
   ]
  },
  {
   "cell_type": "code",
   "execution_count": null,
   "id": "5b1eb4a5",
   "metadata": {},
   "outputs": [],
   "source": []
  },
  {
   "cell_type": "code",
   "execution_count": null,
   "id": "3ef72753",
   "metadata": {},
   "outputs": [],
   "source": []
  }
 ],
 "metadata": {
  "kernelspec": {
   "display_name": "Python 3.9.12 ('base')",
   "language": "python",
   "name": "python3"
  },
  "language_info": {
   "codemirror_mode": {
    "name": "ipython",
    "version": 3
   },
   "file_extension": ".py",
   "mimetype": "text/x-python",
   "name": "python",
   "nbconvert_exporter": "python",
   "pygments_lexer": "ipython3",
   "version": "3.9.12"
  },
  "vscode": {
   "interpreter": {
    "hash": "984227874f9940044bd041d1cfd0308eaa8d40441275bc1d127b1a36c49d1f76"
   }
  }
 },
 "nbformat": 4,
 "nbformat_minor": 5
}

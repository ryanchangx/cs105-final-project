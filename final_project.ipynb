{
 "cells": [
  {
   "cell_type": "markdown",
   "id": "50d2ff0e",
   "metadata": {},
   "source": [
    "# Project: Cuisine Classified\n",
    "Authors: \n",
    "* Ryan Chang - rchan123\n",
    "* Ryan Chandler - rchan129\n",
    "* Kunal Mittal - kmitt006\n",
    "* Fiorello Estuar - festu001\n",
    "* Kiet Lam - klam073"
   ]
  },
  {
   "cell_type": "markdown",
   "id": "6d9624b3",
   "metadata": {},
   "source": [
    "# Description\n",
    "\n",
    "This project aims to analyze the relationships between various flavors found in different foods and the cuisines that they are prominent in. "
   ]
  },
  {
   "cell_type": "markdown",
   "id": "935d68cb",
   "metadata": {},
   "source": [
    "# Reading/Cleaning Data\n",
    "This section handles any cleaning/pre-processing of data such that analysis can take place."
   ]
  },
  {
   "cell_type": "markdown",
   "id": "b17e337a",
   "metadata": {},
   "source": [
    "## Reading"
   ]
  },
  {
   "cell_type": "code",
   "execution_count": 1,
   "id": "9589e80f",
   "metadata": {},
   "outputs": [],
   "source": [
    "# importing libraries\n",
    "import numpy as np\n",
    "import pandas as pd\n",
    "from sklearn.neighbors import KNeighborsClassifier\n",
    "import json, os"
   ]
  },
  {
   "cell_type": "code",
   "execution_count": 2,
   "id": "b4df4616-b6cb-4321-906a-a811f4061db2",
   "metadata": {},
   "outputs": [],
   "source": [
    "# Reading in the data\n",
    "food_list_folder = 'data/lists/'\n",
    "food_list_jsons = [food_json for food_json in os.listdir(food_list_folder) if food_json.endswith('.json')]\n",
    "\n",
    "food_df = pd.DataFrame(columns=['recipeName','ingredients','cuisine','flavors'])\n",
    "\n",
    "for index, js in enumerate(food_list_jsons):\n",
    "    with open(os.path.join(food_list_folder, js)) as food_list_file:\n",
    "        food_json = json.load(food_list_file)\n",
    "        num_items = len(food_json['matches'])\n",
    "        for idx in range(0,num_items):\n",
    "            f_obj = food_json['matches'][idx]\n",
    "            f_id = f_obj['id']\n",
    "            f_recipeName = f_obj['recipeName']\n",
    "            f_ingredients = f_obj['ingredients']\n",
    "            f_cuisine = f_obj['attributes']['cuisine']\n",
    "            f_flavors = f_obj['flavors']\n",
    "            food_df.loc[f_id] =  np.array([f_recipeName,f_ingredients,f_cuisine,f_flavors],dtype=object)"
   ]
  },
  {
   "cell_type": "markdown",
   "id": "c5e98f0a",
   "metadata": {},
   "source": [
    "## Cleaning"
   ]
  },
  {
   "cell_type": "code",
   "execution_count": 3,
   "id": "bc9ba5c1-2105-4fd5-98e0-f5a2d4f3963e",
   "metadata": {},
   "outputs": [
    {
     "data": {
      "text/html": [
       "<div>\n",
       "<style scoped>\n",
       "    .dataframe tbody tr th:only-of-type {\n",
       "        vertical-align: middle;\n",
       "    }\n",
       "\n",
       "    .dataframe tbody tr th {\n",
       "        vertical-align: top;\n",
       "    }\n",
       "\n",
       "    .dataframe thead th {\n",
       "        text-align: right;\n",
       "    }\n",
       "</style>\n",
       "<table border=\"1\" class=\"dataframe\">\n",
       "  <thead>\n",
       "    <tr style=\"text-align: right;\">\n",
       "      <th></th>\n",
       "      <th>recipeName</th>\n",
       "      <th>ingredients</th>\n",
       "      <th>cuisine</th>\n",
       "      <th>flavors</th>\n",
       "    </tr>\n",
       "  </thead>\n",
       "  <tbody>\n",
       "    <tr>\n",
       "      <th>Revolutionary-Mac-_-Cheese-1048867</th>\n",
       "      <td>Revolutionary Mac &amp; Cheese</td>\n",
       "      <td>[dried pasta, milk, shredded cheddar cheese, s...</td>\n",
       "      <td>[Kid-Friendly, Italian, American]</td>\n",
       "      <td>{'piquant': 0.16666666666666666, 'meaty': 0.16...</td>\n",
       "    </tr>\n",
       "    <tr>\n",
       "      <th>Chicago-Chicken-822419</th>\n",
       "      <td>Chicago Chicken</td>\n",
       "      <td>[jalapeno chilies, lemon, dried oregano, olive...</td>\n",
       "      <td>[Barbecue, American]</td>\n",
       "      <td>{'piquant': 0.8333333333333334, 'meaty': 0.666...</td>\n",
       "    </tr>\n",
       "    <tr>\n",
       "      <th>Chicken-Avocado-Burgers-1031197</th>\n",
       "      <td>Chicken Avocado Burgers</td>\n",
       "      <td>[ground chicken, avocado, chopped garlic, pank...</td>\n",
       "      <td>[Barbecue, Mexican, American]</td>\n",
       "      <td>{'piquant': 0.6666666666666666, 'meaty': 1.0, ...</td>\n",
       "    </tr>\n",
       "    <tr>\n",
       "      <th>Best-Basic-Burger-500667</th>\n",
       "      <td>Best Basic Burger</td>\n",
       "      <td>[ground beef, eggs, salt, ground black pepper,...</td>\n",
       "      <td>[Barbecue, American]</td>\n",
       "      <td>{'piquant': 0.8333333333333334, 'meaty': 0.833...</td>\n",
       "    </tr>\n",
       "    <tr>\n",
       "      <th>Easy-garlic-and-lemon-shrimp-309257</th>\n",
       "      <td>Easy Garlic and Lemon Shrimp</td>\n",
       "      <td>[jumbo shrimp, olive oil, butter, minced garli...</td>\n",
       "      <td>[Barbecue, Italian, Asian, American]</td>\n",
       "      <td>{'piquant': 0.0, 'meaty': 0.8333333333333334, ...</td>\n",
       "    </tr>\n",
       "  </tbody>\n",
       "</table>\n",
       "</div>"
      ],
      "text/plain": [
       "                                                       recipeName  \\\n",
       "Revolutionary-Mac-_-Cheese-1048867     Revolutionary Mac & Cheese   \n",
       "Chicago-Chicken-822419                            Chicago Chicken   \n",
       "Chicken-Avocado-Burgers-1031197           Chicken Avocado Burgers   \n",
       "Best-Basic-Burger-500667                        Best Basic Burger   \n",
       "Easy-garlic-and-lemon-shrimp-309257  Easy Garlic and Lemon Shrimp   \n",
       "\n",
       "                                                                           ingredients  \\\n",
       "Revolutionary-Mac-_-Cheese-1048867   [dried pasta, milk, shredded cheddar cheese, s...   \n",
       "Chicago-Chicken-822419               [jalapeno chilies, lemon, dried oregano, olive...   \n",
       "Chicken-Avocado-Burgers-1031197      [ground chicken, avocado, chopped garlic, pank...   \n",
       "Best-Basic-Burger-500667             [ground beef, eggs, salt, ground black pepper,...   \n",
       "Easy-garlic-and-lemon-shrimp-309257  [jumbo shrimp, olive oil, butter, minced garli...   \n",
       "\n",
       "                                                                  cuisine  \\\n",
       "Revolutionary-Mac-_-Cheese-1048867      [Kid-Friendly, Italian, American]   \n",
       "Chicago-Chicken-822419                               [Barbecue, American]   \n",
       "Chicken-Avocado-Burgers-1031197             [Barbecue, Mexican, American]   \n",
       "Best-Basic-Burger-500667                             [Barbecue, American]   \n",
       "Easy-garlic-and-lemon-shrimp-309257  [Barbecue, Italian, Asian, American]   \n",
       "\n",
       "                                                                               flavors  \n",
       "Revolutionary-Mac-_-Cheese-1048867   {'piquant': 0.16666666666666666, 'meaty': 0.16...  \n",
       "Chicago-Chicken-822419               {'piquant': 0.8333333333333334, 'meaty': 0.666...  \n",
       "Chicken-Avocado-Burgers-1031197      {'piquant': 0.6666666666666666, 'meaty': 1.0, ...  \n",
       "Best-Basic-Burger-500667             {'piquant': 0.8333333333333334, 'meaty': 0.833...  \n",
       "Easy-garlic-and-lemon-shrimp-309257  {'piquant': 0.0, 'meaty': 0.8333333333333334, ...  "
      ]
     },
     "execution_count": 3,
     "metadata": {},
     "output_type": "execute_result"
    }
   ],
   "source": [
    "# dropping all rows that do not have labels\n",
    "food_df = food_df[food_df['flavors'].notna()]\n",
    "food_df.head()"
   ]
  },
  {
   "cell_type": "code",
   "execution_count": 4,
   "id": "51c40d2b",
   "metadata": {},
   "outputs": [],
   "source": [
    "# clean the flavors\n",
    "flavor_dict = {'piquant': [], 'meaty': [], 'bitter': [], 'sweet': [], 'sour': [], 'salty': []}\n",
    "for flavors in food_df.flavors:    \n",
    "    for specificFlavor in flavors:\n",
    "        flavor_dict[specificFlavor].append(flavors[specificFlavor])\n",
    "\n",
    "for flavorKey in flavor_dict:\n",
    "    try:\n",
    "        food_df.insert(len(food_df.columns), flavorKey, flavor_dict[flavorKey])\n",
    "    except:\n",
    "        pass\n",
    "\n",
    "food_df.head()\n",
    "food_df.drop(columns = [\"flavors\"], inplace=True)"
   ]
  },
  {
   "cell_type": "code",
   "execution_count": 5,
   "id": "4ad7f2ec",
   "metadata": {},
   "outputs": [],
   "source": [
    "# clean the cuisines, give each it's own column and label 0 or 1 based on presence\n"
   ]
  },
  {
   "cell_type": "markdown",
   "id": "84727b57",
   "metadata": {},
   "source": [
    "# Elementary Data Analysis"
   ]
  },
  {
   "cell_type": "code",
   "execution_count": 6,
   "id": "8ad07f10-c603-41f8-9c67-30223b8c36f6",
   "metadata": {},
   "outputs": [],
   "source": [
    "# flavor\n",
    "#   v1. MMM - using every recipe together at first (broken down by cuisine)\n",
    "#       - flavors: broken down into the 6 categories\n",
    "#   v2. which are the top n cuisines (frequency) in the dataset\n",
    "#   v3. for each of the cuisines, visualize the flavors - spider graph\n",
    "#   v4. ??? \n",
    "\n",
    "# ingredients\n",
    "#   v1. MMM\n",
    "#   v2. \n"
   ]
  },
  {
   "cell_type": "code",
   "execution_count": null,
   "id": "f04415ff",
   "metadata": {},
   "outputs": [],
   "source": []
  }
 ],
 "metadata": {
  "kernelspec": {
   "display_name": "Python 3.9.12 ('base')",
   "language": "python",
   "name": "python3"
  },
  "language_info": {
   "codemirror_mode": {
    "name": "ipython",
    "version": 3
   },
   "file_extension": ".py",
   "mimetype": "text/x-python",
   "name": "python",
   "nbconvert_exporter": "python",
   "pygments_lexer": "ipython3",
   "version": "3.9.12"
  },
  "vscode": {
   "interpreter": {
    "hash": "984227874f9940044bd041d1cfd0308eaa8d40441275bc1d127b1a36c49d1f76"
   }
  }
 },
 "nbformat": 4,
 "nbformat_minor": 5
}
